{
 "cells": [
  {
   "cell_type": "markdown",
   "id": "36232fc7",
   "metadata": {},
   "source": [
    "# CA 4"
   ]
  },
  {
   "cell_type": "markdown",
   "id": "0f5a61c6",
   "metadata": {},
   "source": [
    "### The purpose of this project is to learn machine learning methods with Scikit-Learn library."
   ]
  },
  {
   "cell_type": "markdown",
   "id": "137a8211",
   "metadata": {},
   "source": [
    "# Imports"
   ]
  },
  {
   "cell_type": "code",
   "execution_count": 26,
   "id": "9c175d80",
   "metadata": {},
   "outputs": [],
   "source": [
    "import numpy as np\n",
    "import pandas as pd\n",
    "from sklearn.preprocessing import LabelEncoder"
   ]
  },
  {
   "cell_type": "markdown",
   "id": "4c6cff26",
   "metadata": {},
   "source": [
    "# Body"
   ]
  },
  {
   "cell_type": "markdown",
   "id": "8f01dd5a",
   "metadata": {},
   "source": [
    "# Phase 0 : Data Analysis"
   ]
  },
  {
   "cell_type": "code",
   "execution_count": 27,
   "id": "90673d3b",
   "metadata": {},
   "outputs": [],
   "source": [
    "df = pd.read_csv(\"dataset.csv\")"
   ]
  },
  {
   "cell_type": "code",
   "execution_count": 28,
   "id": "ac19f759",
   "metadata": {},
   "outputs": [
    {
     "data": {
      "text/html": [
       "<div>\n",
       "<style scoped>\n",
       "    .dataframe tbody tr th:only-of-type {\n",
       "        vertical-align: middle;\n",
       "    }\n",
       "\n",
       "    .dataframe tbody tr th {\n",
       "        vertical-align: top;\n",
       "    }\n",
       "\n",
       "    .dataframe thead th {\n",
       "        text-align: right;\n",
       "    }\n",
       "</style>\n",
       "<table border=\"1\" class=\"dataframe\">\n",
       "  <thead>\n",
       "    <tr style=\"text-align: right;\">\n",
       "      <th></th>\n",
       "      <th>type</th>\n",
       "      <th>title</th>\n",
       "      <th>cast</th>\n",
       "      <th>country</th>\n",
       "      <th>release_year</th>\n",
       "      <th>listed_in</th>\n",
       "      <th>description</th>\n",
       "    </tr>\n",
       "  </thead>\n",
       "  <tbody>\n",
       "    <tr>\n",
       "      <th>0</th>\n",
       "      <td>Movie</td>\n",
       "      <td>Dick Johnson Is Dead</td>\n",
       "      <td>NaN</td>\n",
       "      <td>United States</td>\n",
       "      <td>2020</td>\n",
       "      <td>Documentaries</td>\n",
       "      <td>As her father nears the end of his life, filmm...</td>\n",
       "    </tr>\n",
       "    <tr>\n",
       "      <th>1</th>\n",
       "      <td>TV Show</td>\n",
       "      <td>Blood &amp; Water</td>\n",
       "      <td>Ama Qamata, Khosi Ngema, Gail Mabalane, Thaban...</td>\n",
       "      <td>South Africa</td>\n",
       "      <td>2021</td>\n",
       "      <td>International TV Shows, TV Dramas, TV Mysteries</td>\n",
       "      <td>After crossing paths at a party, a Cape Town t...</td>\n",
       "    </tr>\n",
       "    <tr>\n",
       "      <th>2</th>\n",
       "      <td>TV Show</td>\n",
       "      <td>Ganglands</td>\n",
       "      <td>Sami Bouajila, Tracy Gotoas, Samuel Jouy, Nabi...</td>\n",
       "      <td>NaN</td>\n",
       "      <td>2021</td>\n",
       "      <td>Crime TV Shows, International TV Shows, TV Act...</td>\n",
       "      <td>To protect his family from a powerful drug lor...</td>\n",
       "    </tr>\n",
       "    <tr>\n",
       "      <th>3</th>\n",
       "      <td>TV Show</td>\n",
       "      <td>Jailbirds New Orleans</td>\n",
       "      <td>NaN</td>\n",
       "      <td>NaN</td>\n",
       "      <td>2021</td>\n",
       "      <td>Docuseries, Reality TV</td>\n",
       "      <td>Feuds, flirtations and toilet talk go down amo...</td>\n",
       "    </tr>\n",
       "    <tr>\n",
       "      <th>4</th>\n",
       "      <td>TV Show</td>\n",
       "      <td>Kota Factory</td>\n",
       "      <td>Mayur More, Jitendra Kumar, Ranjan Raj, Alam K...</td>\n",
       "      <td>India</td>\n",
       "      <td>2021</td>\n",
       "      <td>International TV Shows, Romantic TV Shows, TV ...</td>\n",
       "      <td>In a city of coaching centers known to train I...</td>\n",
       "    </tr>\n",
       "    <tr>\n",
       "      <th>...</th>\n",
       "      <td>...</td>\n",
       "      <td>...</td>\n",
       "      <td>...</td>\n",
       "      <td>...</td>\n",
       "      <td>...</td>\n",
       "      <td>...</td>\n",
       "      <td>...</td>\n",
       "    </tr>\n",
       "    <tr>\n",
       "      <th>11054</th>\n",
       "      <td>TV Show</td>\n",
       "      <td>X-Men: Evolution</td>\n",
       "      <td>Noel Fisher, Vincent Gale, Christopher Judge, ...</td>\n",
       "      <td>United States</td>\n",
       "      <td>2000</td>\n",
       "      <td>Action-Adventure, Animation, Kids</td>\n",
       "      <td>X-Men: Evolution features the team as teenager...</td>\n",
       "    </tr>\n",
       "    <tr>\n",
       "      <th>11055</th>\n",
       "      <td>TV Show</td>\n",
       "      <td>Smart Guy</td>\n",
       "      <td>Tahj Mowry, John Jones, Jason Weaver, Essence ...</td>\n",
       "      <td>United States</td>\n",
       "      <td>1996</td>\n",
       "      <td>Comedy, Coming of Age, Kids</td>\n",
       "      <td>A genius tries to fit in as a high school soph...</td>\n",
       "    </tr>\n",
       "    <tr>\n",
       "      <th>11056</th>\n",
       "      <td>TV Show</td>\n",
       "      <td>Disney Kirby Buckets</td>\n",
       "      <td>Jacob Bertrand, Mekai Curtis, Cade Sutton, Oli...</td>\n",
       "      <td>United States</td>\n",
       "      <td>2014</td>\n",
       "      <td>Action-Adventure, Comedy, Coming of Age</td>\n",
       "      <td>Welcome to Kirby's world! It's rude and sketchy.</td>\n",
       "    </tr>\n",
       "    <tr>\n",
       "      <th>11057</th>\n",
       "      <td>TV Show</td>\n",
       "      <td>Disney Mech-X4</td>\n",
       "      <td>Nathaniel Potvin, Raymond Cham, Kamran Lucas, ...</td>\n",
       "      <td>Canada</td>\n",
       "      <td>2016</td>\n",
       "      <td>Action-Adventure, Comedy, Science Fiction</td>\n",
       "      <td>Ryan discovers his ability to control a giant ...</td>\n",
       "    </tr>\n",
       "    <tr>\n",
       "      <th>11058</th>\n",
       "      <td>TV Show</td>\n",
       "      <td>Imagination Movers</td>\n",
       "      <td>Rich Collins, Dave Poche, Scott Durbin, Scott ...</td>\n",
       "      <td>United States</td>\n",
       "      <td>2008</td>\n",
       "      <td>Kids, Music</td>\n",
       "      <td>Rock out with the Imagination Movers, Disney J...</td>\n",
       "    </tr>\n",
       "  </tbody>\n",
       "</table>\n",
       "<p>11059 rows × 7 columns</p>\n",
       "</div>"
      ],
      "text/plain": [
       "          type                  title  \\\n",
       "0        Movie   Dick Johnson Is Dead   \n",
       "1      TV Show          Blood & Water   \n",
       "2      TV Show              Ganglands   \n",
       "3      TV Show  Jailbirds New Orleans   \n",
       "4      TV Show           Kota Factory   \n",
       "...        ...                    ...   \n",
       "11054  TV Show       X-Men: Evolution   \n",
       "11055  TV Show              Smart Guy   \n",
       "11056  TV Show   Disney Kirby Buckets   \n",
       "11057  TV Show         Disney Mech-X4   \n",
       "11058  TV Show     Imagination Movers   \n",
       "\n",
       "                                                    cast        country  \\\n",
       "0                                                    NaN  United States   \n",
       "1      Ama Qamata, Khosi Ngema, Gail Mabalane, Thaban...   South Africa   \n",
       "2      Sami Bouajila, Tracy Gotoas, Samuel Jouy, Nabi...            NaN   \n",
       "3                                                    NaN            NaN   \n",
       "4      Mayur More, Jitendra Kumar, Ranjan Raj, Alam K...          India   \n",
       "...                                                  ...            ...   \n",
       "11054  Noel Fisher, Vincent Gale, Christopher Judge, ...  United States   \n",
       "11055  Tahj Mowry, John Jones, Jason Weaver, Essence ...  United States   \n",
       "11056  Jacob Bertrand, Mekai Curtis, Cade Sutton, Oli...  United States   \n",
       "11057  Nathaniel Potvin, Raymond Cham, Kamran Lucas, ...         Canada   \n",
       "11058  Rich Collins, Dave Poche, Scott Durbin, Scott ...  United States   \n",
       "\n",
       "       release_year                                          listed_in  \\\n",
       "0              2020                                      Documentaries   \n",
       "1              2021    International TV Shows, TV Dramas, TV Mysteries   \n",
       "2              2021  Crime TV Shows, International TV Shows, TV Act...   \n",
       "3              2021                             Docuseries, Reality TV   \n",
       "4              2021  International TV Shows, Romantic TV Shows, TV ...   \n",
       "...             ...                                                ...   \n",
       "11054          2000                  Action-Adventure, Animation, Kids   \n",
       "11055          1996                        Comedy, Coming of Age, Kids   \n",
       "11056          2014            Action-Adventure, Comedy, Coming of Age   \n",
       "11057          2016          Action-Adventure, Comedy, Science Fiction   \n",
       "11058          2008                                        Kids, Music   \n",
       "\n",
       "                                             description  \n",
       "0      As her father nears the end of his life, filmm...  \n",
       "1      After crossing paths at a party, a Cape Town t...  \n",
       "2      To protect his family from a powerful drug lor...  \n",
       "3      Feuds, flirtations and toilet talk go down amo...  \n",
       "4      In a city of coaching centers known to train I...  \n",
       "...                                                  ...  \n",
       "11054  X-Men: Evolution features the team as teenager...  \n",
       "11055  A genius tries to fit in as a high school soph...  \n",
       "11056   Welcome to Kirby's world! It's rude and sketchy.  \n",
       "11057  Ryan discovers his ability to control a giant ...  \n",
       "11058  Rock out with the Imagination Movers, Disney J...  \n",
       "\n",
       "[11059 rows x 7 columns]"
      ]
     },
     "execution_count": 28,
     "metadata": {},
     "output_type": "execute_result"
    }
   ],
   "source": [
    "df"
   ]
  },
  {
   "cell_type": "markdown",
   "id": "f1a7d1fa",
   "metadata": {},
   "source": [
    "### As seen above , dataset was loaded successfully."
   ]
  },
  {
   "cell_type": "markdown",
   "id": "1648ee31",
   "metadata": {},
   "source": [
    "## 1. Dataset information:"
   ]
  },
  {
   "cell_type": "code",
   "execution_count": 29,
   "id": "78f83d89",
   "metadata": {},
   "outputs": [
    {
     "name": "stdout",
     "output_type": "stream",
     "text": [
      "In type column :\n",
      "count     11059\n",
      "unique        2\n",
      "top       Movie\n",
      "freq       6131\n",
      "Name: type, dtype: object\n",
      "**************************************************\n",
      "In title column :\n",
      "count              11059\n",
      "unique             10957\n",
      "top       Sister, Sister\n",
      "freq                   2\n",
      "Name: title, dtype: object\n",
      "**************************************************\n",
      "In cast column :\n",
      "count                   9694\n",
      "unique                  9307\n",
      "top       David Attenborough\n",
      "freq                      20\n",
      "Name: cast, dtype: object\n",
      "**************************************************\n",
      "In country column :\n",
      "count              8364\n",
      "unique              760\n",
      "top       United States\n",
      "freq               3105\n",
      "Name: country, dtype: object\n",
      "**************************************************\n",
      "In release_year column :\n",
      "count    11059.000000\n",
      "mean      2014.209603\n",
      "std          8.959517\n",
      "min       1925.000000\n",
      "25%       2013.000000\n",
      "50%       2017.000000\n",
      "75%       2019.000000\n",
      "max       2021.000000\n",
      "Name: release_year, dtype: float64\n",
      "**************************************************\n",
      "In listed_in column :\n",
      "count                            11059\n",
      "unique                             888\n",
      "top       Dramas, International Movies\n",
      "freq                               362\n",
      "Name: listed_in, dtype: object\n",
      "**************************************************\n",
      "In description column :\n",
      "count     11059\n",
      "unique    10978\n",
      "top           1\n",
      "freq          9\n",
      "Name: description, dtype: object\n",
      "**************************************************\n"
     ]
    }
   ],
   "source": [
    "for title in df:\n",
    "    print(\"In\", title, \"column :\")\n",
    "    print(df[title].describe())\n",
    "    print(\"*\"*50)"
   ]
  },
  {
   "cell_type": "code",
   "execution_count": 30,
   "id": "9a5bc870",
   "metadata": {},
   "outputs": [
    {
     "name": "stdout",
     "output_type": "stream",
     "text": [
      "<class 'pandas.core.frame.DataFrame'>\n",
      "RangeIndex: 11059 entries, 0 to 11058\n",
      "Data columns (total 7 columns):\n",
      " #   Column        Non-Null Count  Dtype \n",
      "---  ------        --------------  ----- \n",
      " 0   type          11059 non-null  object\n",
      " 1   title         11059 non-null  object\n",
      " 2   cast          9694 non-null   object\n",
      " 3   country       8364 non-null   object\n",
      " 4   release_year  11059 non-null  int64 \n",
      " 5   listed_in     11059 non-null  object\n",
      " 6   description   11059 non-null  object\n",
      "dtypes: int64(1), object(6)\n",
      "memory usage: 604.9+ KB\n"
     ]
    }
   ],
   "source": [
    "df.info()"
   ]
  },
  {
   "cell_type": "markdown",
   "id": "441d3c18",
   "metadata": {},
   "source": [
    "## 2. percentage of data lost:"
   ]
  },
  {
   "cell_type": "code",
   "execution_count": 31,
   "id": "506b32d6",
   "metadata": {},
   "outputs": [
    {
     "name": "stdout",
     "output_type": "stream",
     "text": [
      "Percentage of data lost in type column :\n",
      "0.0\n",
      "**************************************************\n",
      "Percentage of data lost in title column :\n",
      "0.0\n",
      "**************************************************\n",
      "Percentage of data lost in cast column :\n",
      "12.342888145401936\n",
      "**************************************************\n",
      "Percentage of data lost in country column :\n",
      "24.36929197938331\n",
      "**************************************************\n",
      "Percentage of data lost in release_year column :\n",
      "0.0\n",
      "**************************************************\n",
      "Percentage of data lost in listed_in column :\n",
      "0.0\n",
      "**************************************************\n",
      "Percentage of data lost in description column :\n",
      "0.0\n",
      "**************************************************\n"
     ]
    }
   ],
   "source": [
    "for title in df:\n",
    "    print(\"Percentage of data lost in\", title, \"column :\")\n",
    "    data_lost = df[title].isnull()\n",
    "    percentage = (data_lost.sum() / data_lost.count()) * 100\n",
    "    print(percentage)\n",
    "    print(\"*\"*50)"
   ]
  },
  {
   "cell_type": "markdown",
   "id": "2c903bfa",
   "metadata": {},
   "source": [
    "# Phase 1 : Preprocess"
   ]
  },
  {
   "cell_type": "markdown",
   "id": "93ceac3f",
   "metadata": {},
   "source": [
    "## 1. Handle Null Data:"
   ]
  },
  {
   "cell_type": "markdown",
   "id": "f5e80b1a",
   "metadata": {},
   "source": [
    "### first method: drop rows with at least one Nan value"
   ]
  },
  {
   "cell_type": "markdown",
   "id": "0b2fde3f",
   "metadata": {},
   "source": [
    "### second method: fill Nan values with their column's mode."
   ]
  },
  {
   "cell_type": "markdown",
   "id": "6663a382",
   "metadata": {},
   "source": [
    "### chose second method because we want to use other information in rows with at leat one Nan value and we don't want to minify our dataset"
   ]
  },
  {
   "cell_type": "code",
   "execution_count": 32,
   "id": "c2ba5db4",
   "metadata": {},
   "outputs": [],
   "source": [
    "for title in df:\n",
    "    df[title] = df[title].fillna(df[title].mode()[0])"
   ]
  },
  {
   "cell_type": "code",
   "execution_count": 33,
   "id": "4039080f",
   "metadata": {},
   "outputs": [
    {
     "name": "stdout",
     "output_type": "stream",
     "text": [
      "Percentage of data lost in type column :\n",
      "0.0\n",
      "**************************************************\n",
      "Percentage of data lost in title column :\n",
      "0.0\n",
      "**************************************************\n",
      "Percentage of data lost in cast column :\n",
      "0.0\n",
      "**************************************************\n",
      "Percentage of data lost in country column :\n",
      "0.0\n",
      "**************************************************\n",
      "Percentage of data lost in release_year column :\n",
      "0.0\n",
      "**************************************************\n",
      "Percentage of data lost in listed_in column :\n",
      "0.0\n",
      "**************************************************\n",
      "Percentage of data lost in description column :\n",
      "0.0\n",
      "**************************************************\n"
     ]
    }
   ],
   "source": [
    "for title in df:\n",
    "    print(\"Percentage of data lost in\", title, \"column :\")\n",
    "    data_lost = df[title].isnull()\n",
    "    percentage = (data_lost.sum() / data_lost.count()) * 100\n",
    "    print(percentage)\n",
    "    print(\"*\"*50)"
   ]
  },
  {
   "cell_type": "markdown",
   "id": "6df91b0e",
   "metadata": {},
   "source": [
    "### As seen above , lost data was filled with mode of columns successfully."
   ]
  },
  {
   "cell_type": "markdown",
   "id": "fb650764",
   "metadata": {},
   "source": [
    "## 2. Normalization VS Standardization:"
   ]
  },
  {
   "cell_type": "markdown",
   "id": "3a4f496d",
   "metadata": {},
   "source": [
    "Normalization is a scaling technique in which values are shifted and rescaled so that they end up ranging between 0 and 1. It is also known as Min-Max scaling."
   ]
  },
  {
   "cell_type": "markdown",
   "id": "c8099f95",
   "metadata": {},
   "source": [
    "Standardization is another scaling technique where the values are centered around the mean with a unit standard deviation. This means that the mean of the attribute becomes zero and the resultant distribution has a unit standard deviation."
   ]
  },
  {
   "cell_type": "markdown",
   "id": "169ccb38",
   "metadata": {},
   "source": [
    "\n",
    "Normalization is good to use when you know that the distribution of your data does not follow a Gaussian distribution. This can be useful in algorithms that do not assume any distribution of the data like K-Nearest Neighbors and Neural Networks.\n",
    "Standardization, on the other hand, can be helpful in cases where the data follows a Gaussian distribution. However, this does not have to be necessarily true. Also, unlike normalization, standardization does not have a bounding range. So, even if you have outliers in your data, they will not be affected by standardization.\n"
   ]
  },
  {
   "cell_type": "markdown",
   "id": "0dce89f3",
   "metadata": {},
   "source": [
    "Standardization comes into picture when features of input data set have large differences between their ranges, or simply when they are measured in different measurement units (e.g., Pounds, Meters, Miles … etc).\n",
    "\n",
    "These differences in the ranges of initial features causes trouble to many machine learning models. For example, for the models that are based on distance computation, if one of the features has a broad range of values, the distance will be governed by this particular feature."
   ]
  },
  {
   "cell_type": "markdown",
   "id": "f19d2b03",
   "metadata": {},
   "source": [
    "resources: https://www.analyticsvidhya.com/blog/2020/04/feature-scaling-machine-learning-normalization-standardization/\n",
    "https://builtin.com/data-science/when-and-why-standardize-your-data"
   ]
  },
  {
   "cell_type": "markdown",
   "id": "3f5f50eb",
   "metadata": {},
   "source": [
    "### In this project, Normalization and Standardization don't effect on result because we use tree based algorithms(Decision Tree and Random Forrest) for this project. so we choose Normalization to just choose!"
   ]
  },
  {
   "cell_type": "code",
   "execution_count": 34,
   "id": "72f8424e",
   "metadata": {},
   "outputs": [
    {
     "data": {
      "text/plain": [
       "0        2020\n",
       "1        2021\n",
       "2        2021\n",
       "3        2021\n",
       "4        2021\n",
       "         ... \n",
       "11054    2000\n",
       "11055    1996\n",
       "11056    2014\n",
       "11057    2016\n",
       "11058    2008\n",
       "Name: release_year, Length: 11059, dtype: int64"
      ]
     },
     "execution_count": 34,
     "metadata": {},
     "output_type": "execute_result"
    }
   ],
   "source": [
    "df[\"release_year\"]"
   ]
  },
  {
   "cell_type": "code",
   "execution_count": 35,
   "id": "ce55889e",
   "metadata": {},
   "outputs": [],
   "source": [
    "df[\"release_year\"] = (df[\"release_year\"] - df[\"release_year\"].mean()) / df[\"release_year\"].std()"
   ]
  },
  {
   "cell_type": "code",
   "execution_count": 36,
   "id": "3c31bc85",
   "metadata": {},
   "outputs": [
    {
     "data": {
      "text/plain": [
       "0        0.646285\n",
       "1        0.757898\n",
       "2        0.757898\n",
       "3        0.757898\n",
       "4        0.757898\n",
       "           ...   \n",
       "11054   -1.585979\n",
       "11055   -2.032431\n",
       "11056   -0.023394\n",
       "11057    0.199832\n",
       "11058   -0.693073\n",
       "Name: release_year, Length: 11059, dtype: float64"
      ]
     },
     "execution_count": 36,
     "metadata": {},
     "output_type": "execute_result"
    }
   ],
   "source": [
    "df[\"release_year\"]"
   ]
  },
  {
   "cell_type": "markdown",
   "id": "e74a5a13",
   "metadata": {},
   "source": [
    "### Normalization by subtract mean and divide by the standard deviation"
   ]
  },
  {
   "cell_type": "markdown",
   "id": "6a61f80f",
   "metadata": {},
   "source": [
    "## 4. Separate listed_in values"
   ]
  },
  {
   "cell_type": "code",
   "execution_count": 38,
   "id": "3291e857",
   "metadata": {},
   "outputs": [
    {
     "data": {
      "text/plain": [
       "0                                            Documentaries\n",
       "1          International TV Shows, TV Dramas, TV Mysteries\n",
       "2        Crime TV Shows, International TV Shows, TV Act...\n",
       "3                                   Docuseries, Reality TV\n",
       "4        International TV Shows, Romantic TV Shows, TV ...\n",
       "                               ...                        \n",
       "11054                    Action-Adventure, Animation, Kids\n",
       "11055                          Comedy, Coming of Age, Kids\n",
       "11056              Action-Adventure, Comedy, Coming of Age\n",
       "11057            Action-Adventure, Comedy, Science Fiction\n",
       "11058                                          Kids, Music\n",
       "Name: listed_in, Length: 11059, dtype: object"
      ]
     },
     "execution_count": 38,
     "metadata": {},
     "output_type": "execute_result"
    }
   ],
   "source": [
    "df[\"listed_in\"]"
   ]
  },
  {
   "cell_type": "code",
   "execution_count": 40,
   "id": "7d7f504f",
   "metadata": {},
   "outputs": [
    {
     "ename": "NameError",
     "evalue": "name 'string' is not defined",
     "output_type": "error",
     "traceback": [
      "\u001b[0;31m---------------------------------------------------------------------------\u001b[0m",
      "\u001b[0;31mNameError\u001b[0m                                 Traceback (most recent call last)",
      "\u001b[0;32m/tmp/ipykernel_11296/736592739.py\u001b[0m in \u001b[0;36m<module>\u001b[0;34m\u001b[0m\n\u001b[0;32m----> 1\u001b[0;31m \u001b[0mdf\u001b[0m\u001b[0;34m[\u001b[0m\u001b[0;34m\"listed_in\"\u001b[0m\u001b[0;34m]\u001b[0m\u001b[0;34m.\u001b[0m\u001b[0mapply\u001b[0m\u001b[0;34m(\u001b[0m\u001b[0mstring\u001b[0m\u001b[0;34m.\u001b[0m\u001b[0msplit\u001b[0m\u001b[0;34m(\u001b[0m\u001b[0;34m\",\"\u001b[0m\u001b[0;34m)\u001b[0m\u001b[0;34m)\u001b[0m\u001b[0;34m\u001b[0m\u001b[0;34m\u001b[0m\u001b[0m\n\u001b[0m",
      "\u001b[0;31mNameError\u001b[0m: name 'string' is not defined"
     ]
    }
   ],
   "source": [
    "df[\"listed_in\"].apply(split(\",\"))"
   ]
  },
  {
   "cell_type": "code",
   "execution_count": 50,
   "id": "75d5d622",
   "metadata": {},
   "outputs": [],
   "source": [
    "max_num_of_values = 0\n",
    "for item in df[\"listed_in\"]:\n",
    "    if len(item.split(\", \")) > max_num_of_values:\n",
    "        max_num_of_values = len(item.split(\", \"))"
   ]
  },
  {
   "cell_type": "code",
   "execution_count": 51,
   "id": "2f0866d0",
   "metadata": {},
   "outputs": [
    {
     "name": "stdout",
     "output_type": "stream",
     "text": [
      "Number of columns we need to separate the listed_in columns : 5\n"
     ]
    }
   ],
   "source": [
    "print(\"Number of columns we need to separate the listed_in columns :\", max_num_of_values)"
   ]
  },
  {
   "cell_type": "code",
   "execution_count": null,
   "id": "db128d9b",
   "metadata": {},
   "outputs": [],
   "source": [
    "for i in range(0, max_num_of_values):\n",
    "    ls = []\n",
    "    for item in df[\"listed_in\"]:\n",
    "        if len(item.split(\", \")) < i:\n",
    "            index = i % len(item.split(\", \"))\n",
    "            ls.append(item.split(\", \")[index])\n",
    "        else:\n",
    "            ls.append(item.split(\", \")[i])\n",
    "        "
   ]
  },
  {
   "cell_type": "code",
   "execution_count": null,
   "id": "76aad652",
   "metadata": {},
   "outputs": [],
   "source": []
  },
  {
   "cell_type": "code",
   "execution_count": null,
   "id": "55619127",
   "metadata": {},
   "outputs": [],
   "source": []
  },
  {
   "cell_type": "markdown",
   "id": "d52774ed",
   "metadata": {},
   "source": [
    "## 3. Handle Categorical Data:"
   ]
  },
  {
   "cell_type": "markdown",
   "id": "cfcf04ca",
   "metadata": {},
   "source": [
    "### One-hot Encoding VS Label Encoding:"
   ]
  },
  {
   "cell_type": "markdown",
   "id": "9b785b96",
   "metadata": {},
   "source": [
    "Label Encoding is very simple and it involves converting each value in a column to a number."
   ]
  },
  {
   "cell_type": "markdown",
   "id": "c2d106ea",
   "metadata": {},
   "source": [
    "Though label encoding is straight but it has the disadvantage that the numeric values can be misinterpreted by algorithms as having some sort of hierarchy/order in them. This ordering issue is addressed in another common alternative approach called ‘One-Hot Encoding’. In this strategy, each category value is converted into a new column and assigned a 1 or 0 (notation for true/false) value to the column."
   ]
  },
  {
   "cell_type": "markdown",
   "id": "47d084c7",
   "metadata": {},
   "source": [
    "resorce: https://towardsdatascience.com/categorical-encoding-using-label-encoding-and-one-hot-encoder-911ef77fb5bd"
   ]
  },
  {
   "cell_type": "markdown",
   "id": "7376d0b1",
   "metadata": {},
   "source": [
    "### We use tree based algorithms and so use both of these Encodings create same result; so we use Label Encoding because it is more simple than One-hot Encoding."
   ]
  },
  {
   "cell_type": "code",
   "execution_count": 16,
   "id": "4d0657ad",
   "metadata": {},
   "outputs": [],
   "source": [
    "label_encoder = LabelEncoder()"
   ]
  },
  {
   "cell_type": "code",
   "execution_count": 23,
   "id": "9b7a3cae",
   "metadata": {},
   "outputs": [
    {
     "data": {
      "text/html": [
       "<div>\n",
       "<style scoped>\n",
       "    .dataframe tbody tr th:only-of-type {\n",
       "        vertical-align: middle;\n",
       "    }\n",
       "\n",
       "    .dataframe tbody tr th {\n",
       "        vertical-align: top;\n",
       "    }\n",
       "\n",
       "    .dataframe thead th {\n",
       "        text-align: right;\n",
       "    }\n",
       "</style>\n",
       "<table border=\"1\" class=\"dataframe\">\n",
       "  <thead>\n",
       "    <tr style=\"text-align: right;\">\n",
       "      <th></th>\n",
       "      <th>type</th>\n",
       "      <th>title</th>\n",
       "      <th>cast</th>\n",
       "      <th>country</th>\n",
       "      <th>release_year</th>\n",
       "      <th>listed_in</th>\n",
       "      <th>description</th>\n",
       "    </tr>\n",
       "  </thead>\n",
       "  <tbody>\n",
       "    <tr>\n",
       "      <th>0</th>\n",
       "      <td>Movie</td>\n",
       "      <td>Dick Johnson Is Dead</td>\n",
       "      <td>David Attenborough</td>\n",
       "      <td>United States</td>\n",
       "      <td>0.646285</td>\n",
       "      <td>Documentaries</td>\n",
       "      <td>As her father nears the end of his life, filmm...</td>\n",
       "    </tr>\n",
       "    <tr>\n",
       "      <th>1</th>\n",
       "      <td>TV Show</td>\n",
       "      <td>Blood &amp; Water</td>\n",
       "      <td>Ama Qamata, Khosi Ngema, Gail Mabalane, Thaban...</td>\n",
       "      <td>South Africa</td>\n",
       "      <td>0.757898</td>\n",
       "      <td>International TV Shows, TV Dramas, TV Mysteries</td>\n",
       "      <td>After crossing paths at a party, a Cape Town t...</td>\n",
       "    </tr>\n",
       "    <tr>\n",
       "      <th>2</th>\n",
       "      <td>TV Show</td>\n",
       "      <td>Ganglands</td>\n",
       "      <td>Sami Bouajila, Tracy Gotoas, Samuel Jouy, Nabi...</td>\n",
       "      <td>United States</td>\n",
       "      <td>0.757898</td>\n",
       "      <td>Crime TV Shows, International TV Shows, TV Act...</td>\n",
       "      <td>To protect his family from a powerful drug lor...</td>\n",
       "    </tr>\n",
       "    <tr>\n",
       "      <th>3</th>\n",
       "      <td>TV Show</td>\n",
       "      <td>Jailbirds New Orleans</td>\n",
       "      <td>David Attenborough</td>\n",
       "      <td>United States</td>\n",
       "      <td>0.757898</td>\n",
       "      <td>Docuseries, Reality TV</td>\n",
       "      <td>Feuds, flirtations and toilet talk go down amo...</td>\n",
       "    </tr>\n",
       "    <tr>\n",
       "      <th>4</th>\n",
       "      <td>TV Show</td>\n",
       "      <td>Kota Factory</td>\n",
       "      <td>Mayur More, Jitendra Kumar, Ranjan Raj, Alam K...</td>\n",
       "      <td>India</td>\n",
       "      <td>0.757898</td>\n",
       "      <td>International TV Shows, Romantic TV Shows, TV ...</td>\n",
       "      <td>In a city of coaching centers known to train I...</td>\n",
       "    </tr>\n",
       "    <tr>\n",
       "      <th>...</th>\n",
       "      <td>...</td>\n",
       "      <td>...</td>\n",
       "      <td>...</td>\n",
       "      <td>...</td>\n",
       "      <td>...</td>\n",
       "      <td>...</td>\n",
       "      <td>...</td>\n",
       "    </tr>\n",
       "    <tr>\n",
       "      <th>11054</th>\n",
       "      <td>TV Show</td>\n",
       "      <td>X-Men: Evolution</td>\n",
       "      <td>Noel Fisher, Vincent Gale, Christopher Judge, ...</td>\n",
       "      <td>United States</td>\n",
       "      <td>-1.585979</td>\n",
       "      <td>Action-Adventure, Animation, Kids</td>\n",
       "      <td>X-Men: Evolution features the team as teenager...</td>\n",
       "    </tr>\n",
       "    <tr>\n",
       "      <th>11055</th>\n",
       "      <td>TV Show</td>\n",
       "      <td>Smart Guy</td>\n",
       "      <td>Tahj Mowry, John Jones, Jason Weaver, Essence ...</td>\n",
       "      <td>United States</td>\n",
       "      <td>-2.032431</td>\n",
       "      <td>Comedy, Coming of Age, Kids</td>\n",
       "      <td>A genius tries to fit in as a high school soph...</td>\n",
       "    </tr>\n",
       "    <tr>\n",
       "      <th>11056</th>\n",
       "      <td>TV Show</td>\n",
       "      <td>Disney Kirby Buckets</td>\n",
       "      <td>Jacob Bertrand, Mekai Curtis, Cade Sutton, Oli...</td>\n",
       "      <td>United States</td>\n",
       "      <td>-0.023394</td>\n",
       "      <td>Action-Adventure, Comedy, Coming of Age</td>\n",
       "      <td>Welcome to Kirby's world! It's rude and sketchy.</td>\n",
       "    </tr>\n",
       "    <tr>\n",
       "      <th>11057</th>\n",
       "      <td>TV Show</td>\n",
       "      <td>Disney Mech-X4</td>\n",
       "      <td>Nathaniel Potvin, Raymond Cham, Kamran Lucas, ...</td>\n",
       "      <td>Canada</td>\n",
       "      <td>0.199832</td>\n",
       "      <td>Action-Adventure, Comedy, Science Fiction</td>\n",
       "      <td>Ryan discovers his ability to control a giant ...</td>\n",
       "    </tr>\n",
       "    <tr>\n",
       "      <th>11058</th>\n",
       "      <td>TV Show</td>\n",
       "      <td>Imagination Movers</td>\n",
       "      <td>Rich Collins, Dave Poche, Scott Durbin, Scott ...</td>\n",
       "      <td>United States</td>\n",
       "      <td>-0.693073</td>\n",
       "      <td>Kids, Music</td>\n",
       "      <td>Rock out with the Imagination Movers, Disney J...</td>\n",
       "    </tr>\n",
       "  </tbody>\n",
       "</table>\n",
       "<p>11059 rows × 7 columns</p>\n",
       "</div>"
      ],
      "text/plain": [
       "          type                  title  \\\n",
       "0        Movie   Dick Johnson Is Dead   \n",
       "1      TV Show          Blood & Water   \n",
       "2      TV Show              Ganglands   \n",
       "3      TV Show  Jailbirds New Orleans   \n",
       "4      TV Show           Kota Factory   \n",
       "...        ...                    ...   \n",
       "11054  TV Show       X-Men: Evolution   \n",
       "11055  TV Show              Smart Guy   \n",
       "11056  TV Show   Disney Kirby Buckets   \n",
       "11057  TV Show         Disney Mech-X4   \n",
       "11058  TV Show     Imagination Movers   \n",
       "\n",
       "                                                    cast        country  \\\n",
       "0                                     David Attenborough  United States   \n",
       "1      Ama Qamata, Khosi Ngema, Gail Mabalane, Thaban...   South Africa   \n",
       "2      Sami Bouajila, Tracy Gotoas, Samuel Jouy, Nabi...  United States   \n",
       "3                                     David Attenborough  United States   \n",
       "4      Mayur More, Jitendra Kumar, Ranjan Raj, Alam K...          India   \n",
       "...                                                  ...            ...   \n",
       "11054  Noel Fisher, Vincent Gale, Christopher Judge, ...  United States   \n",
       "11055  Tahj Mowry, John Jones, Jason Weaver, Essence ...  United States   \n",
       "11056  Jacob Bertrand, Mekai Curtis, Cade Sutton, Oli...  United States   \n",
       "11057  Nathaniel Potvin, Raymond Cham, Kamran Lucas, ...         Canada   \n",
       "11058  Rich Collins, Dave Poche, Scott Durbin, Scott ...  United States   \n",
       "\n",
       "       release_year                                          listed_in  \\\n",
       "0          0.646285                                      Documentaries   \n",
       "1          0.757898    International TV Shows, TV Dramas, TV Mysteries   \n",
       "2          0.757898  Crime TV Shows, International TV Shows, TV Act...   \n",
       "3          0.757898                             Docuseries, Reality TV   \n",
       "4          0.757898  International TV Shows, Romantic TV Shows, TV ...   \n",
       "...             ...                                                ...   \n",
       "11054     -1.585979                  Action-Adventure, Animation, Kids   \n",
       "11055     -2.032431                        Comedy, Coming of Age, Kids   \n",
       "11056     -0.023394            Action-Adventure, Comedy, Coming of Age   \n",
       "11057      0.199832          Action-Adventure, Comedy, Science Fiction   \n",
       "11058     -0.693073                                        Kids, Music   \n",
       "\n",
       "                                             description  \n",
       "0      As her father nears the end of his life, filmm...  \n",
       "1      After crossing paths at a party, a Cape Town t...  \n",
       "2      To protect his family from a powerful drug lor...  \n",
       "3      Feuds, flirtations and toilet talk go down amo...  \n",
       "4      In a city of coaching centers known to train I...  \n",
       "...                                                  ...  \n",
       "11054  X-Men: Evolution features the team as teenager...  \n",
       "11055  A genius tries to fit in as a high school soph...  \n",
       "11056   Welcome to Kirby's world! It's rude and sketchy.  \n",
       "11057  Ryan discovers his ability to control a giant ...  \n",
       "11058  Rock out with the Imagination Movers, Disney J...  \n",
       "\n",
       "[11059 rows x 7 columns]"
      ]
     },
     "execution_count": 23,
     "metadata": {},
     "output_type": "execute_result"
    }
   ],
   "source": [
    "df"
   ]
  },
  {
   "cell_type": "code",
   "execution_count": 24,
   "id": "5f6bbfba",
   "metadata": {},
   "outputs": [],
   "source": [
    "for title in df:\n",
    "    if(df[title].dtype == \"object\"):\n",
    "        df[title] = label_encoder.fit_transform(df[title])"
   ]
  },
  {
   "cell_type": "code",
   "execution_count": 25,
   "id": "baa77cfb",
   "metadata": {},
   "outputs": [
    {
     "data": {
      "text/html": [
       "<div>\n",
       "<style scoped>\n",
       "    .dataframe tbody tr th:only-of-type {\n",
       "        vertical-align: middle;\n",
       "    }\n",
       "\n",
       "    .dataframe tbody tr th {\n",
       "        vertical-align: top;\n",
       "    }\n",
       "\n",
       "    .dataframe thead th {\n",
       "        text-align: right;\n",
       "    }\n",
       "</style>\n",
       "<table border=\"1\" class=\"dataframe\">\n",
       "  <thead>\n",
       "    <tr style=\"text-align: right;\">\n",
       "      <th></th>\n",
       "      <th>type</th>\n",
       "      <th>title</th>\n",
       "      <th>cast</th>\n",
       "      <th>country</th>\n",
       "      <th>release_year</th>\n",
       "      <th>listed_in</th>\n",
       "      <th>description</th>\n",
       "    </tr>\n",
       "  </thead>\n",
       "  <tbody>\n",
       "    <tr>\n",
       "      <th>0</th>\n",
       "      <td>0</td>\n",
       "      <td>2454</td>\n",
       "      <td>2073</td>\n",
       "      <td>608</td>\n",
       "      <td>0.646285</td>\n",
       "      <td>500</td>\n",
       "      <td>2886</td>\n",
       "    </tr>\n",
       "    <tr>\n",
       "      <th>1</th>\n",
       "      <td>1</td>\n",
       "      <td>1345</td>\n",
       "      <td>486</td>\n",
       "      <td>430</td>\n",
       "      <td>0.757898</td>\n",
       "      <td>749</td>\n",
       "      <td>1969</td>\n",
       "    </tr>\n",
       "    <tr>\n",
       "      <th>2</th>\n",
       "      <td>1</td>\n",
       "      <td>3366</td>\n",
       "      <td>7616</td>\n",
       "      <td>608</td>\n",
       "      <td>0.757898</td>\n",
       "      <td>468</td>\n",
       "      <td>9326</td>\n",
       "    </tr>\n",
       "    <tr>\n",
       "      <th>3</th>\n",
       "      <td>1</td>\n",
       "      <td>4403</td>\n",
       "      <td>2073</td>\n",
       "      <td>608</td>\n",
       "      <td>0.757898</td>\n",
       "      <td>566</td>\n",
       "      <td>4263</td>\n",
       "    </tr>\n",
       "    <tr>\n",
       "      <th>4</th>\n",
       "      <td>1</td>\n",
       "      <td>4827</td>\n",
       "      <td>5839</td>\n",
       "      <td>254</td>\n",
       "      <td>0.757898</td>\n",
       "      <td>728</td>\n",
       "      <td>5328</td>\n",
       "    </tr>\n",
       "    <tr>\n",
       "      <th>...</th>\n",
       "      <td>...</td>\n",
       "      <td>...</td>\n",
       "      <td>...</td>\n",
       "      <td>...</td>\n",
       "      <td>...</td>\n",
       "      <td>...</td>\n",
       "      <td>...</td>\n",
       "    </tr>\n",
       "    <tr>\n",
       "      <th>11054</th>\n",
       "      <td>1</td>\n",
       "      <td>10792</td>\n",
       "      <td>6499</td>\n",
       "      <td>608</td>\n",
       "      <td>-1.585979</td>\n",
       "      <td>117</td>\n",
       "      <td>10868</td>\n",
       "    </tr>\n",
       "    <tr>\n",
       "      <th>11055</th>\n",
       "      <td>1</td>\n",
       "      <td>7978</td>\n",
       "      <td>8332</td>\n",
       "      <td>608</td>\n",
       "      <td>-2.032431</td>\n",
       "      <td>408</td>\n",
       "      <td>599</td>\n",
       "    </tr>\n",
       "    <tr>\n",
       "      <th>11056</th>\n",
       "      <td>1</td>\n",
       "      <td>2527</td>\n",
       "      <td>3549</td>\n",
       "      <td>608</td>\n",
       "      <td>-0.023394</td>\n",
       "      <td>121</td>\n",
       "      <td>9785</td>\n",
       "    </tr>\n",
       "    <tr>\n",
       "      <th>11057</th>\n",
       "      <td>1</td>\n",
       "      <td>2530</td>\n",
       "      <td>6339</td>\n",
       "      <td>59</td>\n",
       "      <td>0.199832</td>\n",
       "      <td>123</td>\n",
       "      <td>7405</td>\n",
       "    </tr>\n",
       "    <tr>\n",
       "      <th>11058</th>\n",
       "      <td>1</td>\n",
       "      <td>4194</td>\n",
       "      <td>7185</td>\n",
       "      <td>608</td>\n",
       "      <td>-0.693073</td>\n",
       "      <td>783</td>\n",
       "      <td>7373</td>\n",
       "    </tr>\n",
       "  </tbody>\n",
       "</table>\n",
       "<p>11059 rows × 7 columns</p>\n",
       "</div>"
      ],
      "text/plain": [
       "       type  title  cast  country  release_year  listed_in  description\n",
       "0         0   2454  2073      608      0.646285        500         2886\n",
       "1         1   1345   486      430      0.757898        749         1969\n",
       "2         1   3366  7616      608      0.757898        468         9326\n",
       "3         1   4403  2073      608      0.757898        566         4263\n",
       "4         1   4827  5839      254      0.757898        728         5328\n",
       "...     ...    ...   ...      ...           ...        ...          ...\n",
       "11054     1  10792  6499      608     -1.585979        117        10868\n",
       "11055     1   7978  8332      608     -2.032431        408          599\n",
       "11056     1   2527  3549      608     -0.023394        121         9785\n",
       "11057     1   2530  6339       59      0.199832        123         7405\n",
       "11058     1   4194  7185      608     -0.693073        783         7373\n",
       "\n",
       "[11059 rows x 7 columns]"
      ]
     },
     "execution_count": 25,
     "metadata": {},
     "output_type": "execute_result"
    }
   ],
   "source": [
    "df"
   ]
  },
  {
   "cell_type": "markdown",
   "id": "311d762e",
   "metadata": {},
   "source": [
    "### Label Encode non-numerical columns by sklearn LableEncoder"
   ]
  },
  {
   "cell_type": "code",
   "execution_count": null,
   "id": "fbd589fb",
   "metadata": {},
   "outputs": [],
   "source": []
  },
  {
   "cell_type": "code",
   "execution_count": null,
   "id": "a0be364c",
   "metadata": {},
   "outputs": [],
   "source": []
  },
  {
   "cell_type": "code",
   "execution_count": null,
   "id": "84b343bb",
   "metadata": {},
   "outputs": [],
   "source": []
  },
  {
   "cell_type": "code",
   "execution_count": null,
   "id": "618cd7a6",
   "metadata": {},
   "outputs": [],
   "source": []
  },
  {
   "cell_type": "code",
   "execution_count": null,
   "id": "5dac0d31",
   "metadata": {},
   "outputs": [],
   "source": []
  },
  {
   "cell_type": "markdown",
   "id": "ff13bf2b",
   "metadata": {},
   "source": [
    "# Phase 2 : Predict the Goal and Model Optimization"
   ]
  },
  {
   "cell_type": "code",
   "execution_count": null,
   "id": "898dcddf",
   "metadata": {},
   "outputs": [],
   "source": []
  },
  {
   "cell_type": "code",
   "execution_count": null,
   "id": "f41fe88a",
   "metadata": {},
   "outputs": [],
   "source": []
  },
  {
   "cell_type": "code",
   "execution_count": null,
   "id": "75c0e960",
   "metadata": {},
   "outputs": [],
   "source": []
  },
  {
   "cell_type": "code",
   "execution_count": null,
   "id": "5d3316a1",
   "metadata": {},
   "outputs": [],
   "source": []
  },
  {
   "cell_type": "code",
   "execution_count": null,
   "id": "a9ae9507",
   "metadata": {},
   "outputs": [],
   "source": []
  },
  {
   "cell_type": "code",
   "execution_count": null,
   "id": "5f8b809e",
   "metadata": {},
   "outputs": [],
   "source": []
  },
  {
   "cell_type": "code",
   "execution_count": null,
   "id": "a7b3df2c",
   "metadata": {},
   "outputs": [],
   "source": []
  },
  {
   "cell_type": "code",
   "execution_count": null,
   "id": "ab47ed7f",
   "metadata": {},
   "outputs": [],
   "source": []
  },
  {
   "cell_type": "markdown",
   "id": "e876266b",
   "metadata": {},
   "source": [
    "# Phase 3 : Prediction with Group Learning"
   ]
  },
  {
   "cell_type": "code",
   "execution_count": null,
   "id": "4ee3c524",
   "metadata": {},
   "outputs": [],
   "source": []
  },
  {
   "cell_type": "code",
   "execution_count": null,
   "id": "032b9b31",
   "metadata": {},
   "outputs": [],
   "source": []
  },
  {
   "cell_type": "code",
   "execution_count": null,
   "id": "2a03df21",
   "metadata": {},
   "outputs": [],
   "source": []
  },
  {
   "cell_type": "code",
   "execution_count": null,
   "id": "eb08d499",
   "metadata": {},
   "outputs": [],
   "source": []
  },
  {
   "cell_type": "code",
   "execution_count": null,
   "id": "7285e67f",
   "metadata": {},
   "outputs": [],
   "source": []
  }
 ],
 "metadata": {
  "kernelspec": {
   "display_name": "Python 3 (ipykernel)",
   "language": "python",
   "name": "python3"
  },
  "language_info": {
   "codemirror_mode": {
    "name": "ipython",
    "version": 3
   },
   "file_extension": ".py",
   "mimetype": "text/x-python",
   "name": "python",
   "nbconvert_exporter": "python",
   "pygments_lexer": "ipython3",
   "version": "3.8.10"
  }
 },
 "nbformat": 4,
 "nbformat_minor": 5
}
