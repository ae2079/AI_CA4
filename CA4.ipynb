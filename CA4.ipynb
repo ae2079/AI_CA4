{
 "cells": [
  {
   "cell_type": "markdown",
   "id": "ba010b18",
   "metadata": {},
   "source": [
    "# CA 4"
   ]
  },
  {
   "cell_type": "markdown",
   "id": "7f024142",
   "metadata": {},
   "source": [
    "### The purpose of this project is to learn machine learning methods with Scikit-Learn library."
   ]
  },
  {
   "cell_type": "markdown",
   "id": "16a09201",
   "metadata": {},
   "source": [
    "# Imports"
   ]
  },
  {
   "cell_type": "code",
   "execution_count": 1,
   "id": "d9eade0e",
   "metadata": {},
   "outputs": [],
   "source": [
    "import numpy as np\n",
    "import pandas as pd\n",
    "import sklearn as sk"
   ]
  },
  {
   "cell_type": "markdown",
   "id": "7b962d53",
   "metadata": {},
   "source": [
    "# Body"
   ]
  },
  {
   "cell_type": "markdown",
   "id": "404139ba",
   "metadata": {},
   "source": [
    "## Phase 0 : Data Analysis"
   ]
  },
  {
   "cell_type": "code",
   "execution_count": 2,
   "id": "999cfdb3",
   "metadata": {},
   "outputs": [],
   "source": [
    "df = pd.read_csv(\"dataset.csv\")"
   ]
  },
  {
   "cell_type": "code",
   "execution_count": 3,
   "id": "6a152c02",
   "metadata": {},
   "outputs": [
    {
     "data": {
      "text/html": [
       "<div>\n",
       "<style scoped>\n",
       "    .dataframe tbody tr th:only-of-type {\n",
       "        vertical-align: middle;\n",
       "    }\n",
       "\n",
       "    .dataframe tbody tr th {\n",
       "        vertical-align: top;\n",
       "    }\n",
       "\n",
       "    .dataframe thead th {\n",
       "        text-align: right;\n",
       "    }\n",
       "</style>\n",
       "<table border=\"1\" class=\"dataframe\">\n",
       "  <thead>\n",
       "    <tr style=\"text-align: right;\">\n",
       "      <th></th>\n",
       "      <th>type</th>\n",
       "      <th>title</th>\n",
       "      <th>cast</th>\n",
       "      <th>country</th>\n",
       "      <th>release_year</th>\n",
       "      <th>listed_in</th>\n",
       "      <th>description</th>\n",
       "    </tr>\n",
       "  </thead>\n",
       "  <tbody>\n",
       "    <tr>\n",
       "      <th>0</th>\n",
       "      <td>Movie</td>\n",
       "      <td>Dick Johnson Is Dead</td>\n",
       "      <td>NaN</td>\n",
       "      <td>United States</td>\n",
       "      <td>2020</td>\n",
       "      <td>Documentaries</td>\n",
       "      <td>As her father nears the end of his life, filmm...</td>\n",
       "    </tr>\n",
       "    <tr>\n",
       "      <th>1</th>\n",
       "      <td>TV Show</td>\n",
       "      <td>Blood &amp; Water</td>\n",
       "      <td>Ama Qamata, Khosi Ngema, Gail Mabalane, Thaban...</td>\n",
       "      <td>South Africa</td>\n",
       "      <td>2021</td>\n",
       "      <td>International TV Shows, TV Dramas, TV Mysteries</td>\n",
       "      <td>After crossing paths at a party, a Cape Town t...</td>\n",
       "    </tr>\n",
       "    <tr>\n",
       "      <th>2</th>\n",
       "      <td>TV Show</td>\n",
       "      <td>Ganglands</td>\n",
       "      <td>Sami Bouajila, Tracy Gotoas, Samuel Jouy, Nabi...</td>\n",
       "      <td>NaN</td>\n",
       "      <td>2021</td>\n",
       "      <td>Crime TV Shows, International TV Shows, TV Act...</td>\n",
       "      <td>To protect his family from a powerful drug lor...</td>\n",
       "    </tr>\n",
       "    <tr>\n",
       "      <th>3</th>\n",
       "      <td>TV Show</td>\n",
       "      <td>Jailbirds New Orleans</td>\n",
       "      <td>NaN</td>\n",
       "      <td>NaN</td>\n",
       "      <td>2021</td>\n",
       "      <td>Docuseries, Reality TV</td>\n",
       "      <td>Feuds, flirtations and toilet talk go down amo...</td>\n",
       "    </tr>\n",
       "    <tr>\n",
       "      <th>4</th>\n",
       "      <td>TV Show</td>\n",
       "      <td>Kota Factory</td>\n",
       "      <td>Mayur More, Jitendra Kumar, Ranjan Raj, Alam K...</td>\n",
       "      <td>India</td>\n",
       "      <td>2021</td>\n",
       "      <td>International TV Shows, Romantic TV Shows, TV ...</td>\n",
       "      <td>In a city of coaching centers known to train I...</td>\n",
       "    </tr>\n",
       "    <tr>\n",
       "      <th>...</th>\n",
       "      <td>...</td>\n",
       "      <td>...</td>\n",
       "      <td>...</td>\n",
       "      <td>...</td>\n",
       "      <td>...</td>\n",
       "      <td>...</td>\n",
       "      <td>...</td>\n",
       "    </tr>\n",
       "    <tr>\n",
       "      <th>11054</th>\n",
       "      <td>TV Show</td>\n",
       "      <td>X-Men: Evolution</td>\n",
       "      <td>Noel Fisher, Vincent Gale, Christopher Judge, ...</td>\n",
       "      <td>United States</td>\n",
       "      <td>2000</td>\n",
       "      <td>Action-Adventure, Animation, Kids</td>\n",
       "      <td>X-Men: Evolution features the team as teenager...</td>\n",
       "    </tr>\n",
       "    <tr>\n",
       "      <th>11055</th>\n",
       "      <td>TV Show</td>\n",
       "      <td>Smart Guy</td>\n",
       "      <td>Tahj Mowry, John Jones, Jason Weaver, Essence ...</td>\n",
       "      <td>United States</td>\n",
       "      <td>1996</td>\n",
       "      <td>Comedy, Coming of Age, Kids</td>\n",
       "      <td>A genius tries to fit in as a high school soph...</td>\n",
       "    </tr>\n",
       "    <tr>\n",
       "      <th>11056</th>\n",
       "      <td>TV Show</td>\n",
       "      <td>Disney Kirby Buckets</td>\n",
       "      <td>Jacob Bertrand, Mekai Curtis, Cade Sutton, Oli...</td>\n",
       "      <td>United States</td>\n",
       "      <td>2014</td>\n",
       "      <td>Action-Adventure, Comedy, Coming of Age</td>\n",
       "      <td>Welcome to Kirby's world! It's rude and sketchy.</td>\n",
       "    </tr>\n",
       "    <tr>\n",
       "      <th>11057</th>\n",
       "      <td>TV Show</td>\n",
       "      <td>Disney Mech-X4</td>\n",
       "      <td>Nathaniel Potvin, Raymond Cham, Kamran Lucas, ...</td>\n",
       "      <td>Canada</td>\n",
       "      <td>2016</td>\n",
       "      <td>Action-Adventure, Comedy, Science Fiction</td>\n",
       "      <td>Ryan discovers his ability to control a giant ...</td>\n",
       "    </tr>\n",
       "    <tr>\n",
       "      <th>11058</th>\n",
       "      <td>TV Show</td>\n",
       "      <td>Imagination Movers</td>\n",
       "      <td>Rich Collins, Dave Poche, Scott Durbin, Scott ...</td>\n",
       "      <td>United States</td>\n",
       "      <td>2008</td>\n",
       "      <td>Kids, Music</td>\n",
       "      <td>Rock out with the Imagination Movers, Disney J...</td>\n",
       "    </tr>\n",
       "  </tbody>\n",
       "</table>\n",
       "<p>11059 rows × 7 columns</p>\n",
       "</div>"
      ],
      "text/plain": [
       "          type                  title  \\\n",
       "0        Movie   Dick Johnson Is Dead   \n",
       "1      TV Show          Blood & Water   \n",
       "2      TV Show              Ganglands   \n",
       "3      TV Show  Jailbirds New Orleans   \n",
       "4      TV Show           Kota Factory   \n",
       "...        ...                    ...   \n",
       "11054  TV Show       X-Men: Evolution   \n",
       "11055  TV Show              Smart Guy   \n",
       "11056  TV Show   Disney Kirby Buckets   \n",
       "11057  TV Show         Disney Mech-X4   \n",
       "11058  TV Show     Imagination Movers   \n",
       "\n",
       "                                                    cast        country  \\\n",
       "0                                                    NaN  United States   \n",
       "1      Ama Qamata, Khosi Ngema, Gail Mabalane, Thaban...   South Africa   \n",
       "2      Sami Bouajila, Tracy Gotoas, Samuel Jouy, Nabi...            NaN   \n",
       "3                                                    NaN            NaN   \n",
       "4      Mayur More, Jitendra Kumar, Ranjan Raj, Alam K...          India   \n",
       "...                                                  ...            ...   \n",
       "11054  Noel Fisher, Vincent Gale, Christopher Judge, ...  United States   \n",
       "11055  Tahj Mowry, John Jones, Jason Weaver, Essence ...  United States   \n",
       "11056  Jacob Bertrand, Mekai Curtis, Cade Sutton, Oli...  United States   \n",
       "11057  Nathaniel Potvin, Raymond Cham, Kamran Lucas, ...         Canada   \n",
       "11058  Rich Collins, Dave Poche, Scott Durbin, Scott ...  United States   \n",
       "\n",
       "       release_year                                          listed_in  \\\n",
       "0              2020                                      Documentaries   \n",
       "1              2021    International TV Shows, TV Dramas, TV Mysteries   \n",
       "2              2021  Crime TV Shows, International TV Shows, TV Act...   \n",
       "3              2021                             Docuseries, Reality TV   \n",
       "4              2021  International TV Shows, Romantic TV Shows, TV ...   \n",
       "...             ...                                                ...   \n",
       "11054          2000                  Action-Adventure, Animation, Kids   \n",
       "11055          1996                        Comedy, Coming of Age, Kids   \n",
       "11056          2014            Action-Adventure, Comedy, Coming of Age   \n",
       "11057          2016          Action-Adventure, Comedy, Science Fiction   \n",
       "11058          2008                                        Kids, Music   \n",
       "\n",
       "                                             description  \n",
       "0      As her father nears the end of his life, filmm...  \n",
       "1      After crossing paths at a party, a Cape Town t...  \n",
       "2      To protect his family from a powerful drug lor...  \n",
       "3      Feuds, flirtations and toilet talk go down amo...  \n",
       "4      In a city of coaching centers known to train I...  \n",
       "...                                                  ...  \n",
       "11054  X-Men: Evolution features the team as teenager...  \n",
       "11055  A genius tries to fit in as a high school soph...  \n",
       "11056   Welcome to Kirby's world! It's rude and sketchy.  \n",
       "11057  Ryan discovers his ability to control a giant ...  \n",
       "11058  Rock out with the Imagination Movers, Disney J...  \n",
       "\n",
       "[11059 rows x 7 columns]"
      ]
     },
     "execution_count": 3,
     "metadata": {},
     "output_type": "execute_result"
    }
   ],
   "source": [
    "df"
   ]
  },
  {
   "cell_type": "markdown",
   "id": "d8e832cb",
   "metadata": {},
   "source": [
    "### As seen above , dataset was loaded successfully."
   ]
  },
  {
   "cell_type": "markdown",
   "id": "d0b934fe",
   "metadata": {},
   "source": [
    "## 1. Dataset information:"
   ]
  },
  {
   "cell_type": "code",
   "execution_count": 17,
   "id": "3e3ababc",
   "metadata": {},
   "outputs": [
    {
     "name": "stdout",
     "output_type": "stream",
     "text": [
      "In type column :\n",
      "count     11059\n",
      "unique        2\n",
      "top       Movie\n",
      "freq       6131\n",
      "Name: type, dtype: object\n",
      "**************************************************\n",
      "In title column :\n",
      "count              11059\n",
      "unique             10957\n",
      "top       Sister, Sister\n",
      "freq                   2\n",
      "Name: title, dtype: object\n",
      "**************************************************\n",
      "In cast column :\n",
      "count                   9694\n",
      "unique                  9307\n",
      "top       David Attenborough\n",
      "freq                      20\n",
      "Name: cast, dtype: object\n",
      "**************************************************\n",
      "In country column :\n",
      "count              8364\n",
      "unique              760\n",
      "top       United States\n",
      "freq               3105\n",
      "Name: country, dtype: object\n",
      "**************************************************\n",
      "In release_year column :\n",
      "count    11059.000000\n",
      "mean      2014.209603\n",
      "std          8.959517\n",
      "min       1925.000000\n",
      "25%       2013.000000\n",
      "50%       2017.000000\n",
      "75%       2019.000000\n",
      "max       2021.000000\n",
      "Name: release_year, dtype: float64\n",
      "**************************************************\n",
      "In listed_in column :\n",
      "count                            11059\n",
      "unique                             888\n",
      "top       Dramas, International Movies\n",
      "freq                               362\n",
      "Name: listed_in, dtype: object\n",
      "**************************************************\n",
      "In description column :\n",
      "count     11059\n",
      "unique    10978\n",
      "top           1\n",
      "freq          9\n",
      "Name: description, dtype: object\n",
      "**************************************************\n"
     ]
    }
   ],
   "source": [
    "for title in df:\n",
    "    print(\"In\", title, \"column :\")\n",
    "    print(df[title].describe())\n",
    "    print(\"*\"*50)"
   ]
  },
  {
   "cell_type": "code",
   "execution_count": 71,
   "id": "524754c5",
   "metadata": {},
   "outputs": [
    {
     "name": "stdout",
     "output_type": "stream",
     "text": [
      "<class 'pandas.core.frame.DataFrame'>\n",
      "RangeIndex: 11059 entries, 0 to 11058\n",
      "Data columns (total 7 columns):\n",
      " #   Column        Non-Null Count  Dtype \n",
      "---  ------        --------------  ----- \n",
      " 0   type          11059 non-null  object\n",
      " 1   title         11059 non-null  object\n",
      " 2   cast          9694 non-null   object\n",
      " 3   country       8364 non-null   object\n",
      " 4   release_year  11059 non-null  int64 \n",
      " 5   listed_in     11059 non-null  object\n",
      " 6   description   11059 non-null  object\n",
      "dtypes: int64(1), object(6)\n",
      "memory usage: 604.9+ KB\n"
     ]
    }
   ],
   "source": [
    "df.info()"
   ]
  },
  {
   "cell_type": "markdown",
   "id": "ca0b977f",
   "metadata": {},
   "source": [
    "## 2. percentage of data lost:"
   ]
  },
  {
   "cell_type": "code",
   "execution_count": 72,
   "id": "4dd1761b",
   "metadata": {},
   "outputs": [
    {
     "name": "stdout",
     "output_type": "stream",
     "text": [
      "Percentage of data lost in type column :\n",
      "0.0\n",
      "**************************************************\n",
      "Percentage of data lost in title column :\n",
      "0.0\n",
      "**************************************************\n",
      "Percentage of data lost in cast column :\n",
      "12.342888145401936\n",
      "**************************************************\n",
      "Percentage of data lost in country column :\n",
      "24.36929197938331\n",
      "**************************************************\n",
      "Percentage of data lost in release_year column :\n",
      "0.0\n",
      "**************************************************\n",
      "Percentage of data lost in listed_in column :\n",
      "0.0\n",
      "**************************************************\n",
      "Percentage of data lost in description column :\n",
      "0.0\n",
      "**************************************************\n"
     ]
    }
   ],
   "source": [
    "for title in df:\n",
    "    print(\"Percentage of data lost in\", title, \"column :\")\n",
    "    data_lost = df[title].isnull()\n",
    "    percentage = (data_lost.sum() / data_lost.count()) * 100\n",
    "    print(percentage)\n",
    "    print(\"*\"*50)"
   ]
  },
  {
   "cell_type": "markdown",
   "id": "ca31865a",
   "metadata": {},
   "source": [
    "## Phase 1 : Preprocess"
   ]
  },
  {
   "cell_type": "code",
   "execution_count": null,
   "id": "f9ea0ebe",
   "metadata": {},
   "outputs": [],
   "source": []
  },
  {
   "cell_type": "code",
   "execution_count": null,
   "id": "7d0a742f",
   "metadata": {},
   "outputs": [],
   "source": []
  },
  {
   "cell_type": "code",
   "execution_count": null,
   "id": "7a551bec",
   "metadata": {},
   "outputs": [],
   "source": []
  },
  {
   "cell_type": "code",
   "execution_count": null,
   "id": "6d8be556",
   "metadata": {},
   "outputs": [],
   "source": []
  },
  {
   "cell_type": "code",
   "execution_count": null,
   "id": "b8720e52",
   "metadata": {},
   "outputs": [],
   "source": []
  },
  {
   "cell_type": "code",
   "execution_count": null,
   "id": "929630c6",
   "metadata": {},
   "outputs": [],
   "source": []
  },
  {
   "cell_type": "markdown",
   "id": "359d9ce7",
   "metadata": {},
   "source": [
    "## Phase 2 : Predict the Goal and Model Optimization"
   ]
  },
  {
   "cell_type": "code",
   "execution_count": null,
   "id": "420a54c5",
   "metadata": {},
   "outputs": [],
   "source": []
  },
  {
   "cell_type": "code",
   "execution_count": null,
   "id": "3938d159",
   "metadata": {},
   "outputs": [],
   "source": []
  },
  {
   "cell_type": "code",
   "execution_count": null,
   "id": "ca43d254",
   "metadata": {},
   "outputs": [],
   "source": []
  },
  {
   "cell_type": "code",
   "execution_count": null,
   "id": "fa63b372",
   "metadata": {},
   "outputs": [],
   "source": []
  },
  {
   "cell_type": "code",
   "execution_count": null,
   "id": "3c2f5b5e",
   "metadata": {},
   "outputs": [],
   "source": []
  },
  {
   "cell_type": "code",
   "execution_count": null,
   "id": "983ae13f",
   "metadata": {},
   "outputs": [],
   "source": []
  },
  {
   "cell_type": "code",
   "execution_count": null,
   "id": "1246f4b3",
   "metadata": {},
   "outputs": [],
   "source": []
  },
  {
   "cell_type": "code",
   "execution_count": null,
   "id": "0e5e5074",
   "metadata": {},
   "outputs": [],
   "source": []
  },
  {
   "cell_type": "markdown",
   "id": "5ffaff8d",
   "metadata": {},
   "source": [
    "## Phase 3 : Prediction with Group Learning"
   ]
  },
  {
   "cell_type": "code",
   "execution_count": null,
   "id": "b58d4278",
   "metadata": {},
   "outputs": [],
   "source": []
  },
  {
   "cell_type": "code",
   "execution_count": null,
   "id": "326dd823",
   "metadata": {},
   "outputs": [],
   "source": []
  },
  {
   "cell_type": "code",
   "execution_count": null,
   "id": "5e377d72",
   "metadata": {},
   "outputs": [],
   "source": []
  },
  {
   "cell_type": "code",
   "execution_count": null,
   "id": "abf385f9",
   "metadata": {},
   "outputs": [],
   "source": []
  },
  {
   "cell_type": "code",
   "execution_count": null,
   "id": "acbc0046",
   "metadata": {},
   "outputs": [],
   "source": []
  }
 ],
 "metadata": {
  "kernelspec": {
   "display_name": "Python 3 (ipykernel)",
   "language": "python",
   "name": "python3"
  },
  "language_info": {
   "codemirror_mode": {
    "name": "ipython",
    "version": 3
   },
   "file_extension": ".py",
   "mimetype": "text/x-python",
   "name": "python",
   "nbconvert_exporter": "python",
   "pygments_lexer": "ipython3",
   "version": "3.8.10"
  }
 },
 "nbformat": 4,
 "nbformat_minor": 5
}
