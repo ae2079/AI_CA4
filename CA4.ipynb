{
 "cells": [
  {
   "cell_type": "markdown",
   "id": "0572d8c9",
   "metadata": {},
   "source": [
    "# CA 4"
   ]
  },
  {
   "cell_type": "markdown",
   "id": "163a1a99",
   "metadata": {},
   "source": [
    "### The purpose of this project is to learn machine learning methods with Scikit-Learn library."
   ]
  },
  {
   "cell_type": "markdown",
   "id": "c11e6767",
   "metadata": {},
   "source": [
    "# Imports"
   ]
  },
  {
   "cell_type": "code",
   "execution_count": 1,
   "id": "c8504043",
   "metadata": {},
   "outputs": [],
   "source": [
    "import math\n",
    "import numpy as np\n",
    "import pandas as pd\n",
    "import copy as cp\n",
    "import matplotlib.pyplot as plt\n",
    "from sklearn.preprocessing import LabelEncoder\n",
    "from sklearn.feature_extraction.text import CountVectorizer\n",
    "from sklearn import tree\n",
    "from sklearn import metrics \n",
    "from sklearn.model_selection import GridSearchCV\n",
    "from sklearn.ensemble import RandomForestClassifier"
   ]
  },
  {
   "cell_type": "markdown",
   "id": "6f5537f8",
   "metadata": {},
   "source": [
    "# Body"
   ]
  },
  {
   "cell_type": "markdown",
   "id": "628fd405",
   "metadata": {},
   "source": [
    "# Phase 0 : Data Analysis"
   ]
  },
  {
   "cell_type": "code",
   "execution_count": 2,
   "id": "a003267b",
   "metadata": {},
   "outputs": [],
   "source": [
    "df = pd.read_csv(\"dataset.csv\")"
   ]
  },
  {
   "cell_type": "code",
   "execution_count": 3,
   "id": "691a455c",
   "metadata": {},
   "outputs": [
    {
     "data": {
      "text/html": [
       "<div>\n",
       "<style scoped>\n",
       "    .dataframe tbody tr th:only-of-type {\n",
       "        vertical-align: middle;\n",
       "    }\n",
       "\n",
       "    .dataframe tbody tr th {\n",
       "        vertical-align: top;\n",
       "    }\n",
       "\n",
       "    .dataframe thead th {\n",
       "        text-align: right;\n",
       "    }\n",
       "</style>\n",
       "<table border=\"1\" class=\"dataframe\">\n",
       "  <thead>\n",
       "    <tr style=\"text-align: right;\">\n",
       "      <th></th>\n",
       "      <th>type</th>\n",
       "      <th>title</th>\n",
       "      <th>cast</th>\n",
       "      <th>country</th>\n",
       "      <th>release_year</th>\n",
       "      <th>listed_in</th>\n",
       "      <th>description</th>\n",
       "    </tr>\n",
       "  </thead>\n",
       "  <tbody>\n",
       "    <tr>\n",
       "      <th>0</th>\n",
       "      <td>Movie</td>\n",
       "      <td>Dick Johnson Is Dead</td>\n",
       "      <td>NaN</td>\n",
       "      <td>United States</td>\n",
       "      <td>2020</td>\n",
       "      <td>Documentaries</td>\n",
       "      <td>As her father nears the end of his life, filmm...</td>\n",
       "    </tr>\n",
       "    <tr>\n",
       "      <th>1</th>\n",
       "      <td>TV Show</td>\n",
       "      <td>Blood &amp; Water</td>\n",
       "      <td>Ama Qamata, Khosi Ngema, Gail Mabalane, Thaban...</td>\n",
       "      <td>South Africa</td>\n",
       "      <td>2021</td>\n",
       "      <td>International TV Shows, TV Dramas, TV Mysteries</td>\n",
       "      <td>After crossing paths at a party, a Cape Town t...</td>\n",
       "    </tr>\n",
       "    <tr>\n",
       "      <th>2</th>\n",
       "      <td>TV Show</td>\n",
       "      <td>Ganglands</td>\n",
       "      <td>Sami Bouajila, Tracy Gotoas, Samuel Jouy, Nabi...</td>\n",
       "      <td>NaN</td>\n",
       "      <td>2021</td>\n",
       "      <td>Crime TV Shows, International TV Shows, TV Act...</td>\n",
       "      <td>To protect his family from a powerful drug lor...</td>\n",
       "    </tr>\n",
       "    <tr>\n",
       "      <th>3</th>\n",
       "      <td>TV Show</td>\n",
       "      <td>Jailbirds New Orleans</td>\n",
       "      <td>NaN</td>\n",
       "      <td>NaN</td>\n",
       "      <td>2021</td>\n",
       "      <td>Docuseries, Reality TV</td>\n",
       "      <td>Feuds, flirtations and toilet talk go down amo...</td>\n",
       "    </tr>\n",
       "    <tr>\n",
       "      <th>4</th>\n",
       "      <td>TV Show</td>\n",
       "      <td>Kota Factory</td>\n",
       "      <td>Mayur More, Jitendra Kumar, Ranjan Raj, Alam K...</td>\n",
       "      <td>India</td>\n",
       "      <td>2021</td>\n",
       "      <td>International TV Shows, Romantic TV Shows, TV ...</td>\n",
       "      <td>In a city of coaching centers known to train I...</td>\n",
       "    </tr>\n",
       "    <tr>\n",
       "      <th>...</th>\n",
       "      <td>...</td>\n",
       "      <td>...</td>\n",
       "      <td>...</td>\n",
       "      <td>...</td>\n",
       "      <td>...</td>\n",
       "      <td>...</td>\n",
       "      <td>...</td>\n",
       "    </tr>\n",
       "    <tr>\n",
       "      <th>11054</th>\n",
       "      <td>TV Show</td>\n",
       "      <td>X-Men: Evolution</td>\n",
       "      <td>Noel Fisher, Vincent Gale, Christopher Judge, ...</td>\n",
       "      <td>United States</td>\n",
       "      <td>2000</td>\n",
       "      <td>Action-Adventure, Animation, Kids</td>\n",
       "      <td>X-Men: Evolution features the team as teenager...</td>\n",
       "    </tr>\n",
       "    <tr>\n",
       "      <th>11055</th>\n",
       "      <td>TV Show</td>\n",
       "      <td>Smart Guy</td>\n",
       "      <td>Tahj Mowry, John Jones, Jason Weaver, Essence ...</td>\n",
       "      <td>United States</td>\n",
       "      <td>1996</td>\n",
       "      <td>Comedy, Coming of Age, Kids</td>\n",
       "      <td>A genius tries to fit in as a high school soph...</td>\n",
       "    </tr>\n",
       "    <tr>\n",
       "      <th>11056</th>\n",
       "      <td>TV Show</td>\n",
       "      <td>Disney Kirby Buckets</td>\n",
       "      <td>Jacob Bertrand, Mekai Curtis, Cade Sutton, Oli...</td>\n",
       "      <td>United States</td>\n",
       "      <td>2014</td>\n",
       "      <td>Action-Adventure, Comedy, Coming of Age</td>\n",
       "      <td>Welcome to Kirby's world! It's rude and sketchy.</td>\n",
       "    </tr>\n",
       "    <tr>\n",
       "      <th>11057</th>\n",
       "      <td>TV Show</td>\n",
       "      <td>Disney Mech-X4</td>\n",
       "      <td>Nathaniel Potvin, Raymond Cham, Kamran Lucas, ...</td>\n",
       "      <td>Canada</td>\n",
       "      <td>2016</td>\n",
       "      <td>Action-Adventure, Comedy, Science Fiction</td>\n",
       "      <td>Ryan discovers his ability to control a giant ...</td>\n",
       "    </tr>\n",
       "    <tr>\n",
       "      <th>11058</th>\n",
       "      <td>TV Show</td>\n",
       "      <td>Imagination Movers</td>\n",
       "      <td>Rich Collins, Dave Poche, Scott Durbin, Scott ...</td>\n",
       "      <td>United States</td>\n",
       "      <td>2008</td>\n",
       "      <td>Kids, Music</td>\n",
       "      <td>Rock out with the Imagination Movers, Disney J...</td>\n",
       "    </tr>\n",
       "  </tbody>\n",
       "</table>\n",
       "<p>11059 rows × 7 columns</p>\n",
       "</div>"
      ],
      "text/plain": [
       "          type                  title  \\\n",
       "0        Movie   Dick Johnson Is Dead   \n",
       "1      TV Show          Blood & Water   \n",
       "2      TV Show              Ganglands   \n",
       "3      TV Show  Jailbirds New Orleans   \n",
       "4      TV Show           Kota Factory   \n",
       "...        ...                    ...   \n",
       "11054  TV Show       X-Men: Evolution   \n",
       "11055  TV Show              Smart Guy   \n",
       "11056  TV Show   Disney Kirby Buckets   \n",
       "11057  TV Show         Disney Mech-X4   \n",
       "11058  TV Show     Imagination Movers   \n",
       "\n",
       "                                                    cast        country  \\\n",
       "0                                                    NaN  United States   \n",
       "1      Ama Qamata, Khosi Ngema, Gail Mabalane, Thaban...   South Africa   \n",
       "2      Sami Bouajila, Tracy Gotoas, Samuel Jouy, Nabi...            NaN   \n",
       "3                                                    NaN            NaN   \n",
       "4      Mayur More, Jitendra Kumar, Ranjan Raj, Alam K...          India   \n",
       "...                                                  ...            ...   \n",
       "11054  Noel Fisher, Vincent Gale, Christopher Judge, ...  United States   \n",
       "11055  Tahj Mowry, John Jones, Jason Weaver, Essence ...  United States   \n",
       "11056  Jacob Bertrand, Mekai Curtis, Cade Sutton, Oli...  United States   \n",
       "11057  Nathaniel Potvin, Raymond Cham, Kamran Lucas, ...         Canada   \n",
       "11058  Rich Collins, Dave Poche, Scott Durbin, Scott ...  United States   \n",
       "\n",
       "       release_year                                          listed_in  \\\n",
       "0              2020                                      Documentaries   \n",
       "1              2021    International TV Shows, TV Dramas, TV Mysteries   \n",
       "2              2021  Crime TV Shows, International TV Shows, TV Act...   \n",
       "3              2021                             Docuseries, Reality TV   \n",
       "4              2021  International TV Shows, Romantic TV Shows, TV ...   \n",
       "...             ...                                                ...   \n",
       "11054          2000                  Action-Adventure, Animation, Kids   \n",
       "11055          1996                        Comedy, Coming of Age, Kids   \n",
       "11056          2014            Action-Adventure, Comedy, Coming of Age   \n",
       "11057          2016          Action-Adventure, Comedy, Science Fiction   \n",
       "11058          2008                                        Kids, Music   \n",
       "\n",
       "                                             description  \n",
       "0      As her father nears the end of his life, filmm...  \n",
       "1      After crossing paths at a party, a Cape Town t...  \n",
       "2      To protect his family from a powerful drug lor...  \n",
       "3      Feuds, flirtations and toilet talk go down amo...  \n",
       "4      In a city of coaching centers known to train I...  \n",
       "...                                                  ...  \n",
       "11054  X-Men: Evolution features the team as teenager...  \n",
       "11055  A genius tries to fit in as a high school soph...  \n",
       "11056   Welcome to Kirby's world! It's rude and sketchy.  \n",
       "11057  Ryan discovers his ability to control a giant ...  \n",
       "11058  Rock out with the Imagination Movers, Disney J...  \n",
       "\n",
       "[11059 rows x 7 columns]"
      ]
     },
     "execution_count": 3,
     "metadata": {},
     "output_type": "execute_result"
    }
   ],
   "source": [
    "df"
   ]
  },
  {
   "cell_type": "markdown",
   "id": "c08e4e94",
   "metadata": {},
   "source": [
    "### As seen above , dataset was loaded successfully."
   ]
  },
  {
   "cell_type": "markdown",
   "id": "0398f1d3",
   "metadata": {},
   "source": [
    "## 1. Dataset information:"
   ]
  },
  {
   "cell_type": "code",
   "execution_count": 4,
   "id": "bd54ce2c",
   "metadata": {},
   "outputs": [
    {
     "name": "stdout",
     "output_type": "stream",
     "text": [
      "In type column :\n",
      "count     11059\n",
      "unique        2\n",
      "top       Movie\n",
      "freq       6131\n",
      "Name: type, dtype: object\n",
      "**************************************************\n",
      "In title column :\n",
      "count              11059\n",
      "unique             10957\n",
      "top       Sister, Sister\n",
      "freq                   2\n",
      "Name: title, dtype: object\n",
      "**************************************************\n",
      "In cast column :\n",
      "count                   9694\n",
      "unique                  9307\n",
      "top       David Attenborough\n",
      "freq                      20\n",
      "Name: cast, dtype: object\n",
      "**************************************************\n",
      "In country column :\n",
      "count              8364\n",
      "unique              760\n",
      "top       United States\n",
      "freq               3105\n",
      "Name: country, dtype: object\n",
      "**************************************************\n",
      "In release_year column :\n",
      "count    11059.000000\n",
      "mean      2014.209603\n",
      "std          8.959517\n",
      "min       1925.000000\n",
      "25%       2013.000000\n",
      "50%       2017.000000\n",
      "75%       2019.000000\n",
      "max       2021.000000\n",
      "Name: release_year, dtype: float64\n",
      "**************************************************\n",
      "In listed_in column :\n",
      "count                            11059\n",
      "unique                             888\n",
      "top       Dramas, International Movies\n",
      "freq                               362\n",
      "Name: listed_in, dtype: object\n",
      "**************************************************\n",
      "In description column :\n",
      "count     11059\n",
      "unique    10978\n",
      "top           1\n",
      "freq          9\n",
      "Name: description, dtype: object\n",
      "**************************************************\n"
     ]
    }
   ],
   "source": [
    "for title in df:\n",
    "    print(\"In\", title, \"column :\")\n",
    "    print(df[title].describe())\n",
    "    print(\"*\"*50)"
   ]
  },
  {
   "cell_type": "code",
   "execution_count": 5,
   "id": "8687c4f3",
   "metadata": {},
   "outputs": [
    {
     "name": "stdout",
     "output_type": "stream",
     "text": [
      "<class 'pandas.core.frame.DataFrame'>\n",
      "RangeIndex: 11059 entries, 0 to 11058\n",
      "Data columns (total 7 columns):\n",
      " #   Column        Non-Null Count  Dtype \n",
      "---  ------        --------------  ----- \n",
      " 0   type          11059 non-null  object\n",
      " 1   title         11059 non-null  object\n",
      " 2   cast          9694 non-null   object\n",
      " 3   country       8364 non-null   object\n",
      " 4   release_year  11059 non-null  int64 \n",
      " 5   listed_in     11059 non-null  object\n",
      " 6   description   11059 non-null  object\n",
      "dtypes: int64(1), object(6)\n",
      "memory usage: 604.9+ KB\n"
     ]
    }
   ],
   "source": [
    "df.info()"
   ]
  },
  {
   "cell_type": "markdown",
   "id": "56e9539e",
   "metadata": {},
   "source": [
    "## 2. percentage of data lost:"
   ]
  },
  {
   "cell_type": "code",
   "execution_count": 6,
   "id": "680cea9b",
   "metadata": {},
   "outputs": [
    {
     "name": "stdout",
     "output_type": "stream",
     "text": [
      "Percentage of data lost in type column :\n",
      "0.0\n",
      "**************************************************\n",
      "Percentage of data lost in title column :\n",
      "0.0\n",
      "**************************************************\n",
      "Percentage of data lost in cast column :\n",
      "12.342888145401936\n",
      "**************************************************\n",
      "Percentage of data lost in country column :\n",
      "24.36929197938331\n",
      "**************************************************\n",
      "Percentage of data lost in release_year column :\n",
      "0.0\n",
      "**************************************************\n",
      "Percentage of data lost in listed_in column :\n",
      "0.0\n",
      "**************************************************\n",
      "Percentage of data lost in description column :\n",
      "0.0\n",
      "**************************************************\n"
     ]
    }
   ],
   "source": [
    "for title in df:\n",
    "    print(\"Percentage of data lost in\", title, \"column :\")\n",
    "    data_lost = df[title].isnull()\n",
    "    percentage = (data_lost.sum() / data_lost.count()) * 100\n",
    "    print(percentage)\n",
    "    print(\"*\"*50)"
   ]
  },
  {
   "cell_type": "markdown",
   "id": "c90f63e5",
   "metadata": {},
   "source": [
    "# Phase 1 : Preprocess"
   ]
  },
  {
   "cell_type": "markdown",
   "id": "c59541ae",
   "metadata": {},
   "source": [
    "## 1. Handle Null Data:"
   ]
  },
  {
   "cell_type": "markdown",
   "id": "d683cca3",
   "metadata": {},
   "source": [
    "### first method: drop rows with at least one Nan value"
   ]
  },
  {
   "cell_type": "markdown",
   "id": "9d6fea2c",
   "metadata": {},
   "source": [
    "### second method: fill Nan values with their column's mode."
   ]
  },
  {
   "cell_type": "markdown",
   "id": "66b44d6e",
   "metadata": {},
   "source": [
    "### chose second method because we want to use other information in rows with at leat one Nan value and we don't want to minify our dataset"
   ]
  },
  {
   "cell_type": "code",
   "execution_count": 7,
   "id": "874db95b",
   "metadata": {},
   "outputs": [],
   "source": [
    "for title in df:\n",
    "    df[title] = df[title].fillna(df[title].mode()[0])"
   ]
  },
  {
   "cell_type": "code",
   "execution_count": 8,
   "id": "3fd07894",
   "metadata": {},
   "outputs": [
    {
     "name": "stdout",
     "output_type": "stream",
     "text": [
      "Percentage of data lost in type column :\n",
      "0.0\n",
      "**************************************************\n",
      "Percentage of data lost in title column :\n",
      "0.0\n",
      "**************************************************\n",
      "Percentage of data lost in cast column :\n",
      "0.0\n",
      "**************************************************\n",
      "Percentage of data lost in country column :\n",
      "0.0\n",
      "**************************************************\n",
      "Percentage of data lost in release_year column :\n",
      "0.0\n",
      "**************************************************\n",
      "Percentage of data lost in listed_in column :\n",
      "0.0\n",
      "**************************************************\n",
      "Percentage of data lost in description column :\n",
      "0.0\n",
      "**************************************************\n"
     ]
    }
   ],
   "source": [
    "for title in df:\n",
    "    print(\"Percentage of data lost in\", title, \"column :\")\n",
    "    data_lost = df[title].isnull()\n",
    "    percentage = (data_lost.sum() / data_lost.count()) * 100\n",
    "    print(percentage)\n",
    "    print(\"*\"*50)"
   ]
  },
  {
   "cell_type": "markdown",
   "id": "55790630",
   "metadata": {},
   "source": [
    "### As seen above , lost data was filled with mode of columns successfully."
   ]
  },
  {
   "cell_type": "markdown",
   "id": "96e85ed8",
   "metadata": {},
   "source": [
    "## 2. Normalization VS Standardization:"
   ]
  },
  {
   "cell_type": "markdown",
   "id": "7ec8c4d4",
   "metadata": {},
   "source": [
    "Normalization is a scaling technique in which values are shifted and rescaled so that they end up ranging between 0 and 1. It is also known as Min-Max scaling."
   ]
  },
  {
   "cell_type": "markdown",
   "id": "0fb1a6f1",
   "metadata": {},
   "source": [
    "Standardization is another scaling technique where the values are centered around the mean with a unit standard deviation. This means that the mean of the attribute becomes zero and the resultant distribution has a unit standard deviation."
   ]
  },
  {
   "cell_type": "markdown",
   "id": "9723012f",
   "metadata": {},
   "source": [
    "\n",
    "Normalization is good to use when you know that the distribution of your data does not follow a Gaussian distribution. This can be useful in algorithms that do not assume any distribution of the data like K-Nearest Neighbors and Neural Networks.\n",
    "Standardization, on the other hand, can be helpful in cases where the data follows a Gaussian distribution. However, this does not have to be necessarily true. Also, unlike normalization, standardization does not have a bounding range. So, even if you have outliers in your data, they will not be affected by standardization.\n"
   ]
  },
  {
   "cell_type": "markdown",
   "id": "339b260d",
   "metadata": {},
   "source": [
    "Standardization comes into picture when features of input data set have large differences between their ranges, or simply when they are measured in different measurement units (e.g., Pounds, Meters, Miles … etc).\n",
    "\n",
    "These differences in the ranges of initial features causes trouble to many machine learning models. For example, for the models that are based on distance computation, if one of the features has a broad range of values, the distance will be governed by this particular feature."
   ]
  },
  {
   "cell_type": "markdown",
   "id": "5f1df2c7",
   "metadata": {},
   "source": [
    "resources: https://www.analyticsvidhya.com/blog/2020/04/feature-scaling-machine-learning-normalization-standardization/\n",
    "https://builtin.com/data-science/when-and-why-standardize-your-data"
   ]
  },
  {
   "cell_type": "markdown",
   "id": "5c3035a4",
   "metadata": {},
   "source": [
    "### In this project, Normalization and Standardization don't effect on result because we use tree based algorithms(Decision Tree and Random Forrest) for this project. so we choose Normalization to just choose!"
   ]
  },
  {
   "cell_type": "code",
   "execution_count": 9,
   "id": "520ee858",
   "metadata": {},
   "outputs": [
    {
     "data": {
      "text/plain": [
       "0        2020\n",
       "1        2021\n",
       "2        2021\n",
       "3        2021\n",
       "4        2021\n",
       "         ... \n",
       "11054    2000\n",
       "11055    1996\n",
       "11056    2014\n",
       "11057    2016\n",
       "11058    2008\n",
       "Name: release_year, Length: 11059, dtype: int64"
      ]
     },
     "execution_count": 9,
     "metadata": {},
     "output_type": "execute_result"
    }
   ],
   "source": [
    "df[\"release_year\"]"
   ]
  },
  {
   "cell_type": "code",
   "execution_count": 10,
   "id": "e7daa196",
   "metadata": {},
   "outputs": [],
   "source": [
    "df[\"release_year\"] = (df[\"release_year\"] - df[\"release_year\"].mean()) / df[\"release_year\"].std()"
   ]
  },
  {
   "cell_type": "code",
   "execution_count": 11,
   "id": "ee9593cd",
   "metadata": {},
   "outputs": [
    {
     "data": {
      "text/plain": [
       "0        0.646285\n",
       "1        0.757898\n",
       "2        0.757898\n",
       "3        0.757898\n",
       "4        0.757898\n",
       "           ...   \n",
       "11054   -1.585979\n",
       "11055   -2.032431\n",
       "11056   -0.023394\n",
       "11057    0.199832\n",
       "11058   -0.693073\n",
       "Name: release_year, Length: 11059, dtype: float64"
      ]
     },
     "execution_count": 11,
     "metadata": {},
     "output_type": "execute_result"
    }
   ],
   "source": [
    "df[\"release_year\"]"
   ]
  },
  {
   "cell_type": "markdown",
   "id": "e6c4fbbe",
   "metadata": {},
   "source": [
    "### Normalization by subtract mean and divide by the standard deviation"
   ]
  },
  {
   "cell_type": "markdown",
   "id": "a34e50c1",
   "metadata": {},
   "source": [
    "## 4. Handle listed_in values"
   ]
  },
  {
   "cell_type": "markdown",
   "id": "73928ed6",
   "metadata": {},
   "source": [
    "### For handle this column, we can separate values or concatenate values."
   ]
  },
  {
   "cell_type": "markdown",
   "id": "2d0d2cc9",
   "metadata": {},
   "source": [
    "### We separate listed_in values in to new columns and then remove listed_in column. Because the genres are deferent and most be considered separatly."
   ]
  },
  {
   "cell_type": "code",
   "execution_count": 12,
   "id": "c35d6e5e",
   "metadata": {},
   "outputs": [
    {
     "data": {
      "text/html": [
       "<div>\n",
       "<style scoped>\n",
       "    .dataframe tbody tr th:only-of-type {\n",
       "        vertical-align: middle;\n",
       "    }\n",
       "\n",
       "    .dataframe tbody tr th {\n",
       "        vertical-align: top;\n",
       "    }\n",
       "\n",
       "    .dataframe thead th {\n",
       "        text-align: right;\n",
       "    }\n",
       "</style>\n",
       "<table border=\"1\" class=\"dataframe\">\n",
       "  <thead>\n",
       "    <tr style=\"text-align: right;\">\n",
       "      <th></th>\n",
       "      <th>type</th>\n",
       "      <th>title</th>\n",
       "      <th>cast</th>\n",
       "      <th>country</th>\n",
       "      <th>release_year</th>\n",
       "      <th>listed_in</th>\n",
       "      <th>description</th>\n",
       "    </tr>\n",
       "  </thead>\n",
       "  <tbody>\n",
       "    <tr>\n",
       "      <th>0</th>\n",
       "      <td>Movie</td>\n",
       "      <td>Dick Johnson Is Dead</td>\n",
       "      <td>David Attenborough</td>\n",
       "      <td>United States</td>\n",
       "      <td>0.646285</td>\n",
       "      <td>Documentaries</td>\n",
       "      <td>As her father nears the end of his life, filmm...</td>\n",
       "    </tr>\n",
       "    <tr>\n",
       "      <th>1</th>\n",
       "      <td>TV Show</td>\n",
       "      <td>Blood &amp; Water</td>\n",
       "      <td>Ama Qamata, Khosi Ngema, Gail Mabalane, Thaban...</td>\n",
       "      <td>South Africa</td>\n",
       "      <td>0.757898</td>\n",
       "      <td>International TV Shows, TV Dramas, TV Mysteries</td>\n",
       "      <td>After crossing paths at a party, a Cape Town t...</td>\n",
       "    </tr>\n",
       "    <tr>\n",
       "      <th>2</th>\n",
       "      <td>TV Show</td>\n",
       "      <td>Ganglands</td>\n",
       "      <td>Sami Bouajila, Tracy Gotoas, Samuel Jouy, Nabi...</td>\n",
       "      <td>United States</td>\n",
       "      <td>0.757898</td>\n",
       "      <td>Crime TV Shows, International TV Shows, TV Act...</td>\n",
       "      <td>To protect his family from a powerful drug lor...</td>\n",
       "    </tr>\n",
       "    <tr>\n",
       "      <th>3</th>\n",
       "      <td>TV Show</td>\n",
       "      <td>Jailbirds New Orleans</td>\n",
       "      <td>David Attenborough</td>\n",
       "      <td>United States</td>\n",
       "      <td>0.757898</td>\n",
       "      <td>Docuseries, Reality TV</td>\n",
       "      <td>Feuds, flirtations and toilet talk go down amo...</td>\n",
       "    </tr>\n",
       "    <tr>\n",
       "      <th>4</th>\n",
       "      <td>TV Show</td>\n",
       "      <td>Kota Factory</td>\n",
       "      <td>Mayur More, Jitendra Kumar, Ranjan Raj, Alam K...</td>\n",
       "      <td>India</td>\n",
       "      <td>0.757898</td>\n",
       "      <td>International TV Shows, Romantic TV Shows, TV ...</td>\n",
       "      <td>In a city of coaching centers known to train I...</td>\n",
       "    </tr>\n",
       "    <tr>\n",
       "      <th>...</th>\n",
       "      <td>...</td>\n",
       "      <td>...</td>\n",
       "      <td>...</td>\n",
       "      <td>...</td>\n",
       "      <td>...</td>\n",
       "      <td>...</td>\n",
       "      <td>...</td>\n",
       "    </tr>\n",
       "    <tr>\n",
       "      <th>11054</th>\n",
       "      <td>TV Show</td>\n",
       "      <td>X-Men: Evolution</td>\n",
       "      <td>Noel Fisher, Vincent Gale, Christopher Judge, ...</td>\n",
       "      <td>United States</td>\n",
       "      <td>-1.585979</td>\n",
       "      <td>Action-Adventure, Animation, Kids</td>\n",
       "      <td>X-Men: Evolution features the team as teenager...</td>\n",
       "    </tr>\n",
       "    <tr>\n",
       "      <th>11055</th>\n",
       "      <td>TV Show</td>\n",
       "      <td>Smart Guy</td>\n",
       "      <td>Tahj Mowry, John Jones, Jason Weaver, Essence ...</td>\n",
       "      <td>United States</td>\n",
       "      <td>-2.032431</td>\n",
       "      <td>Comedy, Coming of Age, Kids</td>\n",
       "      <td>A genius tries to fit in as a high school soph...</td>\n",
       "    </tr>\n",
       "    <tr>\n",
       "      <th>11056</th>\n",
       "      <td>TV Show</td>\n",
       "      <td>Disney Kirby Buckets</td>\n",
       "      <td>Jacob Bertrand, Mekai Curtis, Cade Sutton, Oli...</td>\n",
       "      <td>United States</td>\n",
       "      <td>-0.023394</td>\n",
       "      <td>Action-Adventure, Comedy, Coming of Age</td>\n",
       "      <td>Welcome to Kirby's world! It's rude and sketchy.</td>\n",
       "    </tr>\n",
       "    <tr>\n",
       "      <th>11057</th>\n",
       "      <td>TV Show</td>\n",
       "      <td>Disney Mech-X4</td>\n",
       "      <td>Nathaniel Potvin, Raymond Cham, Kamran Lucas, ...</td>\n",
       "      <td>Canada</td>\n",
       "      <td>0.199832</td>\n",
       "      <td>Action-Adventure, Comedy, Science Fiction</td>\n",
       "      <td>Ryan discovers his ability to control a giant ...</td>\n",
       "    </tr>\n",
       "    <tr>\n",
       "      <th>11058</th>\n",
       "      <td>TV Show</td>\n",
       "      <td>Imagination Movers</td>\n",
       "      <td>Rich Collins, Dave Poche, Scott Durbin, Scott ...</td>\n",
       "      <td>United States</td>\n",
       "      <td>-0.693073</td>\n",
       "      <td>Kids, Music</td>\n",
       "      <td>Rock out with the Imagination Movers, Disney J...</td>\n",
       "    </tr>\n",
       "  </tbody>\n",
       "</table>\n",
       "<p>11059 rows × 7 columns</p>\n",
       "</div>"
      ],
      "text/plain": [
       "          type                  title  \\\n",
       "0        Movie   Dick Johnson Is Dead   \n",
       "1      TV Show          Blood & Water   \n",
       "2      TV Show              Ganglands   \n",
       "3      TV Show  Jailbirds New Orleans   \n",
       "4      TV Show           Kota Factory   \n",
       "...        ...                    ...   \n",
       "11054  TV Show       X-Men: Evolution   \n",
       "11055  TV Show              Smart Guy   \n",
       "11056  TV Show   Disney Kirby Buckets   \n",
       "11057  TV Show         Disney Mech-X4   \n",
       "11058  TV Show     Imagination Movers   \n",
       "\n",
       "                                                    cast        country  \\\n",
       "0                                     David Attenborough  United States   \n",
       "1      Ama Qamata, Khosi Ngema, Gail Mabalane, Thaban...   South Africa   \n",
       "2      Sami Bouajila, Tracy Gotoas, Samuel Jouy, Nabi...  United States   \n",
       "3                                     David Attenborough  United States   \n",
       "4      Mayur More, Jitendra Kumar, Ranjan Raj, Alam K...          India   \n",
       "...                                                  ...            ...   \n",
       "11054  Noel Fisher, Vincent Gale, Christopher Judge, ...  United States   \n",
       "11055  Tahj Mowry, John Jones, Jason Weaver, Essence ...  United States   \n",
       "11056  Jacob Bertrand, Mekai Curtis, Cade Sutton, Oli...  United States   \n",
       "11057  Nathaniel Potvin, Raymond Cham, Kamran Lucas, ...         Canada   \n",
       "11058  Rich Collins, Dave Poche, Scott Durbin, Scott ...  United States   \n",
       "\n",
       "       release_year                                          listed_in  \\\n",
       "0          0.646285                                      Documentaries   \n",
       "1          0.757898    International TV Shows, TV Dramas, TV Mysteries   \n",
       "2          0.757898  Crime TV Shows, International TV Shows, TV Act...   \n",
       "3          0.757898                             Docuseries, Reality TV   \n",
       "4          0.757898  International TV Shows, Romantic TV Shows, TV ...   \n",
       "...             ...                                                ...   \n",
       "11054     -1.585979                  Action-Adventure, Animation, Kids   \n",
       "11055     -2.032431                        Comedy, Coming of Age, Kids   \n",
       "11056     -0.023394            Action-Adventure, Comedy, Coming of Age   \n",
       "11057      0.199832          Action-Adventure, Comedy, Science Fiction   \n",
       "11058     -0.693073                                        Kids, Music   \n",
       "\n",
       "                                             description  \n",
       "0      As her father nears the end of his life, filmm...  \n",
       "1      After crossing paths at a party, a Cape Town t...  \n",
       "2      To protect his family from a powerful drug lor...  \n",
       "3      Feuds, flirtations and toilet talk go down amo...  \n",
       "4      In a city of coaching centers known to train I...  \n",
       "...                                                  ...  \n",
       "11054  X-Men: Evolution features the team as teenager...  \n",
       "11055  A genius tries to fit in as a high school soph...  \n",
       "11056   Welcome to Kirby's world! It's rude and sketchy.  \n",
       "11057  Ryan discovers his ability to control a giant ...  \n",
       "11058  Rock out with the Imagination Movers, Disney J...  \n",
       "\n",
       "[11059 rows x 7 columns]"
      ]
     },
     "execution_count": 12,
     "metadata": {},
     "output_type": "execute_result"
    }
   ],
   "source": [
    "df"
   ]
  },
  {
   "cell_type": "code",
   "execution_count": 13,
   "id": "b2bf88ab",
   "metadata": {},
   "outputs": [],
   "source": [
    "max_num_of_values = 0\n",
    "for item in df[\"listed_in\"]:\n",
    "    if len(item.split(\", \")) > max_num_of_values:\n",
    "        max_num_of_values = len(item.split(\", \"))"
   ]
  },
  {
   "cell_type": "code",
   "execution_count": 14,
   "id": "014dcc77",
   "metadata": {},
   "outputs": [
    {
     "name": "stdout",
     "output_type": "stream",
     "text": [
      "Number of columns we need to separate the listed_in columns : 5\n"
     ]
    }
   ],
   "source": [
    "print(\"Number of columns we need to separate the listed_in columns :\", max_num_of_values)"
   ]
  },
  {
   "cell_type": "code",
   "execution_count": 15,
   "id": "0f965f6e",
   "metadata": {},
   "outputs": [],
   "source": [
    "for i in range(0, max_num_of_values):\n",
    "    ls = []\n",
    "    for item in df[\"listed_in\"]:\n",
    "        if len(item.split(\", \")) <= i:\n",
    "            index = i % len(item.split(\", \"))\n",
    "            ls.append(item.split(\", \")[index])\n",
    "        else:\n",
    "            ls.append(item.split(\", \")[i])\n",
    "    column_name = \"genre\" + str(i)\n",
    "    df[column_name] = ls "
   ]
  },
  {
   "cell_type": "code",
   "execution_count": 16,
   "id": "12439caf",
   "metadata": {},
   "outputs": [
    {
     "data": {
      "text/html": [
       "<div>\n",
       "<style scoped>\n",
       "    .dataframe tbody tr th:only-of-type {\n",
       "        vertical-align: middle;\n",
       "    }\n",
       "\n",
       "    .dataframe tbody tr th {\n",
       "        vertical-align: top;\n",
       "    }\n",
       "\n",
       "    .dataframe thead th {\n",
       "        text-align: right;\n",
       "    }\n",
       "</style>\n",
       "<table border=\"1\" class=\"dataframe\">\n",
       "  <thead>\n",
       "    <tr style=\"text-align: right;\">\n",
       "      <th></th>\n",
       "      <th>type</th>\n",
       "      <th>title</th>\n",
       "      <th>cast</th>\n",
       "      <th>country</th>\n",
       "      <th>release_year</th>\n",
       "      <th>listed_in</th>\n",
       "      <th>description</th>\n",
       "      <th>genre0</th>\n",
       "      <th>genre1</th>\n",
       "      <th>genre2</th>\n",
       "      <th>genre3</th>\n",
       "      <th>genre4</th>\n",
       "    </tr>\n",
       "  </thead>\n",
       "  <tbody>\n",
       "    <tr>\n",
       "      <th>0</th>\n",
       "      <td>Movie</td>\n",
       "      <td>Dick Johnson Is Dead</td>\n",
       "      <td>David Attenborough</td>\n",
       "      <td>United States</td>\n",
       "      <td>0.646285</td>\n",
       "      <td>Documentaries</td>\n",
       "      <td>As her father nears the end of his life, filmm...</td>\n",
       "      <td>Documentaries</td>\n",
       "      <td>Documentaries</td>\n",
       "      <td>Documentaries</td>\n",
       "      <td>Documentaries</td>\n",
       "      <td>Documentaries</td>\n",
       "    </tr>\n",
       "    <tr>\n",
       "      <th>1</th>\n",
       "      <td>TV Show</td>\n",
       "      <td>Blood &amp; Water</td>\n",
       "      <td>Ama Qamata, Khosi Ngema, Gail Mabalane, Thaban...</td>\n",
       "      <td>South Africa</td>\n",
       "      <td>0.757898</td>\n",
       "      <td>International TV Shows, TV Dramas, TV Mysteries</td>\n",
       "      <td>After crossing paths at a party, a Cape Town t...</td>\n",
       "      <td>International TV Shows</td>\n",
       "      <td>TV Dramas</td>\n",
       "      <td>TV Mysteries</td>\n",
       "      <td>International TV Shows</td>\n",
       "      <td>TV Dramas</td>\n",
       "    </tr>\n",
       "    <tr>\n",
       "      <th>2</th>\n",
       "      <td>TV Show</td>\n",
       "      <td>Ganglands</td>\n",
       "      <td>Sami Bouajila, Tracy Gotoas, Samuel Jouy, Nabi...</td>\n",
       "      <td>United States</td>\n",
       "      <td>0.757898</td>\n",
       "      <td>Crime TV Shows, International TV Shows, TV Act...</td>\n",
       "      <td>To protect his family from a powerful drug lor...</td>\n",
       "      <td>Crime TV Shows</td>\n",
       "      <td>International TV Shows</td>\n",
       "      <td>TV Action &amp; Adventure</td>\n",
       "      <td>Crime TV Shows</td>\n",
       "      <td>International TV Shows</td>\n",
       "    </tr>\n",
       "    <tr>\n",
       "      <th>3</th>\n",
       "      <td>TV Show</td>\n",
       "      <td>Jailbirds New Orleans</td>\n",
       "      <td>David Attenborough</td>\n",
       "      <td>United States</td>\n",
       "      <td>0.757898</td>\n",
       "      <td>Docuseries, Reality TV</td>\n",
       "      <td>Feuds, flirtations and toilet talk go down amo...</td>\n",
       "      <td>Docuseries</td>\n",
       "      <td>Reality TV</td>\n",
       "      <td>Docuseries</td>\n",
       "      <td>Reality TV</td>\n",
       "      <td>Docuseries</td>\n",
       "    </tr>\n",
       "    <tr>\n",
       "      <th>4</th>\n",
       "      <td>TV Show</td>\n",
       "      <td>Kota Factory</td>\n",
       "      <td>Mayur More, Jitendra Kumar, Ranjan Raj, Alam K...</td>\n",
       "      <td>India</td>\n",
       "      <td>0.757898</td>\n",
       "      <td>International TV Shows, Romantic TV Shows, TV ...</td>\n",
       "      <td>In a city of coaching centers known to train I...</td>\n",
       "      <td>International TV Shows</td>\n",
       "      <td>Romantic TV Shows</td>\n",
       "      <td>TV Comedies</td>\n",
       "      <td>International TV Shows</td>\n",
       "      <td>Romantic TV Shows</td>\n",
       "    </tr>\n",
       "    <tr>\n",
       "      <th>...</th>\n",
       "      <td>...</td>\n",
       "      <td>...</td>\n",
       "      <td>...</td>\n",
       "      <td>...</td>\n",
       "      <td>...</td>\n",
       "      <td>...</td>\n",
       "      <td>...</td>\n",
       "      <td>...</td>\n",
       "      <td>...</td>\n",
       "      <td>...</td>\n",
       "      <td>...</td>\n",
       "      <td>...</td>\n",
       "    </tr>\n",
       "    <tr>\n",
       "      <th>11054</th>\n",
       "      <td>TV Show</td>\n",
       "      <td>X-Men: Evolution</td>\n",
       "      <td>Noel Fisher, Vincent Gale, Christopher Judge, ...</td>\n",
       "      <td>United States</td>\n",
       "      <td>-1.585979</td>\n",
       "      <td>Action-Adventure, Animation, Kids</td>\n",
       "      <td>X-Men: Evolution features the team as teenager...</td>\n",
       "      <td>Action-Adventure</td>\n",
       "      <td>Animation</td>\n",
       "      <td>Kids</td>\n",
       "      <td>Action-Adventure</td>\n",
       "      <td>Animation</td>\n",
       "    </tr>\n",
       "    <tr>\n",
       "      <th>11055</th>\n",
       "      <td>TV Show</td>\n",
       "      <td>Smart Guy</td>\n",
       "      <td>Tahj Mowry, John Jones, Jason Weaver, Essence ...</td>\n",
       "      <td>United States</td>\n",
       "      <td>-2.032431</td>\n",
       "      <td>Comedy, Coming of Age, Kids</td>\n",
       "      <td>A genius tries to fit in as a high school soph...</td>\n",
       "      <td>Comedy</td>\n",
       "      <td>Coming of Age</td>\n",
       "      <td>Kids</td>\n",
       "      <td>Comedy</td>\n",
       "      <td>Coming of Age</td>\n",
       "    </tr>\n",
       "    <tr>\n",
       "      <th>11056</th>\n",
       "      <td>TV Show</td>\n",
       "      <td>Disney Kirby Buckets</td>\n",
       "      <td>Jacob Bertrand, Mekai Curtis, Cade Sutton, Oli...</td>\n",
       "      <td>United States</td>\n",
       "      <td>-0.023394</td>\n",
       "      <td>Action-Adventure, Comedy, Coming of Age</td>\n",
       "      <td>Welcome to Kirby's world! It's rude and sketchy.</td>\n",
       "      <td>Action-Adventure</td>\n",
       "      <td>Comedy</td>\n",
       "      <td>Coming of Age</td>\n",
       "      <td>Action-Adventure</td>\n",
       "      <td>Comedy</td>\n",
       "    </tr>\n",
       "    <tr>\n",
       "      <th>11057</th>\n",
       "      <td>TV Show</td>\n",
       "      <td>Disney Mech-X4</td>\n",
       "      <td>Nathaniel Potvin, Raymond Cham, Kamran Lucas, ...</td>\n",
       "      <td>Canada</td>\n",
       "      <td>0.199832</td>\n",
       "      <td>Action-Adventure, Comedy, Science Fiction</td>\n",
       "      <td>Ryan discovers his ability to control a giant ...</td>\n",
       "      <td>Action-Adventure</td>\n",
       "      <td>Comedy</td>\n",
       "      <td>Science Fiction</td>\n",
       "      <td>Action-Adventure</td>\n",
       "      <td>Comedy</td>\n",
       "    </tr>\n",
       "    <tr>\n",
       "      <th>11058</th>\n",
       "      <td>TV Show</td>\n",
       "      <td>Imagination Movers</td>\n",
       "      <td>Rich Collins, Dave Poche, Scott Durbin, Scott ...</td>\n",
       "      <td>United States</td>\n",
       "      <td>-0.693073</td>\n",
       "      <td>Kids, Music</td>\n",
       "      <td>Rock out with the Imagination Movers, Disney J...</td>\n",
       "      <td>Kids</td>\n",
       "      <td>Music</td>\n",
       "      <td>Kids</td>\n",
       "      <td>Music</td>\n",
       "      <td>Kids</td>\n",
       "    </tr>\n",
       "  </tbody>\n",
       "</table>\n",
       "<p>11059 rows × 12 columns</p>\n",
       "</div>"
      ],
      "text/plain": [
       "          type                  title  \\\n",
       "0        Movie   Dick Johnson Is Dead   \n",
       "1      TV Show          Blood & Water   \n",
       "2      TV Show              Ganglands   \n",
       "3      TV Show  Jailbirds New Orleans   \n",
       "4      TV Show           Kota Factory   \n",
       "...        ...                    ...   \n",
       "11054  TV Show       X-Men: Evolution   \n",
       "11055  TV Show              Smart Guy   \n",
       "11056  TV Show   Disney Kirby Buckets   \n",
       "11057  TV Show         Disney Mech-X4   \n",
       "11058  TV Show     Imagination Movers   \n",
       "\n",
       "                                                    cast        country  \\\n",
       "0                                     David Attenborough  United States   \n",
       "1      Ama Qamata, Khosi Ngema, Gail Mabalane, Thaban...   South Africa   \n",
       "2      Sami Bouajila, Tracy Gotoas, Samuel Jouy, Nabi...  United States   \n",
       "3                                     David Attenborough  United States   \n",
       "4      Mayur More, Jitendra Kumar, Ranjan Raj, Alam K...          India   \n",
       "...                                                  ...            ...   \n",
       "11054  Noel Fisher, Vincent Gale, Christopher Judge, ...  United States   \n",
       "11055  Tahj Mowry, John Jones, Jason Weaver, Essence ...  United States   \n",
       "11056  Jacob Bertrand, Mekai Curtis, Cade Sutton, Oli...  United States   \n",
       "11057  Nathaniel Potvin, Raymond Cham, Kamran Lucas, ...         Canada   \n",
       "11058  Rich Collins, Dave Poche, Scott Durbin, Scott ...  United States   \n",
       "\n",
       "       release_year                                          listed_in  \\\n",
       "0          0.646285                                      Documentaries   \n",
       "1          0.757898    International TV Shows, TV Dramas, TV Mysteries   \n",
       "2          0.757898  Crime TV Shows, International TV Shows, TV Act...   \n",
       "3          0.757898                             Docuseries, Reality TV   \n",
       "4          0.757898  International TV Shows, Romantic TV Shows, TV ...   \n",
       "...             ...                                                ...   \n",
       "11054     -1.585979                  Action-Adventure, Animation, Kids   \n",
       "11055     -2.032431                        Comedy, Coming of Age, Kids   \n",
       "11056     -0.023394            Action-Adventure, Comedy, Coming of Age   \n",
       "11057      0.199832          Action-Adventure, Comedy, Science Fiction   \n",
       "11058     -0.693073                                        Kids, Music   \n",
       "\n",
       "                                             description  \\\n",
       "0      As her father nears the end of his life, filmm...   \n",
       "1      After crossing paths at a party, a Cape Town t...   \n",
       "2      To protect his family from a powerful drug lor...   \n",
       "3      Feuds, flirtations and toilet talk go down amo...   \n",
       "4      In a city of coaching centers known to train I...   \n",
       "...                                                  ...   \n",
       "11054  X-Men: Evolution features the team as teenager...   \n",
       "11055  A genius tries to fit in as a high school soph...   \n",
       "11056   Welcome to Kirby's world! It's rude and sketchy.   \n",
       "11057  Ryan discovers his ability to control a giant ...   \n",
       "11058  Rock out with the Imagination Movers, Disney J...   \n",
       "\n",
       "                       genre0                  genre1                 genre2  \\\n",
       "0               Documentaries           Documentaries          Documentaries   \n",
       "1      International TV Shows               TV Dramas           TV Mysteries   \n",
       "2              Crime TV Shows  International TV Shows  TV Action & Adventure   \n",
       "3                  Docuseries              Reality TV             Docuseries   \n",
       "4      International TV Shows       Romantic TV Shows            TV Comedies   \n",
       "...                       ...                     ...                    ...   \n",
       "11054        Action-Adventure               Animation                   Kids   \n",
       "11055                  Comedy           Coming of Age                   Kids   \n",
       "11056        Action-Adventure                  Comedy          Coming of Age   \n",
       "11057        Action-Adventure                  Comedy        Science Fiction   \n",
       "11058                    Kids                   Music                   Kids   \n",
       "\n",
       "                       genre3                  genre4  \n",
       "0               Documentaries           Documentaries  \n",
       "1      International TV Shows               TV Dramas  \n",
       "2              Crime TV Shows  International TV Shows  \n",
       "3                  Reality TV              Docuseries  \n",
       "4      International TV Shows       Romantic TV Shows  \n",
       "...                       ...                     ...  \n",
       "11054        Action-Adventure               Animation  \n",
       "11055                  Comedy           Coming of Age  \n",
       "11056        Action-Adventure                  Comedy  \n",
       "11057        Action-Adventure                  Comedy  \n",
       "11058                   Music                    Kids  \n",
       "\n",
       "[11059 rows x 12 columns]"
      ]
     },
     "execution_count": 16,
     "metadata": {},
     "output_type": "execute_result"
    }
   ],
   "source": [
    "df"
   ]
  },
  {
   "cell_type": "markdown",
   "id": "72f8a2cf",
   "metadata": {},
   "source": [
    "### delete listed_in column:"
   ]
  },
  {
   "cell_type": "code",
   "execution_count": 17,
   "id": "19863672",
   "metadata": {},
   "outputs": [],
   "source": [
    "df.drop(labels = \"listed_in\", axis = 1, inplace = True)"
   ]
  },
  {
   "cell_type": "code",
   "execution_count": 18,
   "id": "45a537ea",
   "metadata": {},
   "outputs": [
    {
     "data": {
      "text/html": [
       "<div>\n",
       "<style scoped>\n",
       "    .dataframe tbody tr th:only-of-type {\n",
       "        vertical-align: middle;\n",
       "    }\n",
       "\n",
       "    .dataframe tbody tr th {\n",
       "        vertical-align: top;\n",
       "    }\n",
       "\n",
       "    .dataframe thead th {\n",
       "        text-align: right;\n",
       "    }\n",
       "</style>\n",
       "<table border=\"1\" class=\"dataframe\">\n",
       "  <thead>\n",
       "    <tr style=\"text-align: right;\">\n",
       "      <th></th>\n",
       "      <th>type</th>\n",
       "      <th>title</th>\n",
       "      <th>cast</th>\n",
       "      <th>country</th>\n",
       "      <th>release_year</th>\n",
       "      <th>description</th>\n",
       "      <th>genre0</th>\n",
       "      <th>genre1</th>\n",
       "      <th>genre2</th>\n",
       "      <th>genre3</th>\n",
       "      <th>genre4</th>\n",
       "    </tr>\n",
       "  </thead>\n",
       "  <tbody>\n",
       "    <tr>\n",
       "      <th>0</th>\n",
       "      <td>Movie</td>\n",
       "      <td>Dick Johnson Is Dead</td>\n",
       "      <td>David Attenborough</td>\n",
       "      <td>United States</td>\n",
       "      <td>0.646285</td>\n",
       "      <td>As her father nears the end of his life, filmm...</td>\n",
       "      <td>Documentaries</td>\n",
       "      <td>Documentaries</td>\n",
       "      <td>Documentaries</td>\n",
       "      <td>Documentaries</td>\n",
       "      <td>Documentaries</td>\n",
       "    </tr>\n",
       "    <tr>\n",
       "      <th>1</th>\n",
       "      <td>TV Show</td>\n",
       "      <td>Blood &amp; Water</td>\n",
       "      <td>Ama Qamata, Khosi Ngema, Gail Mabalane, Thaban...</td>\n",
       "      <td>South Africa</td>\n",
       "      <td>0.757898</td>\n",
       "      <td>After crossing paths at a party, a Cape Town t...</td>\n",
       "      <td>International TV Shows</td>\n",
       "      <td>TV Dramas</td>\n",
       "      <td>TV Mysteries</td>\n",
       "      <td>International TV Shows</td>\n",
       "      <td>TV Dramas</td>\n",
       "    </tr>\n",
       "    <tr>\n",
       "      <th>2</th>\n",
       "      <td>TV Show</td>\n",
       "      <td>Ganglands</td>\n",
       "      <td>Sami Bouajila, Tracy Gotoas, Samuel Jouy, Nabi...</td>\n",
       "      <td>United States</td>\n",
       "      <td>0.757898</td>\n",
       "      <td>To protect his family from a powerful drug lor...</td>\n",
       "      <td>Crime TV Shows</td>\n",
       "      <td>International TV Shows</td>\n",
       "      <td>TV Action &amp; Adventure</td>\n",
       "      <td>Crime TV Shows</td>\n",
       "      <td>International TV Shows</td>\n",
       "    </tr>\n",
       "    <tr>\n",
       "      <th>3</th>\n",
       "      <td>TV Show</td>\n",
       "      <td>Jailbirds New Orleans</td>\n",
       "      <td>David Attenborough</td>\n",
       "      <td>United States</td>\n",
       "      <td>0.757898</td>\n",
       "      <td>Feuds, flirtations and toilet talk go down amo...</td>\n",
       "      <td>Docuseries</td>\n",
       "      <td>Reality TV</td>\n",
       "      <td>Docuseries</td>\n",
       "      <td>Reality TV</td>\n",
       "      <td>Docuseries</td>\n",
       "    </tr>\n",
       "    <tr>\n",
       "      <th>4</th>\n",
       "      <td>TV Show</td>\n",
       "      <td>Kota Factory</td>\n",
       "      <td>Mayur More, Jitendra Kumar, Ranjan Raj, Alam K...</td>\n",
       "      <td>India</td>\n",
       "      <td>0.757898</td>\n",
       "      <td>In a city of coaching centers known to train I...</td>\n",
       "      <td>International TV Shows</td>\n",
       "      <td>Romantic TV Shows</td>\n",
       "      <td>TV Comedies</td>\n",
       "      <td>International TV Shows</td>\n",
       "      <td>Romantic TV Shows</td>\n",
       "    </tr>\n",
       "    <tr>\n",
       "      <th>...</th>\n",
       "      <td>...</td>\n",
       "      <td>...</td>\n",
       "      <td>...</td>\n",
       "      <td>...</td>\n",
       "      <td>...</td>\n",
       "      <td>...</td>\n",
       "      <td>...</td>\n",
       "      <td>...</td>\n",
       "      <td>...</td>\n",
       "      <td>...</td>\n",
       "      <td>...</td>\n",
       "    </tr>\n",
       "    <tr>\n",
       "      <th>11054</th>\n",
       "      <td>TV Show</td>\n",
       "      <td>X-Men: Evolution</td>\n",
       "      <td>Noel Fisher, Vincent Gale, Christopher Judge, ...</td>\n",
       "      <td>United States</td>\n",
       "      <td>-1.585979</td>\n",
       "      <td>X-Men: Evolution features the team as teenager...</td>\n",
       "      <td>Action-Adventure</td>\n",
       "      <td>Animation</td>\n",
       "      <td>Kids</td>\n",
       "      <td>Action-Adventure</td>\n",
       "      <td>Animation</td>\n",
       "    </tr>\n",
       "    <tr>\n",
       "      <th>11055</th>\n",
       "      <td>TV Show</td>\n",
       "      <td>Smart Guy</td>\n",
       "      <td>Tahj Mowry, John Jones, Jason Weaver, Essence ...</td>\n",
       "      <td>United States</td>\n",
       "      <td>-2.032431</td>\n",
       "      <td>A genius tries to fit in as a high school soph...</td>\n",
       "      <td>Comedy</td>\n",
       "      <td>Coming of Age</td>\n",
       "      <td>Kids</td>\n",
       "      <td>Comedy</td>\n",
       "      <td>Coming of Age</td>\n",
       "    </tr>\n",
       "    <tr>\n",
       "      <th>11056</th>\n",
       "      <td>TV Show</td>\n",
       "      <td>Disney Kirby Buckets</td>\n",
       "      <td>Jacob Bertrand, Mekai Curtis, Cade Sutton, Oli...</td>\n",
       "      <td>United States</td>\n",
       "      <td>-0.023394</td>\n",
       "      <td>Welcome to Kirby's world! It's rude and sketchy.</td>\n",
       "      <td>Action-Adventure</td>\n",
       "      <td>Comedy</td>\n",
       "      <td>Coming of Age</td>\n",
       "      <td>Action-Adventure</td>\n",
       "      <td>Comedy</td>\n",
       "    </tr>\n",
       "    <tr>\n",
       "      <th>11057</th>\n",
       "      <td>TV Show</td>\n",
       "      <td>Disney Mech-X4</td>\n",
       "      <td>Nathaniel Potvin, Raymond Cham, Kamran Lucas, ...</td>\n",
       "      <td>Canada</td>\n",
       "      <td>0.199832</td>\n",
       "      <td>Ryan discovers his ability to control a giant ...</td>\n",
       "      <td>Action-Adventure</td>\n",
       "      <td>Comedy</td>\n",
       "      <td>Science Fiction</td>\n",
       "      <td>Action-Adventure</td>\n",
       "      <td>Comedy</td>\n",
       "    </tr>\n",
       "    <tr>\n",
       "      <th>11058</th>\n",
       "      <td>TV Show</td>\n",
       "      <td>Imagination Movers</td>\n",
       "      <td>Rich Collins, Dave Poche, Scott Durbin, Scott ...</td>\n",
       "      <td>United States</td>\n",
       "      <td>-0.693073</td>\n",
       "      <td>Rock out with the Imagination Movers, Disney J...</td>\n",
       "      <td>Kids</td>\n",
       "      <td>Music</td>\n",
       "      <td>Kids</td>\n",
       "      <td>Music</td>\n",
       "      <td>Kids</td>\n",
       "    </tr>\n",
       "  </tbody>\n",
       "</table>\n",
       "<p>11059 rows × 11 columns</p>\n",
       "</div>"
      ],
      "text/plain": [
       "          type                  title  \\\n",
       "0        Movie   Dick Johnson Is Dead   \n",
       "1      TV Show          Blood & Water   \n",
       "2      TV Show              Ganglands   \n",
       "3      TV Show  Jailbirds New Orleans   \n",
       "4      TV Show           Kota Factory   \n",
       "...        ...                    ...   \n",
       "11054  TV Show       X-Men: Evolution   \n",
       "11055  TV Show              Smart Guy   \n",
       "11056  TV Show   Disney Kirby Buckets   \n",
       "11057  TV Show         Disney Mech-X4   \n",
       "11058  TV Show     Imagination Movers   \n",
       "\n",
       "                                                    cast        country  \\\n",
       "0                                     David Attenborough  United States   \n",
       "1      Ama Qamata, Khosi Ngema, Gail Mabalane, Thaban...   South Africa   \n",
       "2      Sami Bouajila, Tracy Gotoas, Samuel Jouy, Nabi...  United States   \n",
       "3                                     David Attenborough  United States   \n",
       "4      Mayur More, Jitendra Kumar, Ranjan Raj, Alam K...          India   \n",
       "...                                                  ...            ...   \n",
       "11054  Noel Fisher, Vincent Gale, Christopher Judge, ...  United States   \n",
       "11055  Tahj Mowry, John Jones, Jason Weaver, Essence ...  United States   \n",
       "11056  Jacob Bertrand, Mekai Curtis, Cade Sutton, Oli...  United States   \n",
       "11057  Nathaniel Potvin, Raymond Cham, Kamran Lucas, ...         Canada   \n",
       "11058  Rich Collins, Dave Poche, Scott Durbin, Scott ...  United States   \n",
       "\n",
       "       release_year                                        description  \\\n",
       "0          0.646285  As her father nears the end of his life, filmm...   \n",
       "1          0.757898  After crossing paths at a party, a Cape Town t...   \n",
       "2          0.757898  To protect his family from a powerful drug lor...   \n",
       "3          0.757898  Feuds, flirtations and toilet talk go down amo...   \n",
       "4          0.757898  In a city of coaching centers known to train I...   \n",
       "...             ...                                                ...   \n",
       "11054     -1.585979  X-Men: Evolution features the team as teenager...   \n",
       "11055     -2.032431  A genius tries to fit in as a high school soph...   \n",
       "11056     -0.023394   Welcome to Kirby's world! It's rude and sketchy.   \n",
       "11057      0.199832  Ryan discovers his ability to control a giant ...   \n",
       "11058     -0.693073  Rock out with the Imagination Movers, Disney J...   \n",
       "\n",
       "                       genre0                  genre1                 genre2  \\\n",
       "0               Documentaries           Documentaries          Documentaries   \n",
       "1      International TV Shows               TV Dramas           TV Mysteries   \n",
       "2              Crime TV Shows  International TV Shows  TV Action & Adventure   \n",
       "3                  Docuseries              Reality TV             Docuseries   \n",
       "4      International TV Shows       Romantic TV Shows            TV Comedies   \n",
       "...                       ...                     ...                    ...   \n",
       "11054        Action-Adventure               Animation                   Kids   \n",
       "11055                  Comedy           Coming of Age                   Kids   \n",
       "11056        Action-Adventure                  Comedy          Coming of Age   \n",
       "11057        Action-Adventure                  Comedy        Science Fiction   \n",
       "11058                    Kids                   Music                   Kids   \n",
       "\n",
       "                       genre3                  genre4  \n",
       "0               Documentaries           Documentaries  \n",
       "1      International TV Shows               TV Dramas  \n",
       "2              Crime TV Shows  International TV Shows  \n",
       "3                  Reality TV              Docuseries  \n",
       "4      International TV Shows       Romantic TV Shows  \n",
       "...                       ...                     ...  \n",
       "11054        Action-Adventure               Animation  \n",
       "11055                  Comedy           Coming of Age  \n",
       "11056        Action-Adventure                  Comedy  \n",
       "11057        Action-Adventure                  Comedy  \n",
       "11058                   Music                    Kids  \n",
       "\n",
       "[11059 rows x 11 columns]"
      ]
     },
     "execution_count": 18,
     "metadata": {},
     "output_type": "execute_result"
    }
   ],
   "source": [
    "df"
   ]
  },
  {
   "cell_type": "markdown",
   "id": "9ef9a8cf",
   "metadata": {},
   "source": [
    "## Extract Atribute from Text"
   ]
  },
  {
   "cell_type": "markdown",
   "id": "202518cd",
   "metadata": {},
   "source": [
    "### Concatenate Title and Description columns:"
   ]
  },
  {
   "cell_type": "code",
   "execution_count": 19,
   "id": "0e0c8fd8",
   "metadata": {},
   "outputs": [],
   "source": [
    "df[\"information\"] = df[\"title\"] + \" \" + df[\"description\"]\n",
    "df.drop(labels = [\"title\", \"description\"], axis = 1, inplace = True)"
   ]
  },
  {
   "cell_type": "code",
   "execution_count": 20,
   "id": "d930f7aa",
   "metadata": {
    "scrolled": true
   },
   "outputs": [
    {
     "data": {
      "text/html": [
       "<div>\n",
       "<style scoped>\n",
       "    .dataframe tbody tr th:only-of-type {\n",
       "        vertical-align: middle;\n",
       "    }\n",
       "\n",
       "    .dataframe tbody tr th {\n",
       "        vertical-align: top;\n",
       "    }\n",
       "\n",
       "    .dataframe thead th {\n",
       "        text-align: right;\n",
       "    }\n",
       "</style>\n",
       "<table border=\"1\" class=\"dataframe\">\n",
       "  <thead>\n",
       "    <tr style=\"text-align: right;\">\n",
       "      <th></th>\n",
       "      <th>type</th>\n",
       "      <th>cast</th>\n",
       "      <th>country</th>\n",
       "      <th>release_year</th>\n",
       "      <th>genre0</th>\n",
       "      <th>genre1</th>\n",
       "      <th>genre2</th>\n",
       "      <th>genre3</th>\n",
       "      <th>genre4</th>\n",
       "      <th>information</th>\n",
       "    </tr>\n",
       "  </thead>\n",
       "  <tbody>\n",
       "    <tr>\n",
       "      <th>0</th>\n",
       "      <td>Movie</td>\n",
       "      <td>David Attenborough</td>\n",
       "      <td>United States</td>\n",
       "      <td>0.646285</td>\n",
       "      <td>Documentaries</td>\n",
       "      <td>Documentaries</td>\n",
       "      <td>Documentaries</td>\n",
       "      <td>Documentaries</td>\n",
       "      <td>Documentaries</td>\n",
       "      <td>Dick Johnson Is Dead As her father nears the e...</td>\n",
       "    </tr>\n",
       "    <tr>\n",
       "      <th>1</th>\n",
       "      <td>TV Show</td>\n",
       "      <td>Ama Qamata, Khosi Ngema, Gail Mabalane, Thaban...</td>\n",
       "      <td>South Africa</td>\n",
       "      <td>0.757898</td>\n",
       "      <td>International TV Shows</td>\n",
       "      <td>TV Dramas</td>\n",
       "      <td>TV Mysteries</td>\n",
       "      <td>International TV Shows</td>\n",
       "      <td>TV Dramas</td>\n",
       "      <td>Blood &amp; Water After crossing paths at a party,...</td>\n",
       "    </tr>\n",
       "    <tr>\n",
       "      <th>2</th>\n",
       "      <td>TV Show</td>\n",
       "      <td>Sami Bouajila, Tracy Gotoas, Samuel Jouy, Nabi...</td>\n",
       "      <td>United States</td>\n",
       "      <td>0.757898</td>\n",
       "      <td>Crime TV Shows</td>\n",
       "      <td>International TV Shows</td>\n",
       "      <td>TV Action &amp; Adventure</td>\n",
       "      <td>Crime TV Shows</td>\n",
       "      <td>International TV Shows</td>\n",
       "      <td>Ganglands To protect his family from a powerfu...</td>\n",
       "    </tr>\n",
       "    <tr>\n",
       "      <th>3</th>\n",
       "      <td>TV Show</td>\n",
       "      <td>David Attenborough</td>\n",
       "      <td>United States</td>\n",
       "      <td>0.757898</td>\n",
       "      <td>Docuseries</td>\n",
       "      <td>Reality TV</td>\n",
       "      <td>Docuseries</td>\n",
       "      <td>Reality TV</td>\n",
       "      <td>Docuseries</td>\n",
       "      <td>Jailbirds New Orleans Feuds, flirtations and t...</td>\n",
       "    </tr>\n",
       "    <tr>\n",
       "      <th>4</th>\n",
       "      <td>TV Show</td>\n",
       "      <td>Mayur More, Jitendra Kumar, Ranjan Raj, Alam K...</td>\n",
       "      <td>India</td>\n",
       "      <td>0.757898</td>\n",
       "      <td>International TV Shows</td>\n",
       "      <td>Romantic TV Shows</td>\n",
       "      <td>TV Comedies</td>\n",
       "      <td>International TV Shows</td>\n",
       "      <td>Romantic TV Shows</td>\n",
       "      <td>Kota Factory In a city of coaching centers kno...</td>\n",
       "    </tr>\n",
       "    <tr>\n",
       "      <th>...</th>\n",
       "      <td>...</td>\n",
       "      <td>...</td>\n",
       "      <td>...</td>\n",
       "      <td>...</td>\n",
       "      <td>...</td>\n",
       "      <td>...</td>\n",
       "      <td>...</td>\n",
       "      <td>...</td>\n",
       "      <td>...</td>\n",
       "      <td>...</td>\n",
       "    </tr>\n",
       "    <tr>\n",
       "      <th>11054</th>\n",
       "      <td>TV Show</td>\n",
       "      <td>Noel Fisher, Vincent Gale, Christopher Judge, ...</td>\n",
       "      <td>United States</td>\n",
       "      <td>-1.585979</td>\n",
       "      <td>Action-Adventure</td>\n",
       "      <td>Animation</td>\n",
       "      <td>Kids</td>\n",
       "      <td>Action-Adventure</td>\n",
       "      <td>Animation</td>\n",
       "      <td>X-Men: Evolution X-Men: Evolution features the...</td>\n",
       "    </tr>\n",
       "    <tr>\n",
       "      <th>11055</th>\n",
       "      <td>TV Show</td>\n",
       "      <td>Tahj Mowry, John Jones, Jason Weaver, Essence ...</td>\n",
       "      <td>United States</td>\n",
       "      <td>-2.032431</td>\n",
       "      <td>Comedy</td>\n",
       "      <td>Coming of Age</td>\n",
       "      <td>Kids</td>\n",
       "      <td>Comedy</td>\n",
       "      <td>Coming of Age</td>\n",
       "      <td>Smart Guy A genius tries to fit in as a high s...</td>\n",
       "    </tr>\n",
       "    <tr>\n",
       "      <th>11056</th>\n",
       "      <td>TV Show</td>\n",
       "      <td>Jacob Bertrand, Mekai Curtis, Cade Sutton, Oli...</td>\n",
       "      <td>United States</td>\n",
       "      <td>-0.023394</td>\n",
       "      <td>Action-Adventure</td>\n",
       "      <td>Comedy</td>\n",
       "      <td>Coming of Age</td>\n",
       "      <td>Action-Adventure</td>\n",
       "      <td>Comedy</td>\n",
       "      <td>Disney Kirby Buckets Welcome to Kirby's world!...</td>\n",
       "    </tr>\n",
       "    <tr>\n",
       "      <th>11057</th>\n",
       "      <td>TV Show</td>\n",
       "      <td>Nathaniel Potvin, Raymond Cham, Kamran Lucas, ...</td>\n",
       "      <td>Canada</td>\n",
       "      <td>0.199832</td>\n",
       "      <td>Action-Adventure</td>\n",
       "      <td>Comedy</td>\n",
       "      <td>Science Fiction</td>\n",
       "      <td>Action-Adventure</td>\n",
       "      <td>Comedy</td>\n",
       "      <td>Disney Mech-X4 Ryan discovers his ability to c...</td>\n",
       "    </tr>\n",
       "    <tr>\n",
       "      <th>11058</th>\n",
       "      <td>TV Show</td>\n",
       "      <td>Rich Collins, Dave Poche, Scott Durbin, Scott ...</td>\n",
       "      <td>United States</td>\n",
       "      <td>-0.693073</td>\n",
       "      <td>Kids</td>\n",
       "      <td>Music</td>\n",
       "      <td>Kids</td>\n",
       "      <td>Music</td>\n",
       "      <td>Kids</td>\n",
       "      <td>Imagination Movers Rock out with the Imaginati...</td>\n",
       "    </tr>\n",
       "  </tbody>\n",
       "</table>\n",
       "<p>11059 rows × 10 columns</p>\n",
       "</div>"
      ],
      "text/plain": [
       "          type                                               cast  \\\n",
       "0        Movie                                 David Attenborough   \n",
       "1      TV Show  Ama Qamata, Khosi Ngema, Gail Mabalane, Thaban...   \n",
       "2      TV Show  Sami Bouajila, Tracy Gotoas, Samuel Jouy, Nabi...   \n",
       "3      TV Show                                 David Attenborough   \n",
       "4      TV Show  Mayur More, Jitendra Kumar, Ranjan Raj, Alam K...   \n",
       "...        ...                                                ...   \n",
       "11054  TV Show  Noel Fisher, Vincent Gale, Christopher Judge, ...   \n",
       "11055  TV Show  Tahj Mowry, John Jones, Jason Weaver, Essence ...   \n",
       "11056  TV Show  Jacob Bertrand, Mekai Curtis, Cade Sutton, Oli...   \n",
       "11057  TV Show  Nathaniel Potvin, Raymond Cham, Kamran Lucas, ...   \n",
       "11058  TV Show  Rich Collins, Dave Poche, Scott Durbin, Scott ...   \n",
       "\n",
       "             country  release_year                  genre0  \\\n",
       "0      United States      0.646285           Documentaries   \n",
       "1       South Africa      0.757898  International TV Shows   \n",
       "2      United States      0.757898          Crime TV Shows   \n",
       "3      United States      0.757898              Docuseries   \n",
       "4              India      0.757898  International TV Shows   \n",
       "...              ...           ...                     ...   \n",
       "11054  United States     -1.585979        Action-Adventure   \n",
       "11055  United States     -2.032431                  Comedy   \n",
       "11056  United States     -0.023394        Action-Adventure   \n",
       "11057         Canada      0.199832        Action-Adventure   \n",
       "11058  United States     -0.693073                    Kids   \n",
       "\n",
       "                       genre1                 genre2                  genre3  \\\n",
       "0               Documentaries          Documentaries           Documentaries   \n",
       "1                   TV Dramas           TV Mysteries  International TV Shows   \n",
       "2      International TV Shows  TV Action & Adventure          Crime TV Shows   \n",
       "3                  Reality TV             Docuseries              Reality TV   \n",
       "4           Romantic TV Shows            TV Comedies  International TV Shows   \n",
       "...                       ...                    ...                     ...   \n",
       "11054               Animation                   Kids        Action-Adventure   \n",
       "11055           Coming of Age                   Kids                  Comedy   \n",
       "11056                  Comedy          Coming of Age        Action-Adventure   \n",
       "11057                  Comedy        Science Fiction        Action-Adventure   \n",
       "11058                   Music                   Kids                   Music   \n",
       "\n",
       "                       genre4  \\\n",
       "0               Documentaries   \n",
       "1                   TV Dramas   \n",
       "2      International TV Shows   \n",
       "3                  Docuseries   \n",
       "4           Romantic TV Shows   \n",
       "...                       ...   \n",
       "11054               Animation   \n",
       "11055           Coming of Age   \n",
       "11056                  Comedy   \n",
       "11057                  Comedy   \n",
       "11058                    Kids   \n",
       "\n",
       "                                             information  \n",
       "0      Dick Johnson Is Dead As her father nears the e...  \n",
       "1      Blood & Water After crossing paths at a party,...  \n",
       "2      Ganglands To protect his family from a powerfu...  \n",
       "3      Jailbirds New Orleans Feuds, flirtations and t...  \n",
       "4      Kota Factory In a city of coaching centers kno...  \n",
       "...                                                  ...  \n",
       "11054  X-Men: Evolution X-Men: Evolution features the...  \n",
       "11055  Smart Guy A genius tries to fit in as a high s...  \n",
       "11056  Disney Kirby Buckets Welcome to Kirby's world!...  \n",
       "11057  Disney Mech-X4 Ryan discovers his ability to c...  \n",
       "11058  Imagination Movers Rock out with the Imaginati...  \n",
       "\n",
       "[11059 rows x 10 columns]"
      ]
     },
     "execution_count": 20,
     "metadata": {},
     "output_type": "execute_result"
    }
   ],
   "source": [
    "df"
   ]
  },
  {
   "cell_type": "code",
   "execution_count": 21,
   "id": "90e0b588",
   "metadata": {},
   "outputs": [],
   "source": [
    "df_more_information = cp.deepcopy(df)"
   ]
  },
  {
   "cell_type": "code",
   "execution_count": 22,
   "id": "3aeaeddc",
   "metadata": {},
   "outputs": [],
   "source": [
    "cv = CountVectorizer()"
   ]
  },
  {
   "cell_type": "code",
   "execution_count": 23,
   "id": "c6b62d6a",
   "metadata": {},
   "outputs": [],
   "source": [
    "matrix = cv.fit_transform(df[\"information\"])"
   ]
  },
  {
   "cell_type": "code",
   "execution_count": 24,
   "id": "783911de",
   "metadata": {},
   "outputs": [],
   "source": [
    "count = pd.DataFrame(matrix.toarray(),columns=cv.get_feature_names_out())"
   ]
  },
  {
   "cell_type": "code",
   "execution_count": 25,
   "id": "06feedcc",
   "metadata": {},
   "outputs": [],
   "source": [
    "top30 = count.sum().sort_values(ascending = False)[0:30]\n",
    "top60 = count.sum().sort_values(ascending = False)[0:60]"
   ]
  },
  {
   "cell_type": "code",
   "execution_count": 26,
   "id": "dee08fe6",
   "metadata": {},
   "outputs": [
    {
     "data": {
      "text/plain": [
       "the      16240\n",
       "and       9939\n",
       "to        8978\n",
       "of        8920\n",
       "in        6427\n",
       "his       3992\n",
       "with      3334\n",
       "her       2646\n",
       "for       2560\n",
       "on        2547\n",
       "an        2485\n",
       "their     2261\n",
       "is        2223\n",
       "from      1868\n",
       "this      1865\n",
       "as        1841\n",
       "when      1731\n",
       "that      1452\n",
       "he        1420\n",
       "by        1401\n",
       "who       1350\n",
       "life      1279\n",
       "after     1147\n",
       "new       1146\n",
       "they      1105\n",
       "up        1083\n",
       "at        1078\n",
       "but       1066\n",
       "world     1061\n",
       "into       973\n",
       "dtype: int64"
      ]
     },
     "execution_count": 26,
     "metadata": {},
     "output_type": "execute_result"
    }
   ],
   "source": [
    "top30"
   ]
  },
  {
   "cell_type": "markdown",
   "id": "6e8c8d36",
   "metadata": {},
   "source": [
    "### Top 30 words in information column sorted by their frequency"
   ]
  },
  {
   "cell_type": "code",
   "execution_count": 27,
   "id": "67268150",
   "metadata": {},
   "outputs": [],
   "source": [
    "top30_words = top30.index\n",
    "top60_words = top60.index"
   ]
  },
  {
   "cell_type": "code",
   "execution_count": 28,
   "id": "61b92aa3",
   "metadata": {},
   "outputs": [],
   "source": [
    "for word in top30_words:\n",
    "    df[word] = count[word]\n",
    "df.drop(labels = \"information\", axis = 1, inplace = True)\n",
    "\n",
    "for word in top60_words:\n",
    "    df_more_information[word] = count[word]\n",
    "df_more_information.drop(labels = \"information\", axis = 1, inplace = True)"
   ]
  },
  {
   "cell_type": "code",
   "execution_count": 29,
   "id": "48717a40",
   "metadata": {},
   "outputs": [
    {
     "data": {
      "text/html": [
       "<div>\n",
       "<style scoped>\n",
       "    .dataframe tbody tr th:only-of-type {\n",
       "        vertical-align: middle;\n",
       "    }\n",
       "\n",
       "    .dataframe tbody tr th {\n",
       "        vertical-align: top;\n",
       "    }\n",
       "\n",
       "    .dataframe thead th {\n",
       "        text-align: right;\n",
       "    }\n",
       "</style>\n",
       "<table border=\"1\" class=\"dataframe\">\n",
       "  <thead>\n",
       "    <tr style=\"text-align: right;\">\n",
       "      <th></th>\n",
       "      <th>type</th>\n",
       "      <th>cast</th>\n",
       "      <th>country</th>\n",
       "      <th>release_year</th>\n",
       "      <th>genre0</th>\n",
       "      <th>genre1</th>\n",
       "      <th>genre2</th>\n",
       "      <th>genre3</th>\n",
       "      <th>genre4</th>\n",
       "      <th>the</th>\n",
       "      <th>...</th>\n",
       "      <th>who</th>\n",
       "      <th>life</th>\n",
       "      <th>after</th>\n",
       "      <th>new</th>\n",
       "      <th>they</th>\n",
       "      <th>up</th>\n",
       "      <th>at</th>\n",
       "      <th>but</th>\n",
       "      <th>world</th>\n",
       "      <th>into</th>\n",
       "    </tr>\n",
       "  </thead>\n",
       "  <tbody>\n",
       "    <tr>\n",
       "      <th>0</th>\n",
       "      <td>Movie</td>\n",
       "      <td>David Attenborough</td>\n",
       "      <td>United States</td>\n",
       "      <td>0.646285</td>\n",
       "      <td>Documentaries</td>\n",
       "      <td>Documentaries</td>\n",
       "      <td>Documentaries</td>\n",
       "      <td>Documentaries</td>\n",
       "      <td>Documentaries</td>\n",
       "      <td>2</td>\n",
       "      <td>...</td>\n",
       "      <td>0</td>\n",
       "      <td>1</td>\n",
       "      <td>0</td>\n",
       "      <td>0</td>\n",
       "      <td>0</td>\n",
       "      <td>0</td>\n",
       "      <td>0</td>\n",
       "      <td>0</td>\n",
       "      <td>0</td>\n",
       "      <td>0</td>\n",
       "    </tr>\n",
       "    <tr>\n",
       "      <th>1</th>\n",
       "      <td>TV Show</td>\n",
       "      <td>Ama Qamata, Khosi Ngema, Gail Mabalane, Thaban...</td>\n",
       "      <td>South Africa</td>\n",
       "      <td>0.757898</td>\n",
       "      <td>International TV Shows</td>\n",
       "      <td>TV Dramas</td>\n",
       "      <td>TV Mysteries</td>\n",
       "      <td>International TV Shows</td>\n",
       "      <td>TV Dramas</td>\n",
       "      <td>0</td>\n",
       "      <td>...</td>\n",
       "      <td>1</td>\n",
       "      <td>0</td>\n",
       "      <td>1</td>\n",
       "      <td>0</td>\n",
       "      <td>0</td>\n",
       "      <td>0</td>\n",
       "      <td>2</td>\n",
       "      <td>0</td>\n",
       "      <td>0</td>\n",
       "      <td>0</td>\n",
       "    </tr>\n",
       "    <tr>\n",
       "      <th>2</th>\n",
       "      <td>TV Show</td>\n",
       "      <td>Sami Bouajila, Tracy Gotoas, Samuel Jouy, Nabi...</td>\n",
       "      <td>United States</td>\n",
       "      <td>0.757898</td>\n",
       "      <td>Crime TV Shows</td>\n",
       "      <td>International TV Shows</td>\n",
       "      <td>TV Action &amp; Adventure</td>\n",
       "      <td>Crime TV Shows</td>\n",
       "      <td>International TV Shows</td>\n",
       "      <td>0</td>\n",
       "      <td>...</td>\n",
       "      <td>0</td>\n",
       "      <td>0</td>\n",
       "      <td>0</td>\n",
       "      <td>0</td>\n",
       "      <td>0</td>\n",
       "      <td>0</td>\n",
       "      <td>0</td>\n",
       "      <td>0</td>\n",
       "      <td>0</td>\n",
       "      <td>1</td>\n",
       "    </tr>\n",
       "    <tr>\n",
       "      <th>3</th>\n",
       "      <td>TV Show</td>\n",
       "      <td>David Attenborough</td>\n",
       "      <td>United States</td>\n",
       "      <td>0.757898</td>\n",
       "      <td>Docuseries</td>\n",
       "      <td>Reality TV</td>\n",
       "      <td>Docuseries</td>\n",
       "      <td>Reality TV</td>\n",
       "      <td>Docuseries</td>\n",
       "      <td>2</td>\n",
       "      <td>...</td>\n",
       "      <td>0</td>\n",
       "      <td>0</td>\n",
       "      <td>0</td>\n",
       "      <td>2</td>\n",
       "      <td>0</td>\n",
       "      <td>0</td>\n",
       "      <td>1</td>\n",
       "      <td>0</td>\n",
       "      <td>0</td>\n",
       "      <td>0</td>\n",
       "    </tr>\n",
       "    <tr>\n",
       "      <th>4</th>\n",
       "      <td>TV Show</td>\n",
       "      <td>Mayur More, Jitendra Kumar, Ranjan Raj, Alam K...</td>\n",
       "      <td>India</td>\n",
       "      <td>0.757898</td>\n",
       "      <td>International TV Shows</td>\n",
       "      <td>Romantic TV Shows</td>\n",
       "      <td>TV Comedies</td>\n",
       "      <td>International TV Shows</td>\n",
       "      <td>Romantic TV Shows</td>\n",
       "      <td>0</td>\n",
       "      <td>...</td>\n",
       "      <td>0</td>\n",
       "      <td>1</td>\n",
       "      <td>0</td>\n",
       "      <td>0</td>\n",
       "      <td>0</td>\n",
       "      <td>0</td>\n",
       "      <td>0</td>\n",
       "      <td>1</td>\n",
       "      <td>0</td>\n",
       "      <td>0</td>\n",
       "    </tr>\n",
       "    <tr>\n",
       "      <th>...</th>\n",
       "      <td>...</td>\n",
       "      <td>...</td>\n",
       "      <td>...</td>\n",
       "      <td>...</td>\n",
       "      <td>...</td>\n",
       "      <td>...</td>\n",
       "      <td>...</td>\n",
       "      <td>...</td>\n",
       "      <td>...</td>\n",
       "      <td>...</td>\n",
       "      <td>...</td>\n",
       "      <td>...</td>\n",
       "      <td>...</td>\n",
       "      <td>...</td>\n",
       "      <td>...</td>\n",
       "      <td>...</td>\n",
       "      <td>...</td>\n",
       "      <td>...</td>\n",
       "      <td>...</td>\n",
       "      <td>...</td>\n",
       "      <td>...</td>\n",
       "    </tr>\n",
       "    <tr>\n",
       "      <th>11054</th>\n",
       "      <td>TV Show</td>\n",
       "      <td>Noel Fisher, Vincent Gale, Christopher Judge, ...</td>\n",
       "      <td>United States</td>\n",
       "      <td>-1.585979</td>\n",
       "      <td>Action-Adventure</td>\n",
       "      <td>Animation</td>\n",
       "      <td>Kids</td>\n",
       "      <td>Action-Adventure</td>\n",
       "      <td>Animation</td>\n",
       "      <td>1</td>\n",
       "      <td>...</td>\n",
       "      <td>0</td>\n",
       "      <td>0</td>\n",
       "      <td>0</td>\n",
       "      <td>0</td>\n",
       "      <td>1</td>\n",
       "      <td>0</td>\n",
       "      <td>0</td>\n",
       "      <td>0</td>\n",
       "      <td>1</td>\n",
       "      <td>0</td>\n",
       "    </tr>\n",
       "    <tr>\n",
       "      <th>11055</th>\n",
       "      <td>TV Show</td>\n",
       "      <td>Tahj Mowry, John Jones, Jason Weaver, Essence ...</td>\n",
       "      <td>United States</td>\n",
       "      <td>-2.032431</td>\n",
       "      <td>Comedy</td>\n",
       "      <td>Coming of Age</td>\n",
       "      <td>Kids</td>\n",
       "      <td>Comedy</td>\n",
       "      <td>Coming of Age</td>\n",
       "      <td>0</td>\n",
       "      <td>...</td>\n",
       "      <td>0</td>\n",
       "      <td>0</td>\n",
       "      <td>0</td>\n",
       "      <td>0</td>\n",
       "      <td>0</td>\n",
       "      <td>0</td>\n",
       "      <td>0</td>\n",
       "      <td>0</td>\n",
       "      <td>0</td>\n",
       "      <td>0</td>\n",
       "    </tr>\n",
       "    <tr>\n",
       "      <th>11056</th>\n",
       "      <td>TV Show</td>\n",
       "      <td>Jacob Bertrand, Mekai Curtis, Cade Sutton, Oli...</td>\n",
       "      <td>United States</td>\n",
       "      <td>-0.023394</td>\n",
       "      <td>Action-Adventure</td>\n",
       "      <td>Comedy</td>\n",
       "      <td>Coming of Age</td>\n",
       "      <td>Action-Adventure</td>\n",
       "      <td>Comedy</td>\n",
       "      <td>0</td>\n",
       "      <td>...</td>\n",
       "      <td>0</td>\n",
       "      <td>0</td>\n",
       "      <td>0</td>\n",
       "      <td>0</td>\n",
       "      <td>0</td>\n",
       "      <td>0</td>\n",
       "      <td>0</td>\n",
       "      <td>0</td>\n",
       "      <td>1</td>\n",
       "      <td>0</td>\n",
       "    </tr>\n",
       "    <tr>\n",
       "      <th>11057</th>\n",
       "      <td>TV Show</td>\n",
       "      <td>Nathaniel Potvin, Raymond Cham, Kamran Lucas, ...</td>\n",
       "      <td>Canada</td>\n",
       "      <td>0.199832</td>\n",
       "      <td>Action-Adventure</td>\n",
       "      <td>Comedy</td>\n",
       "      <td>Science Fiction</td>\n",
       "      <td>Action-Adventure</td>\n",
       "      <td>Comedy</td>\n",
       "      <td>0</td>\n",
       "      <td>...</td>\n",
       "      <td>0</td>\n",
       "      <td>0</td>\n",
       "      <td>0</td>\n",
       "      <td>0</td>\n",
       "      <td>0</td>\n",
       "      <td>0</td>\n",
       "      <td>0</td>\n",
       "      <td>0</td>\n",
       "      <td>0</td>\n",
       "      <td>0</td>\n",
       "    </tr>\n",
       "    <tr>\n",
       "      <th>11058</th>\n",
       "      <td>TV Show</td>\n",
       "      <td>Rich Collins, Dave Poche, Scott Durbin, Scott ...</td>\n",
       "      <td>United States</td>\n",
       "      <td>-0.693073</td>\n",
       "      <td>Kids</td>\n",
       "      <td>Music</td>\n",
       "      <td>Kids</td>\n",
       "      <td>Music</td>\n",
       "      <td>Kids</td>\n",
       "      <td>1</td>\n",
       "      <td>...</td>\n",
       "      <td>0</td>\n",
       "      <td>0</td>\n",
       "      <td>0</td>\n",
       "      <td>0</td>\n",
       "      <td>0</td>\n",
       "      <td>0</td>\n",
       "      <td>0</td>\n",
       "      <td>0</td>\n",
       "      <td>0</td>\n",
       "      <td>0</td>\n",
       "    </tr>\n",
       "  </tbody>\n",
       "</table>\n",
       "<p>11059 rows × 39 columns</p>\n",
       "</div>"
      ],
      "text/plain": [
       "          type                                               cast  \\\n",
       "0        Movie                                 David Attenborough   \n",
       "1      TV Show  Ama Qamata, Khosi Ngema, Gail Mabalane, Thaban...   \n",
       "2      TV Show  Sami Bouajila, Tracy Gotoas, Samuel Jouy, Nabi...   \n",
       "3      TV Show                                 David Attenborough   \n",
       "4      TV Show  Mayur More, Jitendra Kumar, Ranjan Raj, Alam K...   \n",
       "...        ...                                                ...   \n",
       "11054  TV Show  Noel Fisher, Vincent Gale, Christopher Judge, ...   \n",
       "11055  TV Show  Tahj Mowry, John Jones, Jason Weaver, Essence ...   \n",
       "11056  TV Show  Jacob Bertrand, Mekai Curtis, Cade Sutton, Oli...   \n",
       "11057  TV Show  Nathaniel Potvin, Raymond Cham, Kamran Lucas, ...   \n",
       "11058  TV Show  Rich Collins, Dave Poche, Scott Durbin, Scott ...   \n",
       "\n",
       "             country  release_year                  genre0  \\\n",
       "0      United States      0.646285           Documentaries   \n",
       "1       South Africa      0.757898  International TV Shows   \n",
       "2      United States      0.757898          Crime TV Shows   \n",
       "3      United States      0.757898              Docuseries   \n",
       "4              India      0.757898  International TV Shows   \n",
       "...              ...           ...                     ...   \n",
       "11054  United States     -1.585979        Action-Adventure   \n",
       "11055  United States     -2.032431                  Comedy   \n",
       "11056  United States     -0.023394        Action-Adventure   \n",
       "11057         Canada      0.199832        Action-Adventure   \n",
       "11058  United States     -0.693073                    Kids   \n",
       "\n",
       "                       genre1                 genre2                  genre3  \\\n",
       "0               Documentaries          Documentaries           Documentaries   \n",
       "1                   TV Dramas           TV Mysteries  International TV Shows   \n",
       "2      International TV Shows  TV Action & Adventure          Crime TV Shows   \n",
       "3                  Reality TV             Docuseries              Reality TV   \n",
       "4           Romantic TV Shows            TV Comedies  International TV Shows   \n",
       "...                       ...                    ...                     ...   \n",
       "11054               Animation                   Kids        Action-Adventure   \n",
       "11055           Coming of Age                   Kids                  Comedy   \n",
       "11056                  Comedy          Coming of Age        Action-Adventure   \n",
       "11057                  Comedy        Science Fiction        Action-Adventure   \n",
       "11058                   Music                   Kids                   Music   \n",
       "\n",
       "                       genre4  the  ...  who  life  after  new  they  up  at  \\\n",
       "0               Documentaries    2  ...    0     1      0    0     0   0   0   \n",
       "1                   TV Dramas    0  ...    1     0      1    0     0   0   2   \n",
       "2      International TV Shows    0  ...    0     0      0    0     0   0   0   \n",
       "3                  Docuseries    2  ...    0     0      0    2     0   0   1   \n",
       "4           Romantic TV Shows    0  ...    0     1      0    0     0   0   0   \n",
       "...                       ...  ...  ...  ...   ...    ...  ...   ...  ..  ..   \n",
       "11054               Animation    1  ...    0     0      0    0     1   0   0   \n",
       "11055           Coming of Age    0  ...    0     0      0    0     0   0   0   \n",
       "11056                  Comedy    0  ...    0     0      0    0     0   0   0   \n",
       "11057                  Comedy    0  ...    0     0      0    0     0   0   0   \n",
       "11058                    Kids    1  ...    0     0      0    0     0   0   0   \n",
       "\n",
       "       but  world  into  \n",
       "0        0      0     0  \n",
       "1        0      0     0  \n",
       "2        0      0     1  \n",
       "3        0      0     0  \n",
       "4        1      0     0  \n",
       "...    ...    ...   ...  \n",
       "11054    0      1     0  \n",
       "11055    0      0     0  \n",
       "11056    0      1     0  \n",
       "11057    0      0     0  \n",
       "11058    0      0     0  \n",
       "\n",
       "[11059 rows x 39 columns]"
      ]
     },
     "execution_count": 29,
     "metadata": {},
     "output_type": "execute_result"
    }
   ],
   "source": [
    "df"
   ]
  },
  {
   "cell_type": "markdown",
   "id": "e1fa4325",
   "metadata": {},
   "source": [
    "### Words added to dataframe, successfully"
   ]
  },
  {
   "cell_type": "markdown",
   "id": "8a8e876c",
   "metadata": {},
   "source": [
    "### Do same things for 'cast' column:"
   ]
  },
  {
   "cell_type": "code",
   "execution_count": 30,
   "id": "ae3dd266",
   "metadata": {},
   "outputs": [],
   "source": [
    "matrix = cv.fit_transform(df[\"cast\"])"
   ]
  },
  {
   "cell_type": "code",
   "execution_count": 31,
   "id": "a7ed10a8",
   "metadata": {},
   "outputs": [],
   "source": [
    "count = pd.DataFrame(matrix.toarray(),columns=cv.get_feature_names_out())"
   ]
  },
  {
   "cell_type": "code",
   "execution_count": 32,
   "id": "d1fdf2d1",
   "metadata": {},
   "outputs": [],
   "source": [
    "top10 = count.sum().sort_values(ascending = False)[0:10]\n",
    "top20 = count.sum().sort_values(ascending = False)[0:20]"
   ]
  },
  {
   "cell_type": "code",
   "execution_count": 33,
   "id": "42181c85",
   "metadata": {},
   "outputs": [
    {
     "data": {
      "text/plain": [
       "david           2010\n",
       "attenborough    1387\n",
       "michael          748\n",
       "john             654\n",
       "james            511\n",
       "lee              502\n",
       "paul             398\n",
       "kim              368\n",
       "de               328\n",
       "tom              302\n",
       "dtype: int64"
      ]
     },
     "execution_count": 33,
     "metadata": {},
     "output_type": "execute_result"
    }
   ],
   "source": [
    "top10"
   ]
  },
  {
   "cell_type": "markdown",
   "id": "fc2003db",
   "metadata": {},
   "source": [
    "### Top 10 words in information column sorted by their frequency"
   ]
  },
  {
   "cell_type": "code",
   "execution_count": 34,
   "id": "fca19b8b",
   "metadata": {},
   "outputs": [],
   "source": [
    "top10_words = top10.index\n",
    "top20_words = top20.index"
   ]
  },
  {
   "cell_type": "code",
   "execution_count": 35,
   "id": "85efb48d",
   "metadata": {},
   "outputs": [],
   "source": [
    "for word in top10_words:\n",
    "    df[word] = count[word]\n",
    "df.drop(labels = \"cast\", axis = 1, inplace = True)\n",
    "for word in top20_words:\n",
    "    df_more_information[word] = count[word]\n",
    "df_more_information.drop(labels = \"cast\", axis = 1, inplace = True)"
   ]
  },
  {
   "cell_type": "code",
   "execution_count": 36,
   "id": "2960741a",
   "metadata": {},
   "outputs": [
    {
     "data": {
      "text/html": [
       "<div>\n",
       "<style scoped>\n",
       "    .dataframe tbody tr th:only-of-type {\n",
       "        vertical-align: middle;\n",
       "    }\n",
       "\n",
       "    .dataframe tbody tr th {\n",
       "        vertical-align: top;\n",
       "    }\n",
       "\n",
       "    .dataframe thead th {\n",
       "        text-align: right;\n",
       "    }\n",
       "</style>\n",
       "<table border=\"1\" class=\"dataframe\">\n",
       "  <thead>\n",
       "    <tr style=\"text-align: right;\">\n",
       "      <th></th>\n",
       "      <th>type</th>\n",
       "      <th>country</th>\n",
       "      <th>release_year</th>\n",
       "      <th>genre0</th>\n",
       "      <th>genre1</th>\n",
       "      <th>genre2</th>\n",
       "      <th>genre3</th>\n",
       "      <th>genre4</th>\n",
       "      <th>the</th>\n",
       "      <th>and</th>\n",
       "      <th>...</th>\n",
       "      <th>david</th>\n",
       "      <th>attenborough</th>\n",
       "      <th>michael</th>\n",
       "      <th>john</th>\n",
       "      <th>james</th>\n",
       "      <th>lee</th>\n",
       "      <th>paul</th>\n",
       "      <th>kim</th>\n",
       "      <th>de</th>\n",
       "      <th>tom</th>\n",
       "    </tr>\n",
       "  </thead>\n",
       "  <tbody>\n",
       "    <tr>\n",
       "      <th>0</th>\n",
       "      <td>Movie</td>\n",
       "      <td>United States</td>\n",
       "      <td>0.646285</td>\n",
       "      <td>Documentaries</td>\n",
       "      <td>Documentaries</td>\n",
       "      <td>Documentaries</td>\n",
       "      <td>Documentaries</td>\n",
       "      <td>Documentaries</td>\n",
       "      <td>2</td>\n",
       "      <td>1</td>\n",
       "      <td>...</td>\n",
       "      <td>1</td>\n",
       "      <td>1</td>\n",
       "      <td>0</td>\n",
       "      <td>0</td>\n",
       "      <td>0</td>\n",
       "      <td>0</td>\n",
       "      <td>0</td>\n",
       "      <td>0</td>\n",
       "      <td>0</td>\n",
       "      <td>0</td>\n",
       "    </tr>\n",
       "    <tr>\n",
       "      <th>1</th>\n",
       "      <td>TV Show</td>\n",
       "      <td>South Africa</td>\n",
       "      <td>0.757898</td>\n",
       "      <td>International TV Shows</td>\n",
       "      <td>TV Dramas</td>\n",
       "      <td>TV Mysteries</td>\n",
       "      <td>International TV Shows</td>\n",
       "      <td>TV Dramas</td>\n",
       "      <td>0</td>\n",
       "      <td>0</td>\n",
       "      <td>...</td>\n",
       "      <td>0</td>\n",
       "      <td>0</td>\n",
       "      <td>0</td>\n",
       "      <td>0</td>\n",
       "      <td>0</td>\n",
       "      <td>0</td>\n",
       "      <td>0</td>\n",
       "      <td>0</td>\n",
       "      <td>1</td>\n",
       "      <td>0</td>\n",
       "    </tr>\n",
       "    <tr>\n",
       "      <th>2</th>\n",
       "      <td>TV Show</td>\n",
       "      <td>United States</td>\n",
       "      <td>0.757898</td>\n",
       "      <td>Crime TV Shows</td>\n",
       "      <td>International TV Shows</td>\n",
       "      <td>TV Action &amp; Adventure</td>\n",
       "      <td>Crime TV Shows</td>\n",
       "      <td>International TV Shows</td>\n",
       "      <td>0</td>\n",
       "      <td>2</td>\n",
       "      <td>...</td>\n",
       "      <td>0</td>\n",
       "      <td>0</td>\n",
       "      <td>0</td>\n",
       "      <td>0</td>\n",
       "      <td>0</td>\n",
       "      <td>0</td>\n",
       "      <td>0</td>\n",
       "      <td>0</td>\n",
       "      <td>0</td>\n",
       "      <td>0</td>\n",
       "    </tr>\n",
       "    <tr>\n",
       "      <th>3</th>\n",
       "      <td>TV Show</td>\n",
       "      <td>United States</td>\n",
       "      <td>0.757898</td>\n",
       "      <td>Docuseries</td>\n",
       "      <td>Reality TV</td>\n",
       "      <td>Docuseries</td>\n",
       "      <td>Reality TV</td>\n",
       "      <td>Docuseries</td>\n",
       "      <td>2</td>\n",
       "      <td>1</td>\n",
       "      <td>...</td>\n",
       "      <td>1</td>\n",
       "      <td>1</td>\n",
       "      <td>0</td>\n",
       "      <td>0</td>\n",
       "      <td>0</td>\n",
       "      <td>0</td>\n",
       "      <td>0</td>\n",
       "      <td>0</td>\n",
       "      <td>0</td>\n",
       "      <td>0</td>\n",
       "    </tr>\n",
       "    <tr>\n",
       "      <th>4</th>\n",
       "      <td>TV Show</td>\n",
       "      <td>India</td>\n",
       "      <td>0.757898</td>\n",
       "      <td>International TV Shows</td>\n",
       "      <td>Romantic TV Shows</td>\n",
       "      <td>TV Comedies</td>\n",
       "      <td>International TV Shows</td>\n",
       "      <td>Romantic TV Shows</td>\n",
       "      <td>0</td>\n",
       "      <td>1</td>\n",
       "      <td>...</td>\n",
       "      <td>0</td>\n",
       "      <td>0</td>\n",
       "      <td>0</td>\n",
       "      <td>0</td>\n",
       "      <td>0</td>\n",
       "      <td>0</td>\n",
       "      <td>0</td>\n",
       "      <td>0</td>\n",
       "      <td>0</td>\n",
       "      <td>0</td>\n",
       "    </tr>\n",
       "    <tr>\n",
       "      <th>...</th>\n",
       "      <td>...</td>\n",
       "      <td>...</td>\n",
       "      <td>...</td>\n",
       "      <td>...</td>\n",
       "      <td>...</td>\n",
       "      <td>...</td>\n",
       "      <td>...</td>\n",
       "      <td>...</td>\n",
       "      <td>...</td>\n",
       "      <td>...</td>\n",
       "      <td>...</td>\n",
       "      <td>...</td>\n",
       "      <td>...</td>\n",
       "      <td>...</td>\n",
       "      <td>...</td>\n",
       "      <td>...</td>\n",
       "      <td>...</td>\n",
       "      <td>...</td>\n",
       "      <td>...</td>\n",
       "      <td>...</td>\n",
       "      <td>...</td>\n",
       "    </tr>\n",
       "    <tr>\n",
       "      <th>11054</th>\n",
       "      <td>TV Show</td>\n",
       "      <td>United States</td>\n",
       "      <td>-1.585979</td>\n",
       "      <td>Action-Adventure</td>\n",
       "      <td>Animation</td>\n",
       "      <td>Kids</td>\n",
       "      <td>Action-Adventure</td>\n",
       "      <td>Animation</td>\n",
       "      <td>1</td>\n",
       "      <td>1</td>\n",
       "      <td>...</td>\n",
       "      <td>1</td>\n",
       "      <td>0</td>\n",
       "      <td>0</td>\n",
       "      <td>0</td>\n",
       "      <td>0</td>\n",
       "      <td>0</td>\n",
       "      <td>0</td>\n",
       "      <td>0</td>\n",
       "      <td>0</td>\n",
       "      <td>0</td>\n",
       "    </tr>\n",
       "    <tr>\n",
       "      <th>11055</th>\n",
       "      <td>TV Show</td>\n",
       "      <td>United States</td>\n",
       "      <td>-2.032431</td>\n",
       "      <td>Comedy</td>\n",
       "      <td>Coming of Age</td>\n",
       "      <td>Kids</td>\n",
       "      <td>Comedy</td>\n",
       "      <td>Coming of Age</td>\n",
       "      <td>0</td>\n",
       "      <td>0</td>\n",
       "      <td>...</td>\n",
       "      <td>0</td>\n",
       "      <td>0</td>\n",
       "      <td>0</td>\n",
       "      <td>1</td>\n",
       "      <td>0</td>\n",
       "      <td>0</td>\n",
       "      <td>0</td>\n",
       "      <td>0</td>\n",
       "      <td>0</td>\n",
       "      <td>0</td>\n",
       "    </tr>\n",
       "    <tr>\n",
       "      <th>11056</th>\n",
       "      <td>TV Show</td>\n",
       "      <td>United States</td>\n",
       "      <td>-0.023394</td>\n",
       "      <td>Action-Adventure</td>\n",
       "      <td>Comedy</td>\n",
       "      <td>Coming of Age</td>\n",
       "      <td>Action-Adventure</td>\n",
       "      <td>Comedy</td>\n",
       "      <td>0</td>\n",
       "      <td>1</td>\n",
       "      <td>...</td>\n",
       "      <td>0</td>\n",
       "      <td>0</td>\n",
       "      <td>0</td>\n",
       "      <td>0</td>\n",
       "      <td>0</td>\n",
       "      <td>0</td>\n",
       "      <td>0</td>\n",
       "      <td>0</td>\n",
       "      <td>0</td>\n",
       "      <td>0</td>\n",
       "    </tr>\n",
       "    <tr>\n",
       "      <th>11057</th>\n",
       "      <td>TV Show</td>\n",
       "      <td>Canada</td>\n",
       "      <td>0.199832</td>\n",
       "      <td>Action-Adventure</td>\n",
       "      <td>Comedy</td>\n",
       "      <td>Science Fiction</td>\n",
       "      <td>Action-Adventure</td>\n",
       "      <td>Comedy</td>\n",
       "      <td>0</td>\n",
       "      <td>0</td>\n",
       "      <td>...</td>\n",
       "      <td>0</td>\n",
       "      <td>0</td>\n",
       "      <td>0</td>\n",
       "      <td>0</td>\n",
       "      <td>0</td>\n",
       "      <td>0</td>\n",
       "      <td>0</td>\n",
       "      <td>0</td>\n",
       "      <td>0</td>\n",
       "      <td>0</td>\n",
       "    </tr>\n",
       "    <tr>\n",
       "      <th>11058</th>\n",
       "      <td>TV Show</td>\n",
       "      <td>United States</td>\n",
       "      <td>-0.693073</td>\n",
       "      <td>Kids</td>\n",
       "      <td>Music</td>\n",
       "      <td>Kids</td>\n",
       "      <td>Music</td>\n",
       "      <td>Kids</td>\n",
       "      <td>1</td>\n",
       "      <td>0</td>\n",
       "      <td>...</td>\n",
       "      <td>0</td>\n",
       "      <td>0</td>\n",
       "      <td>0</td>\n",
       "      <td>0</td>\n",
       "      <td>0</td>\n",
       "      <td>0</td>\n",
       "      <td>0</td>\n",
       "      <td>0</td>\n",
       "      <td>0</td>\n",
       "      <td>0</td>\n",
       "    </tr>\n",
       "  </tbody>\n",
       "</table>\n",
       "<p>11059 rows × 48 columns</p>\n",
       "</div>"
      ],
      "text/plain": [
       "          type        country  release_year                  genre0  \\\n",
       "0        Movie  United States      0.646285           Documentaries   \n",
       "1      TV Show   South Africa      0.757898  International TV Shows   \n",
       "2      TV Show  United States      0.757898          Crime TV Shows   \n",
       "3      TV Show  United States      0.757898              Docuseries   \n",
       "4      TV Show          India      0.757898  International TV Shows   \n",
       "...        ...            ...           ...                     ...   \n",
       "11054  TV Show  United States     -1.585979        Action-Adventure   \n",
       "11055  TV Show  United States     -2.032431                  Comedy   \n",
       "11056  TV Show  United States     -0.023394        Action-Adventure   \n",
       "11057  TV Show         Canada      0.199832        Action-Adventure   \n",
       "11058  TV Show  United States     -0.693073                    Kids   \n",
       "\n",
       "                       genre1                 genre2                  genre3  \\\n",
       "0               Documentaries          Documentaries           Documentaries   \n",
       "1                   TV Dramas           TV Mysteries  International TV Shows   \n",
       "2      International TV Shows  TV Action & Adventure          Crime TV Shows   \n",
       "3                  Reality TV             Docuseries              Reality TV   \n",
       "4           Romantic TV Shows            TV Comedies  International TV Shows   \n",
       "...                       ...                    ...                     ...   \n",
       "11054               Animation                   Kids        Action-Adventure   \n",
       "11055           Coming of Age                   Kids                  Comedy   \n",
       "11056                  Comedy          Coming of Age        Action-Adventure   \n",
       "11057                  Comedy        Science Fiction        Action-Adventure   \n",
       "11058                   Music                   Kids                   Music   \n",
       "\n",
       "                       genre4  the  and  ...  david  attenborough  michael  \\\n",
       "0               Documentaries    2    1  ...      1             1        0   \n",
       "1                   TV Dramas    0    0  ...      0             0        0   \n",
       "2      International TV Shows    0    2  ...      0             0        0   \n",
       "3                  Docuseries    2    1  ...      1             1        0   \n",
       "4           Romantic TV Shows    0    1  ...      0             0        0   \n",
       "...                       ...  ...  ...  ...    ...           ...      ...   \n",
       "11054               Animation    1    1  ...      1             0        0   \n",
       "11055           Coming of Age    0    0  ...      0             0        0   \n",
       "11056                  Comedy    0    1  ...      0             0        0   \n",
       "11057                  Comedy    0    0  ...      0             0        0   \n",
       "11058                    Kids    1    0  ...      0             0        0   \n",
       "\n",
       "       john  james  lee  paul  kim  de  tom  \n",
       "0         0      0    0     0    0   0    0  \n",
       "1         0      0    0     0    0   1    0  \n",
       "2         0      0    0     0    0   0    0  \n",
       "3         0      0    0     0    0   0    0  \n",
       "4         0      0    0     0    0   0    0  \n",
       "...     ...    ...  ...   ...  ...  ..  ...  \n",
       "11054     0      0    0     0    0   0    0  \n",
       "11055     1      0    0     0    0   0    0  \n",
       "11056     0      0    0     0    0   0    0  \n",
       "11057     0      0    0     0    0   0    0  \n",
       "11058     0      0    0     0    0   0    0  \n",
       "\n",
       "[11059 rows x 48 columns]"
      ]
     },
     "execution_count": 36,
     "metadata": {},
     "output_type": "execute_result"
    }
   ],
   "source": [
    "df"
   ]
  },
  {
   "cell_type": "markdown",
   "id": "3e687d9c",
   "metadata": {},
   "source": [
    "### Words added to dataframe, successfully"
   ]
  },
  {
   "cell_type": "markdown",
   "id": "03e0f664",
   "metadata": {},
   "source": [
    "## 3. Handle Categorical Data:"
   ]
  },
  {
   "cell_type": "markdown",
   "id": "e483e973",
   "metadata": {},
   "source": [
    "### One-hot Encoding VS Label Encoding:"
   ]
  },
  {
   "cell_type": "markdown",
   "id": "487814cf",
   "metadata": {},
   "source": [
    "Label Encoding is very simple and it involves converting each value in a column to a number."
   ]
  },
  {
   "cell_type": "markdown",
   "id": "aefefbcc",
   "metadata": {},
   "source": [
    "Though label encoding is straight but it has the disadvantage that the numeric values can be misinterpreted by algorithms as having some sort of hierarchy/order in them. This ordering issue is addressed in another common alternative approach called ‘One-Hot Encoding’. In this strategy, each category value is converted into a new column and assigned a 1 or 0 (notation for true/false) value to the column."
   ]
  },
  {
   "cell_type": "markdown",
   "id": "c033b3ac",
   "metadata": {},
   "source": [
    "resorce: https://towardsdatascience.com/categorical-encoding-using-label-encoding-and-one-hot-encoder-911ef77fb5bd"
   ]
  },
  {
   "cell_type": "markdown",
   "id": "6381a353",
   "metadata": {},
   "source": [
    "### We use tree based algorithms and so use both of these Encodings create same result; so we use Label Encoding because it is more simple than One-hot Encoding."
   ]
  },
  {
   "cell_type": "code",
   "execution_count": 37,
   "id": "6ee403ca",
   "metadata": {},
   "outputs": [],
   "source": [
    "label_encoder = LabelEncoder()"
   ]
  },
  {
   "cell_type": "code",
   "execution_count": 38,
   "id": "31168d93",
   "metadata": {},
   "outputs": [
    {
     "data": {
      "text/html": [
       "<div>\n",
       "<style scoped>\n",
       "    .dataframe tbody tr th:only-of-type {\n",
       "        vertical-align: middle;\n",
       "    }\n",
       "\n",
       "    .dataframe tbody tr th {\n",
       "        vertical-align: top;\n",
       "    }\n",
       "\n",
       "    .dataframe thead th {\n",
       "        text-align: right;\n",
       "    }\n",
       "</style>\n",
       "<table border=\"1\" class=\"dataframe\">\n",
       "  <thead>\n",
       "    <tr style=\"text-align: right;\">\n",
       "      <th></th>\n",
       "      <th>type</th>\n",
       "      <th>country</th>\n",
       "      <th>release_year</th>\n",
       "      <th>genre0</th>\n",
       "      <th>genre1</th>\n",
       "      <th>genre2</th>\n",
       "      <th>genre3</th>\n",
       "      <th>genre4</th>\n",
       "      <th>the</th>\n",
       "      <th>and</th>\n",
       "      <th>...</th>\n",
       "      <th>david</th>\n",
       "      <th>attenborough</th>\n",
       "      <th>michael</th>\n",
       "      <th>john</th>\n",
       "      <th>james</th>\n",
       "      <th>lee</th>\n",
       "      <th>paul</th>\n",
       "      <th>kim</th>\n",
       "      <th>de</th>\n",
       "      <th>tom</th>\n",
       "    </tr>\n",
       "  </thead>\n",
       "  <tbody>\n",
       "    <tr>\n",
       "      <th>0</th>\n",
       "      <td>Movie</td>\n",
       "      <td>United States</td>\n",
       "      <td>0.646285</td>\n",
       "      <td>Documentaries</td>\n",
       "      <td>Documentaries</td>\n",
       "      <td>Documentaries</td>\n",
       "      <td>Documentaries</td>\n",
       "      <td>Documentaries</td>\n",
       "      <td>2</td>\n",
       "      <td>1</td>\n",
       "      <td>...</td>\n",
       "      <td>1</td>\n",
       "      <td>1</td>\n",
       "      <td>0</td>\n",
       "      <td>0</td>\n",
       "      <td>0</td>\n",
       "      <td>0</td>\n",
       "      <td>0</td>\n",
       "      <td>0</td>\n",
       "      <td>0</td>\n",
       "      <td>0</td>\n",
       "    </tr>\n",
       "    <tr>\n",
       "      <th>1</th>\n",
       "      <td>TV Show</td>\n",
       "      <td>South Africa</td>\n",
       "      <td>0.757898</td>\n",
       "      <td>International TV Shows</td>\n",
       "      <td>TV Dramas</td>\n",
       "      <td>TV Mysteries</td>\n",
       "      <td>International TV Shows</td>\n",
       "      <td>TV Dramas</td>\n",
       "      <td>0</td>\n",
       "      <td>0</td>\n",
       "      <td>...</td>\n",
       "      <td>0</td>\n",
       "      <td>0</td>\n",
       "      <td>0</td>\n",
       "      <td>0</td>\n",
       "      <td>0</td>\n",
       "      <td>0</td>\n",
       "      <td>0</td>\n",
       "      <td>0</td>\n",
       "      <td>1</td>\n",
       "      <td>0</td>\n",
       "    </tr>\n",
       "    <tr>\n",
       "      <th>2</th>\n",
       "      <td>TV Show</td>\n",
       "      <td>United States</td>\n",
       "      <td>0.757898</td>\n",
       "      <td>Crime TV Shows</td>\n",
       "      <td>International TV Shows</td>\n",
       "      <td>TV Action &amp; Adventure</td>\n",
       "      <td>Crime TV Shows</td>\n",
       "      <td>International TV Shows</td>\n",
       "      <td>0</td>\n",
       "      <td>2</td>\n",
       "      <td>...</td>\n",
       "      <td>0</td>\n",
       "      <td>0</td>\n",
       "      <td>0</td>\n",
       "      <td>0</td>\n",
       "      <td>0</td>\n",
       "      <td>0</td>\n",
       "      <td>0</td>\n",
       "      <td>0</td>\n",
       "      <td>0</td>\n",
       "      <td>0</td>\n",
       "    </tr>\n",
       "    <tr>\n",
       "      <th>3</th>\n",
       "      <td>TV Show</td>\n",
       "      <td>United States</td>\n",
       "      <td>0.757898</td>\n",
       "      <td>Docuseries</td>\n",
       "      <td>Reality TV</td>\n",
       "      <td>Docuseries</td>\n",
       "      <td>Reality TV</td>\n",
       "      <td>Docuseries</td>\n",
       "      <td>2</td>\n",
       "      <td>1</td>\n",
       "      <td>...</td>\n",
       "      <td>1</td>\n",
       "      <td>1</td>\n",
       "      <td>0</td>\n",
       "      <td>0</td>\n",
       "      <td>0</td>\n",
       "      <td>0</td>\n",
       "      <td>0</td>\n",
       "      <td>0</td>\n",
       "      <td>0</td>\n",
       "      <td>0</td>\n",
       "    </tr>\n",
       "    <tr>\n",
       "      <th>4</th>\n",
       "      <td>TV Show</td>\n",
       "      <td>India</td>\n",
       "      <td>0.757898</td>\n",
       "      <td>International TV Shows</td>\n",
       "      <td>Romantic TV Shows</td>\n",
       "      <td>TV Comedies</td>\n",
       "      <td>International TV Shows</td>\n",
       "      <td>Romantic TV Shows</td>\n",
       "      <td>0</td>\n",
       "      <td>1</td>\n",
       "      <td>...</td>\n",
       "      <td>0</td>\n",
       "      <td>0</td>\n",
       "      <td>0</td>\n",
       "      <td>0</td>\n",
       "      <td>0</td>\n",
       "      <td>0</td>\n",
       "      <td>0</td>\n",
       "      <td>0</td>\n",
       "      <td>0</td>\n",
       "      <td>0</td>\n",
       "    </tr>\n",
       "    <tr>\n",
       "      <th>...</th>\n",
       "      <td>...</td>\n",
       "      <td>...</td>\n",
       "      <td>...</td>\n",
       "      <td>...</td>\n",
       "      <td>...</td>\n",
       "      <td>...</td>\n",
       "      <td>...</td>\n",
       "      <td>...</td>\n",
       "      <td>...</td>\n",
       "      <td>...</td>\n",
       "      <td>...</td>\n",
       "      <td>...</td>\n",
       "      <td>...</td>\n",
       "      <td>...</td>\n",
       "      <td>...</td>\n",
       "      <td>...</td>\n",
       "      <td>...</td>\n",
       "      <td>...</td>\n",
       "      <td>...</td>\n",
       "      <td>...</td>\n",
       "      <td>...</td>\n",
       "    </tr>\n",
       "    <tr>\n",
       "      <th>11054</th>\n",
       "      <td>TV Show</td>\n",
       "      <td>United States</td>\n",
       "      <td>-1.585979</td>\n",
       "      <td>Action-Adventure</td>\n",
       "      <td>Animation</td>\n",
       "      <td>Kids</td>\n",
       "      <td>Action-Adventure</td>\n",
       "      <td>Animation</td>\n",
       "      <td>1</td>\n",
       "      <td>1</td>\n",
       "      <td>...</td>\n",
       "      <td>1</td>\n",
       "      <td>0</td>\n",
       "      <td>0</td>\n",
       "      <td>0</td>\n",
       "      <td>0</td>\n",
       "      <td>0</td>\n",
       "      <td>0</td>\n",
       "      <td>0</td>\n",
       "      <td>0</td>\n",
       "      <td>0</td>\n",
       "    </tr>\n",
       "    <tr>\n",
       "      <th>11055</th>\n",
       "      <td>TV Show</td>\n",
       "      <td>United States</td>\n",
       "      <td>-2.032431</td>\n",
       "      <td>Comedy</td>\n",
       "      <td>Coming of Age</td>\n",
       "      <td>Kids</td>\n",
       "      <td>Comedy</td>\n",
       "      <td>Coming of Age</td>\n",
       "      <td>0</td>\n",
       "      <td>0</td>\n",
       "      <td>...</td>\n",
       "      <td>0</td>\n",
       "      <td>0</td>\n",
       "      <td>0</td>\n",
       "      <td>1</td>\n",
       "      <td>0</td>\n",
       "      <td>0</td>\n",
       "      <td>0</td>\n",
       "      <td>0</td>\n",
       "      <td>0</td>\n",
       "      <td>0</td>\n",
       "    </tr>\n",
       "    <tr>\n",
       "      <th>11056</th>\n",
       "      <td>TV Show</td>\n",
       "      <td>United States</td>\n",
       "      <td>-0.023394</td>\n",
       "      <td>Action-Adventure</td>\n",
       "      <td>Comedy</td>\n",
       "      <td>Coming of Age</td>\n",
       "      <td>Action-Adventure</td>\n",
       "      <td>Comedy</td>\n",
       "      <td>0</td>\n",
       "      <td>1</td>\n",
       "      <td>...</td>\n",
       "      <td>0</td>\n",
       "      <td>0</td>\n",
       "      <td>0</td>\n",
       "      <td>0</td>\n",
       "      <td>0</td>\n",
       "      <td>0</td>\n",
       "      <td>0</td>\n",
       "      <td>0</td>\n",
       "      <td>0</td>\n",
       "      <td>0</td>\n",
       "    </tr>\n",
       "    <tr>\n",
       "      <th>11057</th>\n",
       "      <td>TV Show</td>\n",
       "      <td>Canada</td>\n",
       "      <td>0.199832</td>\n",
       "      <td>Action-Adventure</td>\n",
       "      <td>Comedy</td>\n",
       "      <td>Science Fiction</td>\n",
       "      <td>Action-Adventure</td>\n",
       "      <td>Comedy</td>\n",
       "      <td>0</td>\n",
       "      <td>0</td>\n",
       "      <td>...</td>\n",
       "      <td>0</td>\n",
       "      <td>0</td>\n",
       "      <td>0</td>\n",
       "      <td>0</td>\n",
       "      <td>0</td>\n",
       "      <td>0</td>\n",
       "      <td>0</td>\n",
       "      <td>0</td>\n",
       "      <td>0</td>\n",
       "      <td>0</td>\n",
       "    </tr>\n",
       "    <tr>\n",
       "      <th>11058</th>\n",
       "      <td>TV Show</td>\n",
       "      <td>United States</td>\n",
       "      <td>-0.693073</td>\n",
       "      <td>Kids</td>\n",
       "      <td>Music</td>\n",
       "      <td>Kids</td>\n",
       "      <td>Music</td>\n",
       "      <td>Kids</td>\n",
       "      <td>1</td>\n",
       "      <td>0</td>\n",
       "      <td>...</td>\n",
       "      <td>0</td>\n",
       "      <td>0</td>\n",
       "      <td>0</td>\n",
       "      <td>0</td>\n",
       "      <td>0</td>\n",
       "      <td>0</td>\n",
       "      <td>0</td>\n",
       "      <td>0</td>\n",
       "      <td>0</td>\n",
       "      <td>0</td>\n",
       "    </tr>\n",
       "  </tbody>\n",
       "</table>\n",
       "<p>11059 rows × 48 columns</p>\n",
       "</div>"
      ],
      "text/plain": [
       "          type        country  release_year                  genre0  \\\n",
       "0        Movie  United States      0.646285           Documentaries   \n",
       "1      TV Show   South Africa      0.757898  International TV Shows   \n",
       "2      TV Show  United States      0.757898          Crime TV Shows   \n",
       "3      TV Show  United States      0.757898              Docuseries   \n",
       "4      TV Show          India      0.757898  International TV Shows   \n",
       "...        ...            ...           ...                     ...   \n",
       "11054  TV Show  United States     -1.585979        Action-Adventure   \n",
       "11055  TV Show  United States     -2.032431                  Comedy   \n",
       "11056  TV Show  United States     -0.023394        Action-Adventure   \n",
       "11057  TV Show         Canada      0.199832        Action-Adventure   \n",
       "11058  TV Show  United States     -0.693073                    Kids   \n",
       "\n",
       "                       genre1                 genre2                  genre3  \\\n",
       "0               Documentaries          Documentaries           Documentaries   \n",
       "1                   TV Dramas           TV Mysteries  International TV Shows   \n",
       "2      International TV Shows  TV Action & Adventure          Crime TV Shows   \n",
       "3                  Reality TV             Docuseries              Reality TV   \n",
       "4           Romantic TV Shows            TV Comedies  International TV Shows   \n",
       "...                       ...                    ...                     ...   \n",
       "11054               Animation                   Kids        Action-Adventure   \n",
       "11055           Coming of Age                   Kids                  Comedy   \n",
       "11056                  Comedy          Coming of Age        Action-Adventure   \n",
       "11057                  Comedy        Science Fiction        Action-Adventure   \n",
       "11058                   Music                   Kids                   Music   \n",
       "\n",
       "                       genre4  the  and  ...  david  attenborough  michael  \\\n",
       "0               Documentaries    2    1  ...      1             1        0   \n",
       "1                   TV Dramas    0    0  ...      0             0        0   \n",
       "2      International TV Shows    0    2  ...      0             0        0   \n",
       "3                  Docuseries    2    1  ...      1             1        0   \n",
       "4           Romantic TV Shows    0    1  ...      0             0        0   \n",
       "...                       ...  ...  ...  ...    ...           ...      ...   \n",
       "11054               Animation    1    1  ...      1             0        0   \n",
       "11055           Coming of Age    0    0  ...      0             0        0   \n",
       "11056                  Comedy    0    1  ...      0             0        0   \n",
       "11057                  Comedy    0    0  ...      0             0        0   \n",
       "11058                    Kids    1    0  ...      0             0        0   \n",
       "\n",
       "       john  james  lee  paul  kim  de  tom  \n",
       "0         0      0    0     0    0   0    0  \n",
       "1         0      0    0     0    0   1    0  \n",
       "2         0      0    0     0    0   0    0  \n",
       "3         0      0    0     0    0   0    0  \n",
       "4         0      0    0     0    0   0    0  \n",
       "...     ...    ...  ...   ...  ...  ..  ...  \n",
       "11054     0      0    0     0    0   0    0  \n",
       "11055     1      0    0     0    0   0    0  \n",
       "11056     0      0    0     0    0   0    0  \n",
       "11057     0      0    0     0    0   0    0  \n",
       "11058     0      0    0     0    0   0    0  \n",
       "\n",
       "[11059 rows x 48 columns]"
      ]
     },
     "execution_count": 38,
     "metadata": {},
     "output_type": "execute_result"
    }
   ],
   "source": [
    "df"
   ]
  },
  {
   "cell_type": "code",
   "execution_count": 39,
   "id": "5af25afd",
   "metadata": {},
   "outputs": [],
   "source": [
    "for title in df:\n",
    "    if(df[title].dtype == \"object\"):\n",
    "        df[title] = label_encoder.fit_transform(df[title])\n",
    "for title in df_more_information:\n",
    "    if(df_more_information[title].dtype == \"object\"):\n",
    "        df_more_information[title] = label_encoder.fit_transform(df_more_information[title])"
   ]
  },
  {
   "cell_type": "code",
   "execution_count": 40,
   "id": "025ff567",
   "metadata": {},
   "outputs": [
    {
     "data": {
      "text/html": [
       "<div>\n",
       "<style scoped>\n",
       "    .dataframe tbody tr th:only-of-type {\n",
       "        vertical-align: middle;\n",
       "    }\n",
       "\n",
       "    .dataframe tbody tr th {\n",
       "        vertical-align: top;\n",
       "    }\n",
       "\n",
       "    .dataframe thead th {\n",
       "        text-align: right;\n",
       "    }\n",
       "</style>\n",
       "<table border=\"1\" class=\"dataframe\">\n",
       "  <thead>\n",
       "    <tr style=\"text-align: right;\">\n",
       "      <th></th>\n",
       "      <th>type</th>\n",
       "      <th>country</th>\n",
       "      <th>release_year</th>\n",
       "      <th>genre0</th>\n",
       "      <th>genre1</th>\n",
       "      <th>genre2</th>\n",
       "      <th>genre3</th>\n",
       "      <th>genre4</th>\n",
       "      <th>the</th>\n",
       "      <th>and</th>\n",
       "      <th>...</th>\n",
       "      <th>david</th>\n",
       "      <th>attenborough</th>\n",
       "      <th>michael</th>\n",
       "      <th>john</th>\n",
       "      <th>james</th>\n",
       "      <th>lee</th>\n",
       "      <th>paul</th>\n",
       "      <th>kim</th>\n",
       "      <th>de</th>\n",
       "      <th>tom</th>\n",
       "    </tr>\n",
       "  </thead>\n",
       "  <tbody>\n",
       "    <tr>\n",
       "      <th>0</th>\n",
       "      <td>0</td>\n",
       "      <td>608</td>\n",
       "      <td>0.646285</td>\n",
       "      <td>22</td>\n",
       "      <td>19</td>\n",
       "      <td>20</td>\n",
       "      <td>21</td>\n",
       "      <td>21</td>\n",
       "      <td>2</td>\n",
       "      <td>1</td>\n",
       "      <td>...</td>\n",
       "      <td>1</td>\n",
       "      <td>1</td>\n",
       "      <td>0</td>\n",
       "      <td>0</td>\n",
       "      <td>0</td>\n",
       "      <td>0</td>\n",
       "      <td>0</td>\n",
       "      <td>0</td>\n",
       "      <td>0</td>\n",
       "      <td>0</td>\n",
       "    </tr>\n",
       "    <tr>\n",
       "      <th>1</th>\n",
       "      <td>1</td>\n",
       "      <td>430</td>\n",
       "      <td>0.757898</td>\n",
       "      <td>37</td>\n",
       "      <td>69</td>\n",
       "      <td>79</td>\n",
       "      <td>38</td>\n",
       "      <td>69</td>\n",
       "      <td>0</td>\n",
       "      <td>0</td>\n",
       "      <td>...</td>\n",
       "      <td>0</td>\n",
       "      <td>0</td>\n",
       "      <td>0</td>\n",
       "      <td>0</td>\n",
       "      <td>0</td>\n",
       "      <td>0</td>\n",
       "      <td>0</td>\n",
       "      <td>0</td>\n",
       "      <td>1</td>\n",
       "      <td>0</td>\n",
       "    </tr>\n",
       "    <tr>\n",
       "      <th>2</th>\n",
       "      <td>1</td>\n",
       "      <td>608</td>\n",
       "      <td>0.757898</td>\n",
       "      <td>20</td>\n",
       "      <td>37</td>\n",
       "      <td>75</td>\n",
       "      <td>19</td>\n",
       "      <td>39</td>\n",
       "      <td>0</td>\n",
       "      <td>2</td>\n",
       "      <td>...</td>\n",
       "      <td>0</td>\n",
       "      <td>0</td>\n",
       "      <td>0</td>\n",
       "      <td>0</td>\n",
       "      <td>0</td>\n",
       "      <td>0</td>\n",
       "      <td>0</td>\n",
       "      <td>0</td>\n",
       "      <td>0</td>\n",
       "      <td>0</td>\n",
       "    </tr>\n",
       "    <tr>\n",
       "      <th>3</th>\n",
       "      <td>1</td>\n",
       "      <td>608</td>\n",
       "      <td>0.757898</td>\n",
       "      <td>24</td>\n",
       "      <td>51</td>\n",
       "      <td>22</td>\n",
       "      <td>51</td>\n",
       "      <td>23</td>\n",
       "      <td>2</td>\n",
       "      <td>1</td>\n",
       "      <td>...</td>\n",
       "      <td>1</td>\n",
       "      <td>1</td>\n",
       "      <td>0</td>\n",
       "      <td>0</td>\n",
       "      <td>0</td>\n",
       "      <td>0</td>\n",
       "      <td>0</td>\n",
       "      <td>0</td>\n",
       "      <td>0</td>\n",
       "      <td>0</td>\n",
       "    </tr>\n",
       "    <tr>\n",
       "      <th>4</th>\n",
       "      <td>1</td>\n",
       "      <td>254</td>\n",
       "      <td>0.757898</td>\n",
       "      <td>37</td>\n",
       "      <td>54</td>\n",
       "      <td>76</td>\n",
       "      <td>38</td>\n",
       "      <td>55</td>\n",
       "      <td>0</td>\n",
       "      <td>1</td>\n",
       "      <td>...</td>\n",
       "      <td>0</td>\n",
       "      <td>0</td>\n",
       "      <td>0</td>\n",
       "      <td>0</td>\n",
       "      <td>0</td>\n",
       "      <td>0</td>\n",
       "      <td>0</td>\n",
       "      <td>0</td>\n",
       "      <td>0</td>\n",
       "      <td>0</td>\n",
       "    </tr>\n",
       "    <tr>\n",
       "      <th>...</th>\n",
       "      <td>...</td>\n",
       "      <td>...</td>\n",
       "      <td>...</td>\n",
       "      <td>...</td>\n",
       "      <td>...</td>\n",
       "      <td>...</td>\n",
       "      <td>...</td>\n",
       "      <td>...</td>\n",
       "      <td>...</td>\n",
       "      <td>...</td>\n",
       "      <td>...</td>\n",
       "      <td>...</td>\n",
       "      <td>...</td>\n",
       "      <td>...</td>\n",
       "      <td>...</td>\n",
       "      <td>...</td>\n",
       "      <td>...</td>\n",
       "      <td>...</td>\n",
       "      <td>...</td>\n",
       "      <td>...</td>\n",
       "      <td>...</td>\n",
       "    </tr>\n",
       "    <tr>\n",
       "      <th>11054</th>\n",
       "      <td>1</td>\n",
       "      <td>608</td>\n",
       "      <td>-1.585979</td>\n",
       "      <td>2</td>\n",
       "      <td>4</td>\n",
       "      <td>39</td>\n",
       "      <td>2</td>\n",
       "      <td>5</td>\n",
       "      <td>1</td>\n",
       "      <td>1</td>\n",
       "      <td>...</td>\n",
       "      <td>1</td>\n",
       "      <td>0</td>\n",
       "      <td>0</td>\n",
       "      <td>0</td>\n",
       "      <td>0</td>\n",
       "      <td>0</td>\n",
       "      <td>0</td>\n",
       "      <td>0</td>\n",
       "      <td>0</td>\n",
       "      <td>0</td>\n",
       "    </tr>\n",
       "    <tr>\n",
       "      <th>11055</th>\n",
       "      <td>1</td>\n",
       "      <td>608</td>\n",
       "      <td>-2.032431</td>\n",
       "      <td>18</td>\n",
       "      <td>16</td>\n",
       "      <td>39</td>\n",
       "      <td>17</td>\n",
       "      <td>18</td>\n",
       "      <td>0</td>\n",
       "      <td>0</td>\n",
       "      <td>...</td>\n",
       "      <td>0</td>\n",
       "      <td>0</td>\n",
       "      <td>0</td>\n",
       "      <td>1</td>\n",
       "      <td>0</td>\n",
       "      <td>0</td>\n",
       "      <td>0</td>\n",
       "      <td>0</td>\n",
       "      <td>0</td>\n",
       "      <td>0</td>\n",
       "    </tr>\n",
       "    <tr>\n",
       "      <th>11056</th>\n",
       "      <td>1</td>\n",
       "      <td>608</td>\n",
       "      <td>-0.023394</td>\n",
       "      <td>2</td>\n",
       "      <td>15</td>\n",
       "      <td>17</td>\n",
       "      <td>2</td>\n",
       "      <td>17</td>\n",
       "      <td>0</td>\n",
       "      <td>1</td>\n",
       "      <td>...</td>\n",
       "      <td>0</td>\n",
       "      <td>0</td>\n",
       "      <td>0</td>\n",
       "      <td>0</td>\n",
       "      <td>0</td>\n",
       "      <td>0</td>\n",
       "      <td>0</td>\n",
       "      <td>0</td>\n",
       "      <td>0</td>\n",
       "      <td>0</td>\n",
       "    </tr>\n",
       "    <tr>\n",
       "      <th>11057</th>\n",
       "      <td>1</td>\n",
       "      <td>59</td>\n",
       "      <td>0.199832</td>\n",
       "      <td>2</td>\n",
       "      <td>15</td>\n",
       "      <td>62</td>\n",
       "      <td>2</td>\n",
       "      <td>17</td>\n",
       "      <td>0</td>\n",
       "      <td>0</td>\n",
       "      <td>...</td>\n",
       "      <td>0</td>\n",
       "      <td>0</td>\n",
       "      <td>0</td>\n",
       "      <td>0</td>\n",
       "      <td>0</td>\n",
       "      <td>0</td>\n",
       "      <td>0</td>\n",
       "      <td>0</td>\n",
       "      <td>0</td>\n",
       "      <td>0</td>\n",
       "    </tr>\n",
       "    <tr>\n",
       "      <th>11058</th>\n",
       "      <td>1</td>\n",
       "      <td>608</td>\n",
       "      <td>-0.693073</td>\n",
       "      <td>38</td>\n",
       "      <td>45</td>\n",
       "      <td>39</td>\n",
       "      <td>46</td>\n",
       "      <td>40</td>\n",
       "      <td>1</td>\n",
       "      <td>0</td>\n",
       "      <td>...</td>\n",
       "      <td>0</td>\n",
       "      <td>0</td>\n",
       "      <td>0</td>\n",
       "      <td>0</td>\n",
       "      <td>0</td>\n",
       "      <td>0</td>\n",
       "      <td>0</td>\n",
       "      <td>0</td>\n",
       "      <td>0</td>\n",
       "      <td>0</td>\n",
       "    </tr>\n",
       "  </tbody>\n",
       "</table>\n",
       "<p>11059 rows × 48 columns</p>\n",
       "</div>"
      ],
      "text/plain": [
       "       type  country  release_year  genre0  genre1  genre2  genre3  genre4  \\\n",
       "0         0      608      0.646285      22      19      20      21      21   \n",
       "1         1      430      0.757898      37      69      79      38      69   \n",
       "2         1      608      0.757898      20      37      75      19      39   \n",
       "3         1      608      0.757898      24      51      22      51      23   \n",
       "4         1      254      0.757898      37      54      76      38      55   \n",
       "...     ...      ...           ...     ...     ...     ...     ...     ...   \n",
       "11054     1      608     -1.585979       2       4      39       2       5   \n",
       "11055     1      608     -2.032431      18      16      39      17      18   \n",
       "11056     1      608     -0.023394       2      15      17       2      17   \n",
       "11057     1       59      0.199832       2      15      62       2      17   \n",
       "11058     1      608     -0.693073      38      45      39      46      40   \n",
       "\n",
       "       the  and  ...  david  attenborough  michael  john  james  lee  paul  \\\n",
       "0        2    1  ...      1             1        0     0      0    0     0   \n",
       "1        0    0  ...      0             0        0     0      0    0     0   \n",
       "2        0    2  ...      0             0        0     0      0    0     0   \n",
       "3        2    1  ...      1             1        0     0      0    0     0   \n",
       "4        0    1  ...      0             0        0     0      0    0     0   \n",
       "...    ...  ...  ...    ...           ...      ...   ...    ...  ...   ...   \n",
       "11054    1    1  ...      1             0        0     0      0    0     0   \n",
       "11055    0    0  ...      0             0        0     1      0    0     0   \n",
       "11056    0    1  ...      0             0        0     0      0    0     0   \n",
       "11057    0    0  ...      0             0        0     0      0    0     0   \n",
       "11058    1    0  ...      0             0        0     0      0    0     0   \n",
       "\n",
       "       kim  de  tom  \n",
       "0        0   0    0  \n",
       "1        0   1    0  \n",
       "2        0   0    0  \n",
       "3        0   0    0  \n",
       "4        0   0    0  \n",
       "...    ...  ..  ...  \n",
       "11054    0   0    0  \n",
       "11055    0   0    0  \n",
       "11056    0   0    0  \n",
       "11057    0   0    0  \n",
       "11058    0   0    0  \n",
       "\n",
       "[11059 rows x 48 columns]"
      ]
     },
     "execution_count": 40,
     "metadata": {},
     "output_type": "execute_result"
    }
   ],
   "source": [
    "df"
   ]
  },
  {
   "cell_type": "markdown",
   "id": "6c81fefa",
   "metadata": {},
   "source": [
    "### Label Encode non-numerical columns by sklearn LableEncoder"
   ]
  },
  {
   "cell_type": "markdown",
   "id": "56a8bd69",
   "metadata": {},
   "source": [
    "## Conection Between Features"
   ]
  },
  {
   "cell_type": "markdown",
   "id": "9bd247e2",
   "metadata": {},
   "source": [
    "### The target is the \"type\" column, so we most calculate information gain based on this column values distribution"
   ]
  },
  {
   "cell_type": "code",
   "execution_count": 41,
   "id": "7713926b",
   "metadata": {},
   "outputs": [
    {
     "data": {
      "image/png": "[encoded data removed]",
      "text/plain": [
       "<Figure size 432x288 with 1 Axes>"
      ]
     },
     "metadata": {
      "needs_background": "light"
     },
     "output_type": "display_data"
    },
    {
     "data": {
      "image/png": "[encoded data removed]",
      "text/plain": [
       "<Figure size 432x288 with 1 Axes>"
      ]
     },
     "metadata": {
      "needs_background": "light"
     },
     "output_type": "display_data"
    },
    {
     "data": {
      "image/png": "[encoded data removed]",
      "text/plain": [
       "<Figure size 432x288 with 1 Axes>"
      ]
     },
     "metadata": {
      "needs_background": "light"
     },
     "output_type": "display_data"
    },
    {
     "data": {
      "image/png": "[encoded data removed]",
      "text/plain": [
       "<Figure size 432x288 with 1 Axes>"
      ]
     },
     "metadata": {
      "needs_background": "light"
     },
     "output_type": "display_data"
    },
    {
     "data": {
      "image/png": "[encoded data removed]",
      "text/plain": [
       "<Figure size 432x288 with 1 Axes>"
      ]
     },
     "metadata": {
      "needs_background": "light"
     },
     "output_type": "display_data"
    },
    {
     "data": {
      "image/png": "[encoded data removed]",
      "text/plain": [
       "<Figure size 432x288 with 1 Axes>"
      ]
     },
     "metadata": {
      "needs_background": "light"
     },
     "output_type": "display_data"
    },
    {
     "data": {
      "image/png": "[encoded data removed]",
      "text/plain": [
       "<Figure size 432x288 with 1 Axes>"
      ]
     },
     "metadata": {
      "needs_background": "light"
     },
     "output_type": "display_data"
    },
    {
     "data": {
      "image/png": "[encoded data removed]",
      "text/plain": [
       "<Figure size 432x288 with 1 Axes>"
      ]
     },
     "metadata": {
      "needs_background": "light"
     },
     "output_type": "display_data"
    },
    {
     "data": {
      "image/png": "[encoded data removed]",
      "text/plain": [
       "<Figure size 432x288 with 1 Axes>"
      ]
     },
     "metadata": {
      "needs_background": "light"
     },
     "output_type": "display_data"
    },
    {
     "data": {
      "image/png": "[encoded data removed]",
      "text/plain": [
       "<Figure size 432x288 with 1 Axes>"
      ]
     },
     "metadata": {
      "needs_background": "light"
     },
     "output_type": "display_data"
    },
    {
     "data": {
      "image/png": "[encoded data removed]",
      "text/plain": [
       "<Figure size 432x288 with 1 Axes>"
      ]
     },
     "metadata": {
      "needs_background": "light"
     },
     "output_type": "display_data"
    },
    {
     "data": {
      "image/png": "[encoded data removed]",
      "text/plain": [
       "<Figure size 432x288 with 1 Axes>"
      ]
     },
     "metadata": {
      "needs_background": "light"
     },
     "output_type": "display_data"
    },
    {
     "data": {
      "image/png": "[encoded data removed]",
      "text/plain": [
       "<Figure size 432x288 with 1 Axes>"
      ]
     },
     "metadata": {
      "needs_background": "light"
     },
     "output_type": "display_data"
    },
    {
     "data": {
      "image/png": "[encoded data removed]",
      "text/plain": [
       "<Figure size 432x288 with 1 Axes>"
      ]
     },
     "metadata": {
      "needs_background": "light"
     },
     "output_type": "display_data"
    },
    {
     "data": {
      "image/png": "[encoded data removed]",
      "text/plain": [
       "<Figure size 432x288 with 1 Axes>"
      ]
     },
     "metadata": {
      "needs_background": "light"
     },
     "output_type": "display_data"
    },
    {
     "data": {
      "image/png": "[encoded data removed]",
      "text/plain": [
       "<Figure size 432x288 with 1 Axes>"
      ]
     },
     "metadata": {
      "needs_background": "light"
     },
     "output_type": "display_data"
    },
    {
     "data": {
      "image/png": "[encoded data removed]",
      "text/plain": [
       "<Figure size 432x288 with 1 Axes>"
      ]
     },
     "metadata": {
      "needs_background": "light"
     },
     "output_type": "display_data"
    },
    {
     "data": {
      "image/png": "[encoded data removed]",
      "text/plain": [
       "<Figure size 432x288 with 1 Axes>"
      ]
     },
     "metadata": {
      "needs_background": "light"
     },
     "output_type": "display_data"
    },
    {
     "data": {
      "image/png": "[encoded data removed]",
      "text/plain": [
       "<Figure size 432x288 with 1 Axes>"
      ]
     },
     "metadata": {
      "needs_background": "light"
     },
     "output_type": "display_data"
    },
    {
     "data": {
      "image/png": "[encoded data removed]",
      "text/plain": [
       "<Figure size 432x288 with 1 Axes>"
      ]
     },
     "metadata": {
      "needs_background": "light"
     },
     "output_type": "display_data"
    },
    {
     "data": {
      "image/png": "[encoded data removed]",
      "text/plain": [
       "<Figure size 432x288 with 1 Axes>"
      ]
     },
     "metadata": {
      "needs_background": "light"
     },
     "output_type": "display_data"
    },
    {
     "data": {
      "image/png": "[encoded data removed]",
      "text/plain": [
       "<Figure size 432x288 with 1 Axes>"
      ]
     },
     "metadata": {
      "needs_background": "light"
     },
     "output_type": "display_data"
    },
    {
     "data": {
      "image/png": "[encoded data removed]",
      "text/plain": [
       "<Figure size 432x288 with 1 Axes>"
      ]
     },
     "metadata": {
      "needs_background": "light"
     },
     "output_type": "display_data"
    },
    {
     "data": {
      "image/png": "[encoded data removed]",
      "text/plain": [
       "<Figure size 432x288 with 1 Axes>"
      ]
     },
     "metadata": {
      "needs_background": "light"
     },
     "output_type": "display_data"
    },
    {
     "data": {
      "image/png": "[encoded data removed]",
      "text/plain": [
       "<Figure size 432x288 with 1 Axes>"
      ]
     },
     "metadata": {
      "needs_background": "light"
     },
     "output_type": "display_data"
    },
    {
     "data": {
      "image/png": "[encoded data removed]",
      "text/plain": [
       "<Figure size 432x288 with 1 Axes>"
      ]
     },
     "metadata": {
      "needs_background": "light"
     },
     "output_type": "display_data"
    },
    {
     "data": {
      "image/png": "[encoded data removed]",
      "text/plain": [
       "<Figure size 432x288 with 1 Axes>"
      ]
     },
     "metadata": {
      "needs_background": "light"
     },
     "output_type": "display_data"
    },
    {
     "data": {
      "image/png": "[encoded data removed]",
      "text/plain": [
       "<Figure size 432x288 with 1 Axes>"
      ]
     },
     "metadata": {
      "needs_background": "light"
     },
     "output_type": "display_data"
    },
    {
     "data": {
      "image/png": "[encoded data removed]",
      "text/plain": [
       "<Figure size 432x288 with 1 Axes>"
      ]
     },
     "metadata": {
      "needs_background": "light"
     },
     "output_type": "display_data"
    },
    {
     "data": {
      "image/png": "[encoded data removed]",
      "text/plain": [
       "<Figure size 432x288 with 1 Axes>"
      ]
     },
     "metadata": {
      "needs_background": "light"
     },
     "output_type": "display_data"
    },
    {
     "data": {
      "image/png": "[encoded data removed]",
      "text/plain": [
       "<Figure size 432x288 with 1 Axes>"
      ]
     },
     "metadata": {
      "needs_background": "light"
     },
     "output_type": "display_data"
    },
    {
     "data": {
      "image/png": "[encoded data removed]",
      "text/plain": [
       "<Figure size 432x288 with 1 Axes>"
      ]
     },
     "metadata": {
      "needs_background": "light"
     },
     "output_type": "display_data"
    },
    {
     "data": {
      "image/png": "[encoded data removed]",
      "text/plain": [
       "<Figure size 432x288 with 1 Axes>"
      ]
     },
     "metadata": {
      "needs_background": "light"
     },
     "output_type": "display_data"
    },
    {
     "data": {
      "image/png": "[encoded data removed]",
      "text/plain": [
       "<Figure size 432x288 with 1 Axes>"
      ]
     },
     "metadata": {
      "needs_background": "light"
     },
     "output_type": "display_data"
    },
    {
     "data": {
      "image/png": "[encoded data removed]",
      "text/plain": [
       "<Figure size 432x288 with 1 Axes>"
      ]
     },
     "metadata": {
      "needs_background": "light"
     },
     "output_type": "display_data"
    },
    {
     "data": {
      "image/png": "[encoded data removed]",
      "text/plain": [
       "<Figure size 432x288 with 1 Axes>"
      ]
     },
     "metadata": {
      "needs_background": "light"
     },
     "output_type": "display_data"
    },
    {
     "data": {
      "image/png": "[encoded data removed]",
      "text/plain": [
       "<Figure size 432x288 with 1 Axes>"
      ]
     },
     "metadata": {
      "needs_background": "light"
     },
     "output_type": "display_data"
    },
    {
     "data": {
      "image/png": "[encoded data removed]",
      "text/plain": [
       "<Figure size 432x288 with 1 Axes>"
      ]
     },
     "metadata": {
      "needs_background": "light"
     },
     "output_type": "display_data"
    },
    {
     "data": {
      "image/png": "[encoded data removed]",
      "text/plain": [
       "<Figure size 432x288 with 1 Axes>"
      ]
     },
     "metadata": {
      "needs_background": "light"
     },
     "output_type": "display_data"
    },
    {
     "data": {
      "image/png": "[encoded data removed]",
      "text/plain": [
       "<Figure size 432x288 with 1 Axes>"
      ]
     },
     "metadata": {
      "needs_background": "light"
     },
     "output_type": "display_data"
    },
    {
     "data": {
      "image/png": "[encoded data removed]",
      "text/plain": [
       "<Figure size 432x288 with 1 Axes>"
      ]
     },
     "metadata": {
      "needs_background": "light"
     },
     "output_type": "display_data"
    },
    {
     "data": {
      "image/png": "[encoded data removed]",
      "text/plain": [
       "<Figure size 432x288 with 1 Axes>"
      ]
     },
     "metadata": {
      "needs_background": "light"
     },
     "output_type": "display_data"
    },
    {
     "data": {
      "image/png": "[encoded data removed]",
      "text/plain": [
       "<Figure size 432x288 with 1 Axes>"
      ]
     },
     "metadata": {
      "needs_background": "light"
     },
     "output_type": "display_data"
    },
    {
     "data": {
      "image/png": "[encoded data removed]",
      "text/plain": [
       "<Figure size 432x288 with 1 Axes>"
      ]
     },
     "metadata": {
      "needs_background": "light"
     },
     "output_type": "display_data"
    },
    {
     "data": {
      "image/png": "[encoded data removed]",
      "text/plain": [
       "<Figure size 432x288 with 1 Axes>"
      ]
     },
     "metadata": {
      "needs_background": "light"
     },
     "output_type": "display_data"
    },
    {
     "data": {
      "image/png": "[encoded data removed]",
      "text/plain": [
       "<Figure size 432x288 with 1 Axes>"
      ]
     },
     "metadata": {
      "needs_background": "light"
     },
     "output_type": "display_data"
    },
    {
     "data": {
      "image/png": "[encoded data removed]",
      "text/plain": [
       "<Figure size 432x288 with 1 Axes>"
      ]
     },
     "metadata": {
      "needs_background": "light"
     },
     "output_type": "display_data"
    }
   ],
   "source": [
    "for title in df:\n",
    "    if(title == \"type\"):\n",
    "        continue\n",
    "    info_df = df[['type', title]]\n",
    "    info_gain = info_df[title].value_counts()\n",
    "    dist_df = pd.DataFrame()\n",
    "    dist_df[title] = info_gain.index\n",
    "    \n",
    "    # count number of types values with same title value\n",
    "    all_ones = []\n",
    "    all_zeros = []\n",
    "    for value in info_gain.index:\n",
    "        all_num = info_df.loc[info_df[title] == value]['type'].count()\n",
    "        ones = info_df.loc[info_df[title] == value]['type'].sum()\n",
    "        all_ones.append(ones)\n",
    "        all_zeros.append(all_num - ones)\n",
    "    dist_df['one'] = all_ones\n",
    "    dist_df['zero'] = all_zeros\n",
    "    \n",
    "    # normalize distribution data\n",
    "    limit = 10\n",
    "    if len(dist_df) < 10:\n",
    "        limit = len(dist_df)\n",
    "    normal_dist_df = cp.deepcopy(dist_df[0:limit])\n",
    "    normal_dist_df['one'] = normal_dist_df['one'].div(dist_df['one'] + dist_df['zero'], axis=0) * 100\n",
    "    normal_dist_df['zero'] = normal_dist_df['zero'].div(dist_df['one'] + dist_df['zero'], axis=0) * 100\n",
    "    \n",
    "    # create plot\n",
    "    count = list(range(1, limit+1))\n",
    "    plt.bar(count, normal_dist_df['one'],label=\"One\",color='b',width=.5)\n",
    "    plt.bar(count, normal_dist_df['zero'], bottom = normal_dist_df['one'],label=\"Zero\", color='r',width=.5)\n",
    "    plt.legend()\n",
    "    plt.xlabel('Top ' + title, fontweight ='bold')\n",
    "    plt.ylabel('Percentage', fontweight ='bold')\n",
    "    plt.title('Distribution', fontweight ='bold')\n",
    "    plt.show()\n",
    "    "
   ]
  },
  {
   "cell_type": "markdown",
   "id": "66ab840b",
   "metadata": {},
   "source": [
    "### We can see \"type\" value distribution by each atribute in above plots"
   ]
  },
  {
   "cell_type": "markdown",
   "id": "9e2e7706",
   "metadata": {},
   "source": [
    "## Calculate Information Gain:"
   ]
  },
  {
   "cell_type": "markdown",
   "id": "d96baa4d",
   "metadata": {},
   "source": [
    "### we should calculate Information Entropy first:"
   ]
  },
  {
   "cell_type": "code",
   "execution_count": 42,
   "id": "a81b57a3",
   "metadata": {},
   "outputs": [],
   "source": [
    "ones = df['type'].sum()\n",
    "all_ = df['type'].count()\n",
    "zeros = all_ - ones\n",
    "p_1 = ones / all_\n",
    "p_0 = zeros / all_\n",
    "first_entropy = -(p_0 * math.log2(p_0) + p_1 * math.log2(p_1))"
   ]
  },
  {
   "cell_type": "code",
   "execution_count": 43,
   "id": "560e030b",
   "metadata": {},
   "outputs": [
    {
     "data": {
      "text/plain": [
       "0.9914472885406285"
      ]
     },
     "execution_count": 43,
     "metadata": {},
     "output_type": "execute_result"
    }
   ],
   "source": [
    "first_entropy"
   ]
  },
  {
   "cell_type": "code",
   "execution_count": 44,
   "id": "3dff7769",
   "metadata": {},
   "outputs": [],
   "source": [
    "max_gain = 0\n",
    "best_atribute = \"\"\n",
    "gain = []\n",
    "atribute = []\n",
    "for title in df:\n",
    "    if(title == \"type\"):\n",
    "        continue\n",
    "    info_df = df[['type', title]]\n",
    "    info_gain = info_df[title].value_counts()\n",
    "    dist_df = pd.DataFrame()\n",
    "    dist_df[title] = info_gain.index\n",
    "    \n",
    "    # calculate Entropy by split with title\n",
    "    Entropys = []\n",
    "    for value in info_gain.index:\n",
    "        all_num = info_df.loc[info_df[title] == value]['type'].count()\n",
    "        ones = info_df.loc[info_df[title] == value]['type'].sum()\n",
    "        zeros = all_num - ones\n",
    "        p_1 = ones / all_num\n",
    "        p_0 = zeros / all_num\n",
    "        if p_0 > 0 and p_1 > 0:\n",
    "            entropy = -(p_0 * math.log2(p_0) + p_1 * math.log2(p_1))\n",
    "        else:\n",
    "            entropy = 0\n",
    "        Entropys.append(entropy * all_num / all_)\n",
    "    entropy = sum(Entropys)\n",
    "    \n",
    "    # calculate information gain by split with title\n",
    "    info_gain = first_entropy - entropy\n",
    "    gain.append(info_gain)\n",
    "    atribute.append(title)\n",
    "    \n",
    "    # calculate best atribute\n",
    "    if info_gain > max_gain:\n",
    "        max_gain = info_gain\n",
    "        best_atribute = title"
   ]
  },
  {
   "cell_type": "code",
   "execution_count": 45,
   "id": "6daaa872",
   "metadata": {},
   "outputs": [],
   "source": [
    "info_gain_df = pd.DataFrame()"
   ]
  },
  {
   "cell_type": "code",
   "execution_count": 46,
   "id": "2b8928dc",
   "metadata": {},
   "outputs": [],
   "source": [
    "info_gain_df[\"atribute\"] = atribute\n",
    "info_gain_df[\"gain\"] = gain"
   ]
  },
  {
   "cell_type": "code",
   "execution_count": 47,
   "id": "6df6bce2",
   "metadata": {},
   "outputs": [],
   "source": [
    "info_gain_df.sort_values(\"gain\", axis = 0, ascending = False, inplace = True)"
   ]
  },
  {
   "cell_type": "code",
   "execution_count": 48,
   "id": "5c219a02",
   "metadata": {},
   "outputs": [
    {
     "data": {
      "text/html": [
       "<div>\n",
       "<style scoped>\n",
       "    .dataframe tbody tr th:only-of-type {\n",
       "        vertical-align: middle;\n",
       "    }\n",
       "\n",
       "    .dataframe tbody tr th {\n",
       "        vertical-align: top;\n",
       "    }\n",
       "\n",
       "    .dataframe thead th {\n",
       "        text-align: right;\n",
       "    }\n",
       "</style>\n",
       "<table border=\"1\" class=\"dataframe\">\n",
       "  <thead>\n",
       "    <tr style=\"text-align: right;\">\n",
       "      <th></th>\n",
       "      <th>atribute</th>\n",
       "      <th>gain</th>\n",
       "    </tr>\n",
       "  </thead>\n",
       "  <tbody>\n",
       "    <tr>\n",
       "      <th>2</th>\n",
       "      <td>genre0</td>\n",
       "      <td>0.991447</td>\n",
       "    </tr>\n",
       "    <tr>\n",
       "      <th>3</th>\n",
       "      <td>genre1</td>\n",
       "      <td>0.991447</td>\n",
       "    </tr>\n",
       "    <tr>\n",
       "      <th>4</th>\n",
       "      <td>genre2</td>\n",
       "      <td>0.991447</td>\n",
       "    </tr>\n",
       "    <tr>\n",
       "      <th>5</th>\n",
       "      <td>genre3</td>\n",
       "      <td>0.991447</td>\n",
       "    </tr>\n",
       "    <tr>\n",
       "      <th>6</th>\n",
       "      <td>genre4</td>\n",
       "      <td>0.991447</td>\n",
       "    </tr>\n",
       "    <tr>\n",
       "      <th>0</th>\n",
       "      <td>country</td>\n",
       "      <td>0.179537</td>\n",
       "    </tr>\n",
       "    <tr>\n",
       "      <th>8</th>\n",
       "      <td>and</td>\n",
       "      <td>0.051715</td>\n",
       "    </tr>\n",
       "    <tr>\n",
       "      <th>7</th>\n",
       "      <td>the</td>\n",
       "      <td>0.043582</td>\n",
       "    </tr>\n",
       "    <tr>\n",
       "      <th>1</th>\n",
       "      <td>release_year</td>\n",
       "      <td>0.041065</td>\n",
       "    </tr>\n",
       "    <tr>\n",
       "      <th>10</th>\n",
       "      <td>of</td>\n",
       "      <td>0.021134</td>\n",
       "    </tr>\n",
       "    <tr>\n",
       "      <th>12</th>\n",
       "      <td>his</td>\n",
       "      <td>0.019613</td>\n",
       "    </tr>\n",
       "    <tr>\n",
       "      <th>38</th>\n",
       "      <td>attenborough</td>\n",
       "      <td>0.018039</td>\n",
       "    </tr>\n",
       "    <tr>\n",
       "      <th>23</th>\n",
       "      <td>when</td>\n",
       "      <td>0.016949</td>\n",
       "    </tr>\n",
       "    <tr>\n",
       "      <th>19</th>\n",
       "      <td>is</td>\n",
       "      <td>0.014152</td>\n",
       "    </tr>\n",
       "    <tr>\n",
       "      <th>35</th>\n",
       "      <td>world</td>\n",
       "      <td>0.012631</td>\n",
       "    </tr>\n",
       "    <tr>\n",
       "      <th>37</th>\n",
       "      <td>david</td>\n",
       "      <td>0.011409</td>\n",
       "    </tr>\n",
       "    <tr>\n",
       "      <th>9</th>\n",
       "      <td>to</td>\n",
       "      <td>0.010167</td>\n",
       "    </tr>\n",
       "    <tr>\n",
       "      <th>31</th>\n",
       "      <td>they</td>\n",
       "      <td>0.009233</td>\n",
       "    </tr>\n",
       "    <tr>\n",
       "      <th>22</th>\n",
       "      <td>as</td>\n",
       "      <td>0.007377</td>\n",
       "    </tr>\n",
       "    <tr>\n",
       "      <th>25</th>\n",
       "      <td>he</td>\n",
       "      <td>0.006708</td>\n",
       "    </tr>\n",
       "    <tr>\n",
       "      <th>11</th>\n",
       "      <td>in</td>\n",
       "      <td>0.006092</td>\n",
       "    </tr>\n",
       "    <tr>\n",
       "      <th>13</th>\n",
       "      <td>with</td>\n",
       "      <td>0.005866</td>\n",
       "    </tr>\n",
       "    <tr>\n",
       "      <th>44</th>\n",
       "      <td>kim</td>\n",
       "      <td>0.004930</td>\n",
       "    </tr>\n",
       "    <tr>\n",
       "      <th>21</th>\n",
       "      <td>this</td>\n",
       "      <td>0.004790</td>\n",
       "    </tr>\n",
       "    <tr>\n",
       "      <th>24</th>\n",
       "      <td>that</td>\n",
       "      <td>0.004687</td>\n",
       "    </tr>\n",
       "    <tr>\n",
       "      <th>42</th>\n",
       "      <td>lee</td>\n",
       "      <td>0.004385</td>\n",
       "    </tr>\n",
       "    <tr>\n",
       "      <th>30</th>\n",
       "      <td>new</td>\n",
       "      <td>0.004273</td>\n",
       "    </tr>\n",
       "    <tr>\n",
       "      <th>14</th>\n",
       "      <td>her</td>\n",
       "      <td>0.004238</td>\n",
       "    </tr>\n",
       "    <tr>\n",
       "      <th>29</th>\n",
       "      <td>after</td>\n",
       "      <td>0.003949</td>\n",
       "    </tr>\n",
       "    <tr>\n",
       "      <th>40</th>\n",
       "      <td>john</td>\n",
       "      <td>0.003573</td>\n",
       "    </tr>\n",
       "    <tr>\n",
       "      <th>17</th>\n",
       "      <td>an</td>\n",
       "      <td>0.003503</td>\n",
       "    </tr>\n",
       "    <tr>\n",
       "      <th>18</th>\n",
       "      <td>their</td>\n",
       "      <td>0.003305</td>\n",
       "    </tr>\n",
       "    <tr>\n",
       "      <th>28</th>\n",
       "      <td>life</td>\n",
       "      <td>0.002901</td>\n",
       "    </tr>\n",
       "    <tr>\n",
       "      <th>39</th>\n",
       "      <td>michael</td>\n",
       "      <td>0.002743</td>\n",
       "    </tr>\n",
       "    <tr>\n",
       "      <th>20</th>\n",
       "      <td>from</td>\n",
       "      <td>0.001964</td>\n",
       "    </tr>\n",
       "    <tr>\n",
       "      <th>34</th>\n",
       "      <td>but</td>\n",
       "      <td>0.001953</td>\n",
       "    </tr>\n",
       "    <tr>\n",
       "      <th>27</th>\n",
       "      <td>who</td>\n",
       "      <td>0.001478</td>\n",
       "    </tr>\n",
       "    <tr>\n",
       "      <th>15</th>\n",
       "      <td>for</td>\n",
       "      <td>0.001456</td>\n",
       "    </tr>\n",
       "    <tr>\n",
       "      <th>26</th>\n",
       "      <td>by</td>\n",
       "      <td>0.001356</td>\n",
       "    </tr>\n",
       "    <tr>\n",
       "      <th>16</th>\n",
       "      <td>on</td>\n",
       "      <td>0.001117</td>\n",
       "    </tr>\n",
       "    <tr>\n",
       "      <th>33</th>\n",
       "      <td>at</td>\n",
       "      <td>0.001083</td>\n",
       "    </tr>\n",
       "    <tr>\n",
       "      <th>41</th>\n",
       "      <td>james</td>\n",
       "      <td>0.001005</td>\n",
       "    </tr>\n",
       "    <tr>\n",
       "      <th>45</th>\n",
       "      <td>de</td>\n",
       "      <td>0.001002</td>\n",
       "    </tr>\n",
       "    <tr>\n",
       "      <th>43</th>\n",
       "      <td>paul</td>\n",
       "      <td>0.000874</td>\n",
       "    </tr>\n",
       "    <tr>\n",
       "      <th>36</th>\n",
       "      <td>into</td>\n",
       "      <td>0.000568</td>\n",
       "    </tr>\n",
       "    <tr>\n",
       "      <th>32</th>\n",
       "      <td>up</td>\n",
       "      <td>0.000490</td>\n",
       "    </tr>\n",
       "    <tr>\n",
       "      <th>46</th>\n",
       "      <td>tom</td>\n",
       "      <td>0.000207</td>\n",
       "    </tr>\n",
       "  </tbody>\n",
       "</table>\n",
       "</div>"
      ],
      "text/plain": [
       "        atribute      gain\n",
       "2         genre0  0.991447\n",
       "3         genre1  0.991447\n",
       "4         genre2  0.991447\n",
       "5         genre3  0.991447\n",
       "6         genre4  0.991447\n",
       "0        country  0.179537\n",
       "8            and  0.051715\n",
       "7            the  0.043582\n",
       "1   release_year  0.041065\n",
       "10            of  0.021134\n",
       "12           his  0.019613\n",
       "38  attenborough  0.018039\n",
       "23          when  0.016949\n",
       "19            is  0.014152\n",
       "35         world  0.012631\n",
       "37         david  0.011409\n",
       "9             to  0.010167\n",
       "31          they  0.009233\n",
       "22            as  0.007377\n",
       "25            he  0.006708\n",
       "11            in  0.006092\n",
       "13          with  0.005866\n",
       "44           kim  0.004930\n",
       "21          this  0.004790\n",
       "24          that  0.004687\n",
       "42           lee  0.004385\n",
       "30           new  0.004273\n",
       "14           her  0.004238\n",
       "29         after  0.003949\n",
       "40          john  0.003573\n",
       "17            an  0.003503\n",
       "18         their  0.003305\n",
       "28          life  0.002901\n",
       "39       michael  0.002743\n",
       "20          from  0.001964\n",
       "34           but  0.001953\n",
       "27           who  0.001478\n",
       "15           for  0.001456\n",
       "26            by  0.001356\n",
       "16            on  0.001117\n",
       "33            at  0.001083\n",
       "41         james  0.001005\n",
       "45            de  0.001002\n",
       "43          paul  0.000874\n",
       "36          into  0.000568\n",
       "32            up  0.000490\n",
       "46           tom  0.000207"
      ]
     },
     "execution_count": 48,
     "metadata": {},
     "output_type": "execute_result"
    }
   ],
   "source": [
    "info_gain_df"
   ]
  },
  {
   "cell_type": "code",
   "execution_count": 49,
   "id": "4b62aee2",
   "metadata": {},
   "outputs": [
    {
     "data": {
      "image/png": "[encoded data removed]",
      "text/plain": [
       "<Figure size 1000x500 with 1 Axes>"
      ]
     },
     "metadata": {
      "needs_background": "light"
     },
     "output_type": "display_data"
    }
   ],
   "source": [
    "plt.figure(figsize=(10, 5), dpi=100)\n",
    "plt.bar(info_gain_df['atribute'], info_gain_df['gain'],color='c',width=.5)\n",
    "plt.xlabel(\"Atribute\", fontweight ='bold')\n",
    "plt.ylabel(\"Gain\", fontweight ='bold')\n",
    "plt.title(\"Information Gain\", fontweight ='bold')\n",
    "plt.show()"
   ]
  },
  {
   "cell_type": "code",
   "execution_count": 50,
   "id": "d5a97b83",
   "metadata": {},
   "outputs": [
    {
     "data": {
      "image/png": "[encoded data removed]",
      "text/plain": [
       "<Figure size 1000x500 with 1 Axes>"
      ]
     },
     "metadata": {
      "needs_background": "light"
     },
     "output_type": "display_data"
    }
   ],
   "source": [
    "plt.figure(figsize=(10, 5), dpi=100)\n",
    "plt.bar(info_gain_df['atribute'][0:10], info_gain_df['gain'][0:10],color='c',width=.5)\n",
    "plt.xlabel(\"Top 10 Atribute\", fontweight ='bold')\n",
    "plt.ylabel(\"Gain\", fontweight ='bold')\n",
    "plt.title(\"Top 10 Information Gain\", fontweight ='bold')\n",
    "plt.show()"
   ]
  },
  {
   "cell_type": "markdown",
   "id": "2447db68",
   "metadata": {},
   "source": [
    "### According to the plot above, maximum gain can be gave by genres, so it is better to split data by genres."
   ]
  },
  {
   "cell_type": "code",
   "execution_count": 51,
   "id": "bd442093",
   "metadata": {},
   "outputs": [
    {
     "data": {
      "text/plain": [
       "'genre0'"
      ]
     },
     "execution_count": 51,
     "metadata": {},
     "output_type": "execute_result"
    }
   ],
   "source": [
    "best_atribute"
   ]
  },
  {
   "cell_type": "markdown",
   "id": "3c6ad6bf",
   "metadata": {},
   "source": [
    "# Phase 2 : Predict the Goal and Model Optimization"
   ]
  },
  {
   "cell_type": "markdown",
   "id": "1edd77fa",
   "metadata": {},
   "source": [
    "### devide df for create train datafarme and test dataframe:"
   ]
  },
  {
   "cell_type": "code",
   "execution_count": 52,
   "id": "e70ac029",
   "metadata": {},
   "outputs": [],
   "source": [
    "# my percentage : 80% Train and 20% Test\n",
    "train_80p_df = cp.deepcopy(df.iloc[int((len(df)*0.2)):])\n",
    "test_20p_df = cp.deepcopy(df.iloc[0:int((len(df)*0.2))])\n",
    "answer_20p = np.array(cp.deepcopy(test_20p_df[\"type\"]))\n",
    "test_20p_df.drop(labels = \"type\", axis = 1, inplace = True)"
   ]
  },
  {
   "cell_type": "code",
   "execution_count": 53,
   "id": "8b496cc5",
   "metadata": {},
   "outputs": [],
   "source": [
    "# dataframe with more information :\n",
    "train_80p_df_mi = cp.deepcopy(df_more_information.iloc[int((len(df)*0.2)):])\n",
    "test_20p_df_mi = cp.deepcopy(df_more_information.iloc[0:int((len(df)*0.2))])\n",
    "answer_20p_mi = np.array(cp.deepcopy(test_20p_df_mi[\"type\"]))\n",
    "test_20p_df_mi.drop(labels = \"type\", axis = 1, inplace = True)"
   ]
  },
  {
   "cell_type": "code",
   "execution_count": 54,
   "id": "923278c2",
   "metadata": {},
   "outputs": [],
   "source": [
    "train_98p_df = cp.deepcopy(df.iloc[int((len(df)*0.02)):])\n",
    "test_2p_df = cp.deepcopy(df.iloc[0:int((len(df)*0.02))])\n",
    "answer_2p = np.array(cp.deepcopy(test_2p_df[\"type\"]))\n",
    "test_2p_df.drop(labels = \"type\", axis = 1, inplace = True)"
   ]
  },
  {
   "cell_type": "code",
   "execution_count": 55,
   "id": "1905dae2",
   "metadata": {},
   "outputs": [],
   "source": [
    "train_40p_df = cp.deepcopy(df.iloc[int((len(df)*0.6)):])\n",
    "test_60p_df = cp.deepcopy(df.iloc[0:int((len(df)*0.6))])\n",
    "answer_60p = np.array(cp.deepcopy(test_60p_df[\"type\"]))\n",
    "test_60p_df.drop(labels = \"type\", axis = 1, inplace = True)"
   ]
  },
  {
   "cell_type": "markdown",
   "id": "bfb477f6",
   "metadata": {},
   "source": [
    "## My model:"
   ]
  },
  {
   "cell_type": "code",
   "execution_count": 56,
   "id": "241cb6fc",
   "metadata": {},
   "outputs": [],
   "source": [
    "dtc = tree.DecisionTreeClassifier(criterion = \"entropy\")"
   ]
  },
  {
   "cell_type": "code",
   "execution_count": 57,
   "id": "fb73ed40",
   "metadata": {},
   "outputs": [],
   "source": [
    "model_80p = dtc.fit(train_80p_df.drop(labels = \"type\", axis = 1).values, train_80p_df[\"type\"])"
   ]
  },
  {
   "cell_type": "code",
   "execution_count": 58,
   "id": "6e26a602",
   "metadata": {},
   "outputs": [
    {
     "data": {
      "image/png": "[encoded data removed]",
      "text/plain": [
       "<Figure size 432x288 with 1 Axes>"
      ]
     },
     "metadata": {
      "needs_background": "light"
     },
     "output_type": "display_data"
    }
   ],
   "source": [
    "tree.plot_tree(dtc);"
   ]
  },
  {
   "cell_type": "code",
   "execution_count": 59,
   "id": "f5a45b4d",
   "metadata": {},
   "outputs": [],
   "source": [
    "predicted = model_80p.predict(np.array(test_20p_df))"
   ]
  },
  {
   "cell_type": "code",
   "execution_count": 60,
   "id": "9dc06000",
   "metadata": {},
   "outputs": [],
   "source": [
    "num_of_wrong_ans = 0\n",
    "for i in range(0, len(predicted)):\n",
    "    if(predicted[i] != answer_20p[i]):\n",
    "        num_of_wrong_ans += 1\n",
    "num_of_all_ans = len(predicted)"
   ]
  },
  {
   "cell_type": "code",
   "execution_count": 61,
   "id": "122cdf56",
   "metadata": {},
   "outputs": [],
   "source": [
    "accuracy = (num_of_all_ans - num_of_wrong_ans) / num_of_all_ans * 100"
   ]
  },
  {
   "cell_type": "code",
   "execution_count": 62,
   "id": "001fe58c",
   "metadata": {},
   "outputs": [
    {
     "name": "stdout",
     "output_type": "stream",
     "text": [
      "Accuracy of deviding by 80% : 99.36680235187698\n"
     ]
    }
   ],
   "source": [
    "print(\"Accuracy of deviding by 80% :\", accuracy)"
   ]
  },
  {
   "cell_type": "code",
   "execution_count": 63,
   "id": "b2cf9eaa",
   "metadata": {},
   "outputs": [
    {
     "data": {
      "image/png": "[encoded data removed]",
      "text/plain": [
       "<Figure size 432x288 with 2 Axes>"
      ]
     },
     "metadata": {
      "needs_background": "light"
     },
     "output_type": "display_data"
    }
   ],
   "source": [
    "cm = metrics.confusion_matrix(answer_20p, predicted, labels=dtc.classes_)\n",
    "disp = metrics.ConfusionMatrixDisplay(confusion_matrix=cm,display_labels=dtc.classes_)\n",
    "disp.plot()\n",
    "plt.show()"
   ]
  },
  {
   "cell_type": "markdown",
   "id": "c943e39a",
   "metadata": {},
   "source": [
    "### Up Left sell : number of true preticted 0 values\n",
    "### Up Right sell : number of 0 values that predicted as 1\n",
    "### Down Left sell :  number of 1 values that predicted as 0\n",
    "### Down Right sell : number of true preticted 1 values"
   ]
  },
  {
   "cell_type": "code",
   "execution_count": 64,
   "id": "330ab5ba",
   "metadata": {},
   "outputs": [
    {
     "name": "stdout",
     "output_type": "stream",
     "text": [
      "None\n"
     ]
    }
   ],
   "source": [
    "print(dtc.max_depth)"
   ]
  },
  {
   "cell_type": "code",
   "execution_count": 65,
   "id": "884a967d",
   "metadata": {},
   "outputs": [
    {
     "name": "stdout",
     "output_type": "stream",
     "text": [
      "2\n"
     ]
    }
   ],
   "source": [
    "print(dtc.min_samples_split)"
   ]
  },
  {
   "cell_type": "code",
   "execution_count": 66,
   "id": "ec78462c",
   "metadata": {},
   "outputs": [
    {
     "data": {
      "text/plain": [
       "GridSearchCV(cv=5, estimator=DecisionTreeClassifier(), n_jobs=-1,\n",
       "             param_grid={'criterion': ['entropy'],\n",
       "                         'max_depth': [1, 2, 3, 4, 5, 6, 7, 8, 9, 10, 11, 12,\n",
       "                                       13, 14, 15, 16, 17, 18, 19, 20, 21, 22,\n",
       "                                       23, 24, 25, 26, 27, 28, 29, 30, ...],\n",
       "                         'min_samples_split': [2, 3, 4, 5, 6, 7, 8, 9]})"
      ]
     },
     "execution_count": 66,
     "metadata": {},
     "output_type": "execute_result"
    }
   ],
   "source": [
    "parameters = {'criterion' : ['entropy'], 'max_depth' : list(range(1,50)), 'min_samples_split' : list(range(2,10))}\n",
    "gsc = GridSearchCV(estimator=tree.DecisionTreeClassifier(),param_grid=parameters,cv=5, verbose=0, n_jobs=-1)\n",
    "gsc.fit(train_80p_df.drop(labels = \"type\", axis = 1).values, train_80p_df[\"type\"])"
   ]
  },
  {
   "cell_type": "code",
   "execution_count": 67,
   "id": "4b8f8f6a",
   "metadata": {},
   "outputs": [
    {
     "data": {
      "text/plain": [
       "DecisionTreeClassifier(criterion='entropy', max_depth=47)"
      ]
     },
     "execution_count": 67,
     "metadata": {},
     "output_type": "execute_result"
    }
   ],
   "source": [
    "gsc.best_estimator_"
   ]
  },
  {
   "cell_type": "code",
   "execution_count": 68,
   "id": "9ab6a999",
   "metadata": {},
   "outputs": [],
   "source": [
    "md = gsc.best_estimator_.max_depth\n",
    "mss = gsc.best_estimator_.min_samples_split"
   ]
  },
  {
   "cell_type": "code",
   "execution_count": 69,
   "id": "cd09085d",
   "metadata": {},
   "outputs": [
    {
     "name": "stdout",
     "output_type": "stream",
     "text": [
      "Best values for max_depth and min_samples_split, in order, are 47 and 2 .\n"
     ]
    }
   ],
   "source": [
    "print(\"Best values for max_depth and min_samples_split, in order, are\", md, \"and\", mss, \".\")"
   ]
  },
  {
   "cell_type": "markdown",
   "id": "412939d1",
   "metadata": {},
   "source": [
    "## Optimal model:"
   ]
  },
  {
   "cell_type": "code",
   "execution_count": 70,
   "id": "599173f7",
   "metadata": {},
   "outputs": [],
   "source": [
    "dtc = tree.DecisionTreeClassifier(criterion = \"entropy\", max_depth = md, min_samples_split = mss)"
   ]
  },
  {
   "cell_type": "code",
   "execution_count": 71,
   "id": "0000c204",
   "metadata": {},
   "outputs": [],
   "source": [
    "optimal_model_80p = dtc.fit(train_80p_df.drop(labels = \"type\", axis = 1).values, train_80p_df[\"type\"])"
   ]
  },
  {
   "cell_type": "code",
   "execution_count": 72,
   "id": "46c5e13f",
   "metadata": {},
   "outputs": [
    {
     "data": {
      "image/png": "[encoded data removed]",
      "text/plain": [
       "<Figure size 432x288 with 1 Axes>"
      ]
     },
     "metadata": {
      "needs_background": "light"
     },
     "output_type": "display_data"
    }
   ],
   "source": [
    "tree.plot_tree(dtc);"
   ]
  },
  {
   "cell_type": "code",
   "execution_count": 73,
   "id": "466eb851",
   "metadata": {},
   "outputs": [],
   "source": [
    "predicted = optimal_model_80p.predict(np.array(test_20p_df))"
   ]
  },
  {
   "cell_type": "code",
   "execution_count": 74,
   "id": "b4ef407f",
   "metadata": {},
   "outputs": [],
   "source": [
    "num_of_wrong_ans = 0\n",
    "for i in range(0, len(predicted)):\n",
    "    if(predicted[i] != answer_20p[i]):\n",
    "        num_of_wrong_ans += 1\n",
    "num_of_all_ans = len(predicted)"
   ]
  },
  {
   "cell_type": "code",
   "execution_count": 75,
   "id": "13cb94fa",
   "metadata": {},
   "outputs": [],
   "source": [
    "optimal_accuracy_80p = (num_of_all_ans - num_of_wrong_ans) / num_of_all_ans * 100"
   ]
  },
  {
   "cell_type": "code",
   "execution_count": 76,
   "id": "01694254",
   "metadata": {},
   "outputs": [
    {
     "name": "stdout",
     "output_type": "stream",
     "text": [
      "Optimal Accuracy of deviding by 80% : 99.4572591587517\n"
     ]
    }
   ],
   "source": [
    "print(\"Optimal Accuracy of deviding by 80% :\", optimal_accuracy_80p)"
   ]
  },
  {
   "cell_type": "code",
   "execution_count": 77,
   "id": "ac7c0e27",
   "metadata": {},
   "outputs": [
    {
     "data": {
      "image/png": "[encoded data removed]",
      "text/plain": [
       "<Figure size 432x288 with 2 Axes>"
      ]
     },
     "metadata": {
      "needs_background": "light"
     },
     "output_type": "display_data"
    }
   ],
   "source": [
    "cm = metrics.confusion_matrix(answer_20p, predicted, labels=dtc.classes_)\n",
    "disp = metrics.ConfusionMatrixDisplay(confusion_matrix=cm,display_labels=dtc.classes_)\n",
    "disp.plot()\n",
    "plt.show()"
   ]
  },
  {
   "cell_type": "markdown",
   "id": "b389aa38",
   "metadata": {},
   "source": [
    "## My Model with More Information:"
   ]
  },
  {
   "cell_type": "code",
   "execution_count": 78,
   "id": "d80cb037",
   "metadata": {},
   "outputs": [],
   "source": [
    "dtc = tree.DecisionTreeClassifier(criterion = \"entropy\")"
   ]
  },
  {
   "cell_type": "code",
   "execution_count": 79,
   "id": "b78465bc",
   "metadata": {},
   "outputs": [],
   "source": [
    "model_80p_mi = dtc.fit(train_80p_df_mi.drop(labels = \"type\", axis = 1).values, train_80p_df_mi[\"type\"])"
   ]
  },
  {
   "cell_type": "code",
   "execution_count": 80,
   "id": "8b6f1b3c",
   "metadata": {},
   "outputs": [
    {
     "data": {
      "image/png": "[encoded data removed]",
      "text/plain": [
       "<Figure size 432x288 with 1 Axes>"
      ]
     },
     "metadata": {
      "needs_background": "light"
     },
     "output_type": "display_data"
    }
   ],
   "source": [
    "tree.plot_tree(dtc);"
   ]
  },
  {
   "cell_type": "code",
   "execution_count": 81,
   "id": "c016e8e7",
   "metadata": {},
   "outputs": [],
   "source": [
    "predicted = model_80p_mi.predict(np.array(test_20p_df_mi))"
   ]
  },
  {
   "cell_type": "code",
   "execution_count": 82,
   "id": "2b971e56",
   "metadata": {},
   "outputs": [],
   "source": [
    "num_of_wrong_ans = 0\n",
    "for i in range(0, len(predicted)):\n",
    "    if(predicted[i] != answer_20p_mi[i]):\n",
    "        num_of_wrong_ans += 1\n",
    "num_of_all_ans = len(predicted)"
   ]
  },
  {
   "cell_type": "code",
   "execution_count": 83,
   "id": "f0567a0f",
   "metadata": {},
   "outputs": [],
   "source": [
    "accuracy_mi = (num_of_all_ans - num_of_wrong_ans) / num_of_all_ans * 100"
   ]
  },
  {
   "cell_type": "code",
   "execution_count": 84,
   "id": "d338162f",
   "metadata": {},
   "outputs": [
    {
     "name": "stdout",
     "output_type": "stream",
     "text": [
      "Accuracy of deviding by 80% with more information dataframe : 99.63817277250114\n"
     ]
    }
   ],
   "source": [
    "print(\"Accuracy of deviding by 80% with more information dataframe :\", accuracy_mi)"
   ]
  },
  {
   "cell_type": "code",
   "execution_count": 85,
   "id": "5c373f0c",
   "metadata": {},
   "outputs": [
    {
     "data": {
      "image/png": "[encoded data removed]",
      "text/plain": [
       "<Figure size 432x288 with 2 Axes>"
      ]
     },
     "metadata": {
      "needs_background": "light"
     },
     "output_type": "display_data"
    }
   ],
   "source": [
    "cm = metrics.confusion_matrix(answer_20p_mi, predicted, labels=dtc.classes_)\n",
    "disp = metrics.ConfusionMatrixDisplay(confusion_matrix=cm,display_labels=dtc.classes_)\n",
    "disp.plot()\n",
    "plt.show()"
   ]
  },
  {
   "cell_type": "code",
   "execution_count": 86,
   "id": "3608998c",
   "metadata": {},
   "outputs": [
    {
     "name": "stdout",
     "output_type": "stream",
     "text": [
      "Accuracy with more information : 99.63817277250114\n",
      "normal Accuracy : 99.36680235187698\n"
     ]
    }
   ],
   "source": [
    "print(\"Accuracy with more information :\", accuracy_mi)\n",
    "print(\"normal Accuracy :\", accuracy)"
   ]
  },
  {
   "cell_type": "markdown",
   "id": "8712177e",
   "metadata": {},
   "source": [
    "### According to the above section, more information may caused more accuracy if overfitting doesn't occured and may caused less accuracy if overfitting occures."
   ]
  },
  {
   "cell_type": "markdown",
   "id": "77587078",
   "metadata": {},
   "source": [
    "## 98 Percent Model:"
   ]
  },
  {
   "cell_type": "code",
   "execution_count": 87,
   "id": "a8e4b339",
   "metadata": {},
   "outputs": [],
   "source": [
    "dtc = tree.DecisionTreeClassifier(criterion = \"entropy\")"
   ]
  },
  {
   "cell_type": "code",
   "execution_count": 88,
   "id": "cfabf685",
   "metadata": {},
   "outputs": [],
   "source": [
    "model_98p = dtc.fit(train_98p_df.drop(labels = \"type\", axis = 1).values, train_98p_df[\"type\"])"
   ]
  },
  {
   "cell_type": "code",
   "execution_count": 89,
   "id": "9da1b727",
   "metadata": {},
   "outputs": [
    {
     "data": {
      "image/png": "[encoded data removed]",
      "text/plain": [
       "<Figure size 432x288 with 1 Axes>"
      ]
     },
     "metadata": {
      "needs_background": "light"
     },
     "output_type": "display_data"
    }
   ],
   "source": [
    "tree.plot_tree(dtc);"
   ]
  },
  {
   "cell_type": "code",
   "execution_count": 90,
   "id": "f28c247f",
   "metadata": {},
   "outputs": [],
   "source": [
    "predicted = model_98p.predict(np.array(test_2p_df))"
   ]
  },
  {
   "cell_type": "code",
   "execution_count": 91,
   "id": "3e5c74cd",
   "metadata": {},
   "outputs": [],
   "source": [
    "num_of_wrong_ans = 0\n",
    "for i in range(0, len(predicted)):\n",
    "    if(predicted[i] != answer_2p[i]):\n",
    "        num_of_wrong_ans += 1\n",
    "num_of_all_ans = len(predicted)"
   ]
  },
  {
   "cell_type": "code",
   "execution_count": 92,
   "id": "a3cb1fff",
   "metadata": {},
   "outputs": [],
   "source": [
    "accuracy_98p = (num_of_all_ans - num_of_wrong_ans) / num_of_all_ans * 100"
   ]
  },
  {
   "cell_type": "code",
   "execution_count": 93,
   "id": "3b86ad1d",
   "metadata": {},
   "outputs": [
    {
     "name": "stdout",
     "output_type": "stream",
     "text": [
      "Accuracy of deviding by 98% : 100.0\n"
     ]
    }
   ],
   "source": [
    "print(\"Accuracy of deviding by 98% :\", accuracy_98p)"
   ]
  },
  {
   "cell_type": "code",
   "execution_count": 94,
   "id": "1d61102f",
   "metadata": {},
   "outputs": [
    {
     "data": {
      "image/png": "[encoded data removed]",
      "text/plain": [
       "<Figure size 432x288 with 2 Axes>"
      ]
     },
     "metadata": {
      "needs_background": "light"
     },
     "output_type": "display_data"
    }
   ],
   "source": [
    "cm = metrics.confusion_matrix(answer_2p, predicted, labels=dtc.classes_)\n",
    "disp = metrics.ConfusionMatrixDisplay(confusion_matrix=cm,display_labels=dtc.classes_)\n",
    "disp.plot()\n",
    "plt.show()"
   ]
  },
  {
   "cell_type": "markdown",
   "id": "5f86c64c",
   "metadata": {},
   "source": [
    "## 40 Percent Model:"
   ]
  },
  {
   "cell_type": "code",
   "execution_count": 95,
   "id": "c0df6e47",
   "metadata": {},
   "outputs": [],
   "source": [
    "dtc = tree.DecisionTreeClassifier(criterion = \"entropy\")"
   ]
  },
  {
   "cell_type": "code",
   "execution_count": 96,
   "id": "94eb2345",
   "metadata": {},
   "outputs": [],
   "source": [
    "model_40p = dtc.fit(train_40p_df.drop(labels = \"type\", axis = 1).values, train_40p_df[\"type\"])"
   ]
  },
  {
   "cell_type": "code",
   "execution_count": 97,
   "id": "694fa75e",
   "metadata": {},
   "outputs": [
    {
     "data": {
      "image/png": "[encoded data removed]",
      "text/plain": [
       "<Figure size 432x288 with 1 Axes>"
      ]
     },
     "metadata": {
      "needs_background": "light"
     },
     "output_type": "display_data"
    }
   ],
   "source": [
    "tree.plot_tree(dtc);"
   ]
  },
  {
   "cell_type": "code",
   "execution_count": 98,
   "id": "c8763957",
   "metadata": {},
   "outputs": [],
   "source": [
    "predicted = model_40p.predict(np.array(test_60p_df))"
   ]
  },
  {
   "cell_type": "code",
   "execution_count": 99,
   "id": "3b0873c6",
   "metadata": {},
   "outputs": [],
   "source": [
    "num_of_wrong_ans = 0\n",
    "for i in range(0, len(predicted)):\n",
    "    if(predicted[i] != answer_60p[i]):\n",
    "        num_of_wrong_ans += 1\n",
    "num_of_all_ans = len(predicted)"
   ]
  },
  {
   "cell_type": "code",
   "execution_count": 100,
   "id": "08f628f8",
   "metadata": {},
   "outputs": [],
   "source": [
    "accuracy_40p = (num_of_all_ans - num_of_wrong_ans) / num_of_all_ans * 100"
   ]
  },
  {
   "cell_type": "code",
   "execution_count": 101,
   "id": "66f7613a",
   "metadata": {},
   "outputs": [
    {
     "name": "stdout",
     "output_type": "stream",
     "text": [
      "Accuracy of deviding by 40% : 91.65033911077619\n"
     ]
    }
   ],
   "source": [
    "print(\"Accuracy of deviding by 40% :\", accuracy_40p)"
   ]
  },
  {
   "cell_type": "code",
   "execution_count": 102,
   "id": "66770677",
   "metadata": {},
   "outputs": [
    {
     "data": {
      "image/png": "[encoded data removed]",
      "text/plain": [
       "<Figure size 432x288 with 2 Axes>"
      ]
     },
     "metadata": {
      "needs_background": "light"
     },
     "output_type": "display_data"
    }
   ],
   "source": [
    "cm = metrics.confusion_matrix(answer_60p, predicted, labels=dtc.classes_)\n",
    "disp = metrics.ConfusionMatrixDisplay(confusion_matrix=cm,display_labels=dtc.classes_)\n",
    "disp.plot()\n",
    "plt.show()"
   ]
  },
  {
   "cell_type": "markdown",
   "id": "e05cc7f5",
   "metadata": {},
   "source": [
    "## 1."
   ]
  },
  {
   "cell_type": "markdown",
   "id": "5ee13b23",
   "metadata": {},
   "source": [
    "### I choose 80 percent for Train and 20 percent for Test because the more train data gave better accuracy."
   ]
  },
  {
   "cell_type": "markdown",
   "id": "5f50491e",
   "metadata": {},
   "source": [
    "### If choose 98 percent for Train and 2 percent for Test, because of little Test colection, we gave fake accuracy and can't trust to the accuracy very much.(Is this considered as Overfitting?)"
   ]
  },
  {
   "cell_type": "markdown",
   "id": "5ccaec1c",
   "metadata": {},
   "source": [
    "### If choose 40 percent for Train and 60 percent for Test, because of little Train colection, we gave lower accuracy, but because of big Test colection, the accuracy is more reliable.(Is this considered as Underfitting?)"
   ]
  },
  {
   "cell_type": "markdown",
   "id": "c2962e6a",
   "metadata": {},
   "source": [
    "## 2."
   ]
  },
  {
   "cell_type": "code",
   "execution_count": 103,
   "id": "0803174f",
   "metadata": {},
   "outputs": [],
   "source": [
    "max_depth_values = [1, 2, 3, 4, 9, 15, 23, 27, 35, 43, 58, 96, 130]"
   ]
  },
  {
   "cell_type": "code",
   "execution_count": 104,
   "id": "142c493f",
   "metadata": {},
   "outputs": [],
   "source": [
    "accuracies = []\n",
    "\n",
    "for depth in max_depth_values:\n",
    "    dtc = tree.DecisionTreeClassifier(criterion = \"entropy\", max_depth = depth)\n",
    "    model_limited_depth = dtc.fit(train_80p_df.drop(labels = \"type\", axis = 1).values, train_80p_df[\"type\"])\n",
    "    predicted = model_limited_depth.predict(np.array(test_20p_df))\n",
    "    num_of_wrong_ans = 0\n",
    "    for i in range(0, len(predicted)):\n",
    "        if(predicted[i] != answer_20p[i]):\n",
    "            num_of_wrong_ans += 1\n",
    "    num_of_all_ans = len(predicted)\n",
    "    curr_accuracy = (num_of_all_ans - num_of_wrong_ans) / num_of_all_ans * 100\n",
    "    accuracies.append(curr_accuracy)\n"
   ]
  },
  {
   "cell_type": "code",
   "execution_count": 105,
   "id": "0bfc2227",
   "metadata": {},
   "outputs": [
    {
     "name": "stdout",
     "output_type": "stream",
     "text": [
      "with depth 1 Accuracy will be : 83.89868837630031\n",
      "with depth 2 Accuracy will be : 70.1492537313433\n",
      "with depth 3 Accuracy will be : 90.54726368159204\n",
      "with depth 4 Accuracy will be : 92.62777023971054\n",
      "with depth 9 Accuracy will be : 99.54771596562641\n",
      "with depth 15 Accuracy will be : 99.72862957937585\n",
      "with depth 23 Accuracy will be : 99.50248756218906\n",
      "with depth 27 Accuracy will be : 99.68340117593849\n",
      "with depth 35 Accuracy will be : 99.4572591587517\n",
      "with depth 43 Accuracy will be : 99.50248756218906\n",
      "with depth 58 Accuracy will be : 99.41203075531433\n",
      "with depth 96 Accuracy will be : 99.63817277250114\n",
      "with depth 130 Accuracy will be : 99.59294436906377\n"
     ]
    }
   ],
   "source": [
    "for i in range(0, len(max_depth_values)):\n",
    "    print(\"with depth\", max_depth_values[i], \"Accuracy will be :\", accuracies[i])"
   ]
  },
  {
   "cell_type": "code",
   "execution_count": 106,
   "id": "b485b489",
   "metadata": {},
   "outputs": [
    {
     "data": {
      "image/png": "[encoded data removed]",
      "text/plain": [
       "<Figure size 1000x500 with 1 Axes>"
      ]
     },
     "metadata": {
      "needs_background": "light"
     },
     "output_type": "display_data"
    }
   ],
   "source": [
    "count = list(range(1, len(max_depth_values) + 1))\n",
    "plt.figure(figsize=(10, 5), dpi=100)\n",
    "plt.bar(count, accuracies ,color='g',width=.5)\n",
    "plt.xlabel(\"Max Depth\", fontweight ='bold')\n",
    "plt.xticks(count, max_depth_values)\n",
    "plt.ylabel(\"Accuracy\", fontweight ='bold')\n",
    "plt.title(\"Accuracy by Different Max Depths\", fontweight ='bold')\n",
    "plt.show()"
   ]
  },
  {
   "cell_type": "markdown",
   "id": "4f5ea3ea",
   "metadata": {},
   "source": [
    "### with little max_depth, Underfitting occures and accuracy decreased and also, with big max_depth, Overfitting ocuures and accuracy decreased."
   ]
  },
  {
   "cell_type": "markdown",
   "id": "f85ab87e",
   "metadata": {},
   "source": [
    "# Phase 3 : Prediction with Group Learning"
   ]
  },
  {
   "cell_type": "markdown",
   "id": "80af0552",
   "metadata": {},
   "source": [
    "### max_features : The number of features to consider when looking for the best split."
   ]
  },
  {
   "cell_type": "markdown",
   "id": "41ba0617",
   "metadata": {},
   "source": [
    "### max_depth : The maximum depth of the tree. If None, then nodes are expanded until all leaves are pure or until all leaves contain less than min_samples_split samples.\n",
    "refrence : https://scikit-learn.org/stable/modules/generated/sklearn.ensemble.RandomForestClassifier.html"
   ]
  },
  {
   "cell_type": "code",
   "execution_count": 107,
   "id": "42ba765a",
   "metadata": {},
   "outputs": [],
   "source": [
    "RFC = RandomForestClassifier()"
   ]
  },
  {
   "cell_type": "code",
   "execution_count": 108,
   "id": "f373ac8f",
   "metadata": {},
   "outputs": [],
   "source": [
    "RF_model = RFC.fit(train_80p_df.drop(labels = \"type\", axis = 1).values, train_80p_df[\"type\"])"
   ]
  },
  {
   "cell_type": "code",
   "execution_count": 109,
   "id": "bbc26b16",
   "metadata": {},
   "outputs": [],
   "source": [
    "predicted = RF_model.predict(np.array(test_20p_df))"
   ]
  },
  {
   "cell_type": "code",
   "execution_count": 110,
   "id": "e896e8b5",
   "metadata": {},
   "outputs": [],
   "source": [
    "num_of_wrong_ans = 0\n",
    "for i in range(0, len(predicted)):\n",
    "    if(predicted[i] != answer_20p[i]):\n",
    "        num_of_wrong_ans += 1\n",
    "num_of_all_ans = len(predicted)"
   ]
  },
  {
   "cell_type": "code",
   "execution_count": 111,
   "id": "2a06e831",
   "metadata": {},
   "outputs": [],
   "source": [
    "RF_accuracy = (num_of_all_ans - num_of_wrong_ans) / num_of_all_ans * 100"
   ]
  },
  {
   "cell_type": "code",
   "execution_count": 112,
   "id": "75ca9b2c",
   "metadata": {},
   "outputs": [
    {
     "name": "stdout",
     "output_type": "stream",
     "text": [
      "Accuracy of Random Forest Algorithm : 96.56264133876074\n"
     ]
    }
   ],
   "source": [
    "print(\"Accuracy of Random Forest Algorithm :\", RF_accuracy)"
   ]
  },
  {
   "cell_type": "code",
   "execution_count": 113,
   "id": "3eaeeb4c",
   "metadata": {},
   "outputs": [
    {
     "data": {
      "image/png": "[encoded data removed]",
      "text/plain": [
       "<Figure size 432x288 with 2 Axes>"
      ]
     },
     "metadata": {
      "needs_background": "light"
     },
     "output_type": "display_data"
    }
   ],
   "source": [
    "cm = metrics.confusion_matrix(answer_20p, predicted, labels=RFC.classes_)\n",
    "disp = metrics.ConfusionMatrixDisplay(confusion_matrix=cm,display_labels=RFC.classes_)\n",
    "disp.plot()\n",
    "plt.show()"
   ]
  },
  {
   "cell_type": "code",
   "execution_count": 114,
   "id": "a9d3195e",
   "metadata": {},
   "outputs": [],
   "source": [
    "max_depth_values = [2, 5, 23, 54]\n",
    "max_features_values = [1, 2, 4, 8, 20]"
   ]
  },
  {
   "cell_type": "code",
   "execution_count": 115,
   "id": "c661c8d9",
   "metadata": {},
   "outputs": [],
   "source": [
    "accuracy_list = []\n",
    "for i in range(0, len(max_depth_values)):\n",
    "    for j in range(0, len(max_features_values)):\n",
    "        RFC = RandomForestClassifier(max_depth = max_depth_values[i], max_features = max_features_values[j])\n",
    "        RF_model = RFC.fit(train_80p_df.drop(labels = \"type\", axis = 1).values, train_80p_df[\"type\"])\n",
    "        predicted = RF_model.predict(np.array(test_20p_df))\n",
    "        num_of_wrong_ans = 0\n",
    "        for k in range(0, len(predicted)):\n",
    "            if(predicted[k] != answer_20p[k]):\n",
    "                num_of_wrong_ans += 1\n",
    "        num_of_all_ans = len(predicted)\n",
    "        curr_accuracy = (num_of_all_ans - num_of_wrong_ans) / num_of_all_ans * 100\n",
    "        accuracy_list.append([i, j, curr_accuracy])"
   ]
  },
  {
   "cell_type": "code",
   "execution_count": 116,
   "id": "569a3583",
   "metadata": {},
   "outputs": [
    {
     "name": "stdout",
     "output_type": "stream",
     "text": [
      "Accuracy of Random Forest Classification with max_depth = 2 and max_features = 1 is : 86.34102216191768\n",
      "Accuracy of Random Forest Classification with max_depth = 2 and max_features = 2 is : 88.24061510628674\n",
      "Accuracy of Random Forest Classification with max_depth = 2 and max_features = 4 is : 89.32609678878336\n",
      "Accuracy of Random Forest Classification with max_depth = 2 and max_features = 8 is : 85.3459972862958\n",
      "Accuracy of Random Forest Classification with max_depth = 2 and max_features = 20 is : 87.33604703753957\n",
      "Accuracy of Random Forest Classification with max_depth = 5 and max_features = 1 is : 89.00949796472185\n",
      "Accuracy of Random Forest Classification with max_depth = 5 and max_features = 2 is : 89.41655359565807\n",
      "Accuracy of Random Forest Classification with max_depth = 5 and max_features = 4 is : 90.41157847127997\n",
      "Accuracy of Random Forest Classification with max_depth = 5 and max_features = 8 is : 90.32112166440524\n",
      "Accuracy of Random Forest Classification with max_depth = 5 and max_features = 20 is : 97.01492537313433\n",
      "Accuracy of Random Forest Classification with max_depth = 23 and max_features = 1 is : 93.12528267752148\n",
      "Accuracy of Random Forest Classification with max_depth = 23 and max_features = 2 is : 94.57259158751697\n",
      "Accuracy of Random Forest Classification with max_depth = 23 and max_features = 4 is : 97.60289461781998\n",
      "Accuracy of Random Forest Classification with max_depth = 23 and max_features = 8 is : 98.23609226594301\n",
      "Accuracy of Random Forest Classification with max_depth = 23 and max_features = 20 is : 99.27634554500227\n",
      "Accuracy of Random Forest Classification with max_depth = 54 and max_features = 1 is : 93.53233830845771\n",
      "Accuracy of Random Forest Classification with max_depth = 54 and max_features = 2 is : 93.80370872908186\n",
      "Accuracy of Random Forest Classification with max_depth = 54 and max_features = 4 is : 96.42695612844867\n",
      "Accuracy of Random Forest Classification with max_depth = 54 and max_features = 8 is : 97.82903663500679\n",
      "Accuracy of Random Forest Classification with max_depth = 54 and max_features = 20 is : 98.32654907281773\n"
     ]
    }
   ],
   "source": [
    "for acc in accuracy_list:\n",
    "    print(\"Accuracy of Random Forest Classification with max_depth =\", max_depth_values[acc[0]],\"and max_features =\", max_features_values[acc[1]], \"is :\", acc[2])"
   ]
  },
  {
   "cell_type": "code",
   "execution_count": 117,
   "id": "41c39fc1",
   "metadata": {
    "scrolled": true
   },
   "outputs": [
    {
     "data": {
      "image/png": "[encoded data removed]",
      "text/plain": [
       "<Figure size 1000x500 with 1 Axes>"
      ]
     },
     "metadata": {
      "needs_background": "light"
     },
     "output_type": "display_data"
    }
   ],
   "source": [
    "count = list(range(1, len(accuracy_list) + 1))\n",
    "x_vals = [\"D=\" + str(max_depth_values[acc[0]]) + \"\\n\" + \"F=\" + str(max_features_values[acc[1]]) for acc in accuracy_list]\n",
    "y_vals = [acc[2] for acc in accuracy_list]\n",
    "plt.figure(figsize=(10, 5), dpi=100)\n",
    "plt.bar(count, y_vals ,color='b',width=.5)\n",
    "plt.xlabel(\"Max Depth and Max Features\", fontweight ='bold')\n",
    "plt.xticks(count, x_vals)\n",
    "plt.ylabel(\"Accuracy\", fontweight ='bold')\n",
    "plt.title(\"Accuracy by Different Max Depths\", fontweight ='bold')\n",
    "plt.show()"
   ]
  },
  {
   "cell_type": "markdown",
   "id": "feec6d85",
   "metadata": {},
   "source": [
    "### by incresing max_depth and max_features, the accuracy increses too, because in low values of max_depth and max_features, Underfitting occures in each tree and also occures in Random Forest model. In high values of max_depth and max_features, Overfitting occures in each tree and also occures in Random Forest model."
   ]
  },
  {
   "cell_type": "code",
   "execution_count": 118,
   "id": "cc68bd28",
   "metadata": {},
   "outputs": [
    {
     "name": "stdout",
     "output_type": "stream",
     "text": [
      "Random Forest Accuracy : 96.56264133876074 \n",
      "Decision Tree Accuracy : 99.36680235187698\n"
     ]
    }
   ],
   "source": [
    "print(\"Random Forest Accuracy :\", RF_accuracy, \"\\nDecision Tree Accuracy :\", accuracy)"
   ]
  },
  {
   "cell_type": "markdown",
   "id": "3c884a3e",
   "metadata": {},
   "source": [
    "### According to the above result, Decision Tree algorithm in this problem and with this dataset, works better than Random Forest algorithm."
   ]
  },
  {
   "cell_type": "markdown",
   "id": "631658d7",
   "metadata": {},
   "source": [
    "## Bias and Variance:"
   ]
  },
  {
   "cell_type": "markdown",
   "id": "3d63f53a",
   "metadata": {},
   "source": [
    "### High Bias means Underfitting and High Variance means Overfitting."
   ]
  },
  {
   "cell_type": "markdown",
   "id": "82ec04f9",
   "metadata": {},
   "source": [
    "### We want to minimize Tatal Error in our models, that calculated by below formula:"
   ]
  },
  {
   "cell_type": "markdown",
   "id": "9e417445",
   "metadata": {},
   "source": [
    "### Total Error = Bias ^ 2 + Variance + Irreducible Error"
   ]
  },
  {
   "cell_type": "markdown",
   "id": "6ee35642",
   "metadata": {},
   "source": [
    "### If Variance or Bias is high, The Random Forst will be better.\n",
    "### If Bias and Variance is low, The Decision Tree will be better."
   ]
  },
  {
   "cell_type": "markdown",
   "id": "867a082d",
   "metadata": {},
   "source": [
    "### The last two diagrams, show above facts."
   ]
  }
 ],
 "metadata": {
  "kernelspec": {
   "display_name": "Python 3 (ipykernel)",
   "language": "python",
   "name": "python3"
  },
  "language_info": {
   "codemirror_mode": {
    "name": "ipython",
    "version": 3
   },
   "file_extension": ".py",
   "mimetype": "text/x-python",
   "name": "python",
   "nbconvert_exporter": "python",
   "pygments_lexer": "ipython3",
   "version": "3.8.10"
  }
 },
 "nbformat": 4,
 "nbformat_minor": 5
}
